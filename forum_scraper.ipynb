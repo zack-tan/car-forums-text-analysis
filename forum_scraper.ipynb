{
 "cells": [
  {
   "cell_type": "markdown",
   "metadata": {},
   "source": [
    "## Packages"
   ]
  },
  {
   "cell_type": "code",
   "execution_count": 1,
   "metadata": {},
   "outputs": [],
   "source": [
    "import bs4 as bs\n",
    "from bs4 import BeautifulSoup\n",
    "import requests\n",
    "import csv\n",
    "import pandas as pd\n",
    "import time\n",
    "\n",
    "from selenium import webdriver\n",
    "from selenium.webdriver.chrome.options import Options\n",
    "\n",
    "from selenium.webdriver.common.by import By\n",
    "from selenium.webdriver.support.ui import WebDriverWait\n",
    "\n",
    "from selenium.webdriver.chrome.options import Options\n",
    "from webdriver_manager.chrome import ChromeDriverManager\n",
    "\n",
    "from selenium import webdriver\n",
    "from selenium.webdriver.common.action_chains import ActionChains"
   ]
  },
  {
   "cell_type": "markdown",
   "metadata": {},
   "source": [
    "## Chrome Driver "
   ]
  },
  {
   "cell_type": "code",
   "execution_count": 41,
   "metadata": {},
   "outputs": [
    {
     "name": "stderr",
     "output_type": "stream",
     "text": [
      "\n",
      "\n",
      "====== WebDriver manager ======\n",
      "Current google-chrome version is 97.0.4692\n",
      "Get LATEST driver version for 97.0.4692\n",
      "Driver [/Users/ananyanair/.wdm/drivers/chromedriver/mac64/97.0.4692.71/chromedriver] found in cache\n"
     ]
    }
   ],
   "source": [
    "chrome_options = Options()\n",
    "\n",
    "#opens the website\n",
    "driver = webdriver.Chrome(ChromeDriverManager().install()) #gets the new version of chrome \n",
    "driver.maximize_window()\n",
    "\n",
    "url = \"https://forums.edmunds.com/discussion/2444/general/x/what-car-is-right-for-me-help-me-choose\"\n",
    "driver.get(url)"
   ]
  },
  {
   "cell_type": "markdown",
   "metadata": {},
   "source": [
    "- load the page \n",
    "- scrape text \n",
    "- click next \n",
    "- iterate through all pages "
   ]
  },
  {
   "cell_type": "code",
   "execution_count": 42,
   "metadata": {},
   "outputs": [],
   "source": [
    "\n",
    "#function to click next \n",
    "def click_next():\n",
    "    try: \n",
    "        element = driver.find_element_by_css_selector(\"[title*='Next Page']\")\n",
    "        element.click()\n",
    "    except IndexError: \n",
    "        print(\"Next button not found\")\n",
    "        \n",
    "\n",
    "    "
   ]
  },
  {
   "cell_type": "code",
   "execution_count": 43,
   "metadata": {},
   "outputs": [],
   "source": [
    "messages_list = []\n",
    "users_list = []\n",
    "dates_list = []\n",
    "num_pages = 84\n"
   ]
  },
  {
   "cell_type": "code",
   "execution_count": 44,
   "metadata": {},
   "outputs": [
    {
     "name": "stdout",
     "output_type": "stream",
     "text": [
      "Done scraping 0 of 84 pages.\n",
      "Done scraping 1 of 84 pages.\n",
      "Done scraping 2 of 84 pages.\n",
      "Done scraping 3 of 84 pages.\n",
      "Done scraping 4 of 84 pages.\n",
      "Done scraping 5 of 84 pages.\n",
      "Done scraping 6 of 84 pages.\n",
      "Done scraping 7 of 84 pages.\n",
      "Done scraping 8 of 84 pages.\n",
      "Done scraping 9 of 84 pages.\n",
      "Done scraping 10 of 84 pages.\n",
      "Done scraping 11 of 84 pages.\n",
      "Done scraping 12 of 84 pages.\n",
      "Done scraping 13 of 84 pages.\n",
      "Done scraping 14 of 84 pages.\n",
      "Done scraping 15 of 84 pages.\n",
      "Done scraping 16 of 84 pages.\n",
      "Done scraping 17 of 84 pages.\n",
      "Done scraping 18 of 84 pages.\n",
      "Done scraping 19 of 84 pages.\n",
      "Done scraping 20 of 84 pages.\n",
      "Done scraping 21 of 84 pages.\n",
      "Done scraping 22 of 84 pages.\n",
      "Done scraping 23 of 84 pages.\n",
      "Done scraping 24 of 84 pages.\n",
      "Done scraping 25 of 84 pages.\n",
      "Done scraping 26 of 84 pages.\n",
      "Done scraping 27 of 84 pages.\n",
      "Done scraping 28 of 84 pages.\n",
      "Done scraping 29 of 84 pages.\n",
      "Done scraping 30 of 84 pages.\n",
      "Done scraping 31 of 84 pages.\n",
      "Done scraping 32 of 84 pages.\n",
      "Done scraping 33 of 84 pages.\n",
      "Done scraping 34 of 84 pages.\n",
      "Done scraping 35 of 84 pages.\n",
      "Done scraping 36 of 84 pages.\n",
      "Done scraping 37 of 84 pages.\n",
      "Done scraping 38 of 84 pages.\n",
      "Done scraping 39 of 84 pages.\n",
      "Done scraping 40 of 84 pages.\n",
      "Done scraping 41 of 84 pages.\n",
      "Done scraping 42 of 84 pages.\n",
      "Done scraping 43 of 84 pages.\n",
      "Done scraping 44 of 84 pages.\n",
      "Done scraping 45 of 84 pages.\n",
      "Done scraping 46 of 84 pages.\n",
      "Done scraping 47 of 84 pages.\n",
      "Done scraping 48 of 84 pages.\n",
      "Done scraping 49 of 84 pages.\n",
      "Done scraping 50 of 84 pages.\n",
      "Done scraping 51 of 84 pages.\n",
      "Done scraping 52 of 84 pages.\n",
      "Done scraping 53 of 84 pages.\n",
      "Done scraping 54 of 84 pages.\n",
      "Done scraping 55 of 84 pages.\n",
      "Done scraping 56 of 84 pages.\n",
      "Done scraping 57 of 84 pages.\n",
      "Done scraping 58 of 84 pages.\n",
      "Done scraping 59 of 84 pages.\n",
      "Done scraping 60 of 84 pages.\n",
      "Done scraping 61 of 84 pages.\n",
      "Done scraping 62 of 84 pages.\n",
      "Done scraping 63 of 84 pages.\n",
      "Done scraping 64 of 84 pages.\n",
      "Done scraping 65 of 84 pages.\n",
      "Done scraping 66 of 84 pages.\n",
      "Done scraping 67 of 84 pages.\n",
      "Done scraping 68 of 84 pages.\n",
      "Done scraping 69 of 84 pages.\n",
      "Done scraping 70 of 84 pages.\n",
      "Done scraping 71 of 84 pages.\n",
      "Done scraping 72 of 84 pages.\n",
      "Done scraping 73 of 84 pages.\n",
      "Done scraping 74 of 84 pages.\n",
      "Done scraping 75 of 84 pages.\n",
      "Done scraping 76 of 84 pages.\n",
      "Done scraping 77 of 84 pages.\n",
      "Done scraping 78 of 84 pages.\n",
      "Done scraping 79 of 84 pages.\n",
      "Done scraping 80 of 84 pages.\n",
      "Done scraping 81 of 84 pages.\n",
      "Done scraping 82 of 84 pages.\n",
      "Done scraping 83 of 84 pages.\n"
     ]
    },
    {
     "ename": "NoSuchElementException",
     "evalue": "Message: no such element: Unable to locate element: {\"method\":\"css selector\",\"selector\":\"[title*='Next Page']\"}\n  (Session info: chrome=97.0.4692.71)\n",
     "output_type": "error",
     "traceback": [
      "\u001b[0;31m---------------------------------------------------------------------------\u001b[0m",
      "\u001b[0;31mNoSuchElementException\u001b[0m                    Traceback (most recent call last)",
      "\u001b[0;32m/var/folders/ng/_pmg5th94cv_sncvyjylvr0w0000gn/T/ipykernel_7890/3000476066.py\u001b[0m in \u001b[0;36m<module>\u001b[0;34m\u001b[0m\n\u001b[1;32m     21\u001b[0m \u001b[0;34m\u001b[0m\u001b[0m\n\u001b[1;32m     22\u001b[0m     \u001b[0mprint\u001b[0m\u001b[0;34m(\u001b[0m\u001b[0;34m\"Done scraping\"\u001b[0m\u001b[0;34m,\u001b[0m \u001b[0mpage_count\u001b[0m\u001b[0;34m,\u001b[0m \u001b[0;34m\"of 84 pages.\"\u001b[0m\u001b[0;34m)\u001b[0m\u001b[0;34m\u001b[0m\u001b[0;34m\u001b[0m\u001b[0m\n\u001b[0;32m---> 23\u001b[0;31m     \u001b[0mclick_next\u001b[0m\u001b[0;34m(\u001b[0m\u001b[0;34m)\u001b[0m\u001b[0;34m\u001b[0m\u001b[0;34m\u001b[0m\u001b[0m\n\u001b[0m\u001b[1;32m     24\u001b[0m     \u001b[0mtime\u001b[0m\u001b[0;34m.\u001b[0m\u001b[0msleep\u001b[0m\u001b[0;34m(\u001b[0m\u001b[0;36m5\u001b[0m\u001b[0;34m)\u001b[0m\u001b[0;34m\u001b[0m\u001b[0;34m\u001b[0m\u001b[0m\n\u001b[1;32m     25\u001b[0m \u001b[0;34m\u001b[0m\u001b[0m\n",
      "\u001b[0;32m/var/folders/ng/_pmg5th94cv_sncvyjylvr0w0000gn/T/ipykernel_7890/4079652428.py\u001b[0m in \u001b[0;36mclick_next\u001b[0;34m()\u001b[0m\n\u001b[1;32m      2\u001b[0m \u001b[0;32mdef\u001b[0m \u001b[0mclick_next\u001b[0m\u001b[0;34m(\u001b[0m\u001b[0;34m)\u001b[0m\u001b[0;34m:\u001b[0m\u001b[0;34m\u001b[0m\u001b[0;34m\u001b[0m\u001b[0m\n\u001b[1;32m      3\u001b[0m     \u001b[0;32mtry\u001b[0m\u001b[0;34m:\u001b[0m\u001b[0;34m\u001b[0m\u001b[0;34m\u001b[0m\u001b[0m\n\u001b[0;32m----> 4\u001b[0;31m         \u001b[0melement\u001b[0m \u001b[0;34m=\u001b[0m \u001b[0mdriver\u001b[0m\u001b[0;34m.\u001b[0m\u001b[0mfind_element_by_css_selector\u001b[0m\u001b[0;34m(\u001b[0m\u001b[0;34m\"[title*='Next Page']\"\u001b[0m\u001b[0;34m)\u001b[0m\u001b[0;34m\u001b[0m\u001b[0;34m\u001b[0m\u001b[0m\n\u001b[0m\u001b[1;32m      5\u001b[0m         \u001b[0melement\u001b[0m\u001b[0;34m.\u001b[0m\u001b[0mclick\u001b[0m\u001b[0;34m(\u001b[0m\u001b[0;34m)\u001b[0m\u001b[0;34m\u001b[0m\u001b[0;34m\u001b[0m\u001b[0m\n\u001b[1;32m      6\u001b[0m     \u001b[0;32mexcept\u001b[0m \u001b[0mIndexError\u001b[0m\u001b[0;34m:\u001b[0m\u001b[0;34m\u001b[0m\u001b[0;34m\u001b[0m\u001b[0m\n",
      "\u001b[0;32m~/opt/anaconda3/lib/python3.8/site-packages/selenium/webdriver/remote/webdriver.py\u001b[0m in \u001b[0;36mfind_element_by_css_selector\u001b[0;34m(self, css_selector)\u001b[0m\n\u001b[1;32m    596\u001b[0m             \u001b[0melement\u001b[0m \u001b[0;34m=\u001b[0m \u001b[0mdriver\u001b[0m\u001b[0;34m.\u001b[0m\u001b[0mfind_element_by_css_selector\u001b[0m\u001b[0;34m(\u001b[0m\u001b[0;34m'#foo'\u001b[0m\u001b[0;34m)\u001b[0m\u001b[0;34m\u001b[0m\u001b[0;34m\u001b[0m\u001b[0m\n\u001b[1;32m    597\u001b[0m         \"\"\"\n\u001b[0;32m--> 598\u001b[0;31m         \u001b[0;32mreturn\u001b[0m \u001b[0mself\u001b[0m\u001b[0;34m.\u001b[0m\u001b[0mfind_element\u001b[0m\u001b[0;34m(\u001b[0m\u001b[0mby\u001b[0m\u001b[0;34m=\u001b[0m\u001b[0mBy\u001b[0m\u001b[0;34m.\u001b[0m\u001b[0mCSS_SELECTOR\u001b[0m\u001b[0;34m,\u001b[0m \u001b[0mvalue\u001b[0m\u001b[0;34m=\u001b[0m\u001b[0mcss_selector\u001b[0m\u001b[0;34m)\u001b[0m\u001b[0;34m\u001b[0m\u001b[0;34m\u001b[0m\u001b[0m\n\u001b[0m\u001b[1;32m    599\u001b[0m \u001b[0;34m\u001b[0m\u001b[0m\n\u001b[1;32m    600\u001b[0m     \u001b[0;32mdef\u001b[0m \u001b[0mfind_elements_by_css_selector\u001b[0m\u001b[0;34m(\u001b[0m\u001b[0mself\u001b[0m\u001b[0;34m,\u001b[0m \u001b[0mcss_selector\u001b[0m\u001b[0;34m)\u001b[0m\u001b[0;34m:\u001b[0m\u001b[0;34m\u001b[0m\u001b[0;34m\u001b[0m\u001b[0m\n",
      "\u001b[0;32m~/opt/anaconda3/lib/python3.8/site-packages/selenium/webdriver/remote/webdriver.py\u001b[0m in \u001b[0;36mfind_element\u001b[0;34m(self, by, value)\u001b[0m\n\u001b[1;32m    974\u001b[0m                 \u001b[0mby\u001b[0m \u001b[0;34m=\u001b[0m \u001b[0mBy\u001b[0m\u001b[0;34m.\u001b[0m\u001b[0mCSS_SELECTOR\u001b[0m\u001b[0;34m\u001b[0m\u001b[0;34m\u001b[0m\u001b[0m\n\u001b[1;32m    975\u001b[0m                 \u001b[0mvalue\u001b[0m \u001b[0;34m=\u001b[0m \u001b[0;34m'[name=\"%s\"]'\u001b[0m \u001b[0;34m%\u001b[0m \u001b[0mvalue\u001b[0m\u001b[0;34m\u001b[0m\u001b[0;34m\u001b[0m\u001b[0m\n\u001b[0;32m--> 976\u001b[0;31m         return self.execute(Command.FIND_ELEMENT, {\n\u001b[0m\u001b[1;32m    977\u001b[0m             \u001b[0;34m'using'\u001b[0m\u001b[0;34m:\u001b[0m \u001b[0mby\u001b[0m\u001b[0;34m,\u001b[0m\u001b[0;34m\u001b[0m\u001b[0;34m\u001b[0m\u001b[0m\n\u001b[1;32m    978\u001b[0m             'value': value})['value']\n",
      "\u001b[0;32m~/opt/anaconda3/lib/python3.8/site-packages/selenium/webdriver/remote/webdriver.py\u001b[0m in \u001b[0;36mexecute\u001b[0;34m(self, driver_command, params)\u001b[0m\n\u001b[1;32m    319\u001b[0m         \u001b[0mresponse\u001b[0m \u001b[0;34m=\u001b[0m \u001b[0mself\u001b[0m\u001b[0;34m.\u001b[0m\u001b[0mcommand_executor\u001b[0m\u001b[0;34m.\u001b[0m\u001b[0mexecute\u001b[0m\u001b[0;34m(\u001b[0m\u001b[0mdriver_command\u001b[0m\u001b[0;34m,\u001b[0m \u001b[0mparams\u001b[0m\u001b[0;34m)\u001b[0m\u001b[0;34m\u001b[0m\u001b[0;34m\u001b[0m\u001b[0m\n\u001b[1;32m    320\u001b[0m         \u001b[0;32mif\u001b[0m \u001b[0mresponse\u001b[0m\u001b[0;34m:\u001b[0m\u001b[0;34m\u001b[0m\u001b[0;34m\u001b[0m\u001b[0m\n\u001b[0;32m--> 321\u001b[0;31m             \u001b[0mself\u001b[0m\u001b[0;34m.\u001b[0m\u001b[0merror_handler\u001b[0m\u001b[0;34m.\u001b[0m\u001b[0mcheck_response\u001b[0m\u001b[0;34m(\u001b[0m\u001b[0mresponse\u001b[0m\u001b[0;34m)\u001b[0m\u001b[0;34m\u001b[0m\u001b[0;34m\u001b[0m\u001b[0m\n\u001b[0m\u001b[1;32m    322\u001b[0m             response['value'] = self._unwrap_value(\n\u001b[1;32m    323\u001b[0m                 response.get('value', None))\n",
      "\u001b[0;32m~/opt/anaconda3/lib/python3.8/site-packages/selenium/webdriver/remote/errorhandler.py\u001b[0m in \u001b[0;36mcheck_response\u001b[0;34m(self, response)\u001b[0m\n\u001b[1;32m    240\u001b[0m                 \u001b[0malert_text\u001b[0m \u001b[0;34m=\u001b[0m \u001b[0mvalue\u001b[0m\u001b[0;34m[\u001b[0m\u001b[0;34m'alert'\u001b[0m\u001b[0;34m]\u001b[0m\u001b[0;34m.\u001b[0m\u001b[0mget\u001b[0m\u001b[0;34m(\u001b[0m\u001b[0;34m'text'\u001b[0m\u001b[0;34m)\u001b[0m\u001b[0;34m\u001b[0m\u001b[0;34m\u001b[0m\u001b[0m\n\u001b[1;32m    241\u001b[0m             \u001b[0;32mraise\u001b[0m \u001b[0mexception_class\u001b[0m\u001b[0;34m(\u001b[0m\u001b[0mmessage\u001b[0m\u001b[0;34m,\u001b[0m \u001b[0mscreen\u001b[0m\u001b[0;34m,\u001b[0m \u001b[0mstacktrace\u001b[0m\u001b[0;34m,\u001b[0m \u001b[0malert_text\u001b[0m\u001b[0;34m)\u001b[0m\u001b[0;34m\u001b[0m\u001b[0;34m\u001b[0m\u001b[0m\n\u001b[0;32m--> 242\u001b[0;31m         \u001b[0;32mraise\u001b[0m \u001b[0mexception_class\u001b[0m\u001b[0;34m(\u001b[0m\u001b[0mmessage\u001b[0m\u001b[0;34m,\u001b[0m \u001b[0mscreen\u001b[0m\u001b[0;34m,\u001b[0m \u001b[0mstacktrace\u001b[0m\u001b[0;34m)\u001b[0m\u001b[0;34m\u001b[0m\u001b[0;34m\u001b[0m\u001b[0m\n\u001b[0m\u001b[1;32m    243\u001b[0m \u001b[0;34m\u001b[0m\u001b[0m\n\u001b[1;32m    244\u001b[0m     \u001b[0;32mdef\u001b[0m \u001b[0m_value_or_default\u001b[0m\u001b[0;34m(\u001b[0m\u001b[0mself\u001b[0m\u001b[0;34m,\u001b[0m \u001b[0mobj\u001b[0m\u001b[0;34m,\u001b[0m \u001b[0mkey\u001b[0m\u001b[0;34m,\u001b[0m \u001b[0mdefault\u001b[0m\u001b[0;34m)\u001b[0m\u001b[0;34m:\u001b[0m\u001b[0;34m\u001b[0m\u001b[0;34m\u001b[0m\u001b[0m\n",
      "\u001b[0;31mNoSuchElementException\u001b[0m: Message: no such element: Unable to locate element: {\"method\":\"css selector\",\"selector\":\"[title*='Next Page']\"}\n  (Session info: chrome=97.0.4692.71)\n"
     ]
    }
   ],
   "source": [
    "\n",
    "\n",
    "for page_count in range(num_pages):\n",
    "    time.sleep(5)    \n",
    "    page = driver.page_source\n",
    "    soup = BeautifulSoup(page,'lxml')\n",
    "\n",
    "    messages = soup.find_all('div', class_='Message userContent')\n",
    "    user_ids = soup.find_all('a', class_='Username js-userCard')\n",
    "    dates = soup.find_all('span', class_='MItem DateCreated')\n",
    "\n",
    "    #appending messages \n",
    "    for i in messages:\n",
    "            messages_list.append(i.get_text())\n",
    "\n",
    "    #appending dates\n",
    "    for i in dates:\n",
    "            dates_list.append(i.get_text())\n",
    "            \n",
    "    #appending users\n",
    "    for i in user_ids: \n",
    "        users_list.append(i.get_text())\n",
    "\n",
    "    print(\"Done scraping\", page_count, \"of 84 pages.\")\n",
    "    click_next()\n",
    "    time.sleep(5)\n",
    "\n",
    "\n",
    "    "
   ]
  },
  {
   "cell_type": "code",
   "execution_count": 49,
   "metadata": {},
   "outputs": [],
   "source": [
    "df = pd.DataFrame({\"Date\": dates_list, \"User_Id\": users_list, \"Message\": messages_list})\n",
    "df.head()\n"
   ]
  },
  {
   "cell_type": "code",
   "execution_count": 45,
   "metadata": {},
   "outputs": [],
   "source": [
    "df.to_csv('data.csv')"
   ]
  }
 ],
 "metadata": {
  "interpreter": {
   "hash": "7d3b3dcc6eca16da334aea97cc01f60b703ca846c3f8cf6688de364faaf3a707"
  },
  "kernelspec": {
   "display_name": "Python 3.8.5 64-bit ('base': conda)",
   "language": "python",
   "name": "python3"
  },
  "language_info": {
   "codemirror_mode": {
    "name": "ipython",
    "version": 3
   },
   "file_extension": ".py",
   "mimetype": "text/x-python",
   "name": "python",
   "nbconvert_exporter": "python",
   "pygments_lexer": "ipython3",
   "version": "3.8.5"
  },
  "orig_nbformat": 4
 },
 "nbformat": 4,
 "nbformat_minor": 2
}

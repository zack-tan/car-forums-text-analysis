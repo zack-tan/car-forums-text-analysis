{
 "cells": [
  {
   "cell_type": "code",
   "execution_count": 3,
   "id": "d951214d",
   "metadata": {},
   "outputs": [],
   "source": [
    "import pandas as pd\n",
    "\n",
    "#data lodading\n",
    "dataset_path = \"spam.csv\"\n",
    "spam = pd.read_csv(dataset_path, sep=\",\", encoding=\"latin-1\")\n",
    "spam = spam.rename(columns={\"v1\": \"class\", \"v2\": \"text\"})\n",
    "spam = spam.drop(spam.columns[2:], axis=1)"
   ]
  },
  {
   "cell_type": "code",
   "execution_count": 4,
   "id": "03e6b713",
   "metadata": {},
   "outputs": [
    {
     "data": {
      "text/plain": [
       "0       [Go, jurong, point, crazy, Available, bugis, n...\n",
       "1                          [Ok, lar, Joking, wif, u, oni]\n",
       "2       [Free, entry, 2, wkly, comp, win, FA, Cup, fin...\n",
       "3           [U, dun, say, early, hor, U, c, already, say]\n",
       "4       [Nah, dont, think, goes, usf, lives, around, t...\n",
       "                              ...                        \n",
       "5567    [2nd, time, tried, 2, contact, u, U, å£750, Po...\n",
       "5568                   [Ì, b, going, esplanade, fr, home]\n",
       "5569                     [Pity, mood, Soany, suggestions]\n",
       "5570    [guy, bitching, acted, like, id, interested, b...\n",
       "5571                                   [Rofl, true, name]\n",
       "Name: text, Length: 5572, dtype: object"
      ]
     },
     "execution_count": 4,
     "metadata": {},
     "output_type": "execute_result"
    }
   ],
   "source": [
    "#defining the text processing method to eliminate punctuation and stopwords\n",
    "\n",
    "import string\n",
    "\n",
    "#importing stopwords from the natural language toolkit library \n",
    "from nltk.corpus import stopwords\n",
    "\n",
    "def text_process(mess):\n",
    "    nopunc =[char for char in mess if char not in string.punctuation]\n",
    "    nopunc=''.join(nopunc)\n",
    "    return [word for word in nopunc.split() if word.lower() not in stopwords.words('english')]\n",
    "\n",
    "spam['text'].apply(text_process)"
   ]
  },
  {
   "cell_type": "code",
   "execution_count": 6,
   "id": "0847b686",
   "metadata": {},
   "outputs": [],
   "source": [
    "#splitting of test and training data\n",
    "\n",
    "from sklearn.model_selection import train_test_split\n",
    "X_train, X_test, y_train, y_test  = train_test_split(spam['text'],spam['class'],test_size=0.2, random_state = 42)"
   ]
  },
  {
   "cell_type": "code",
   "execution_count": 7,
   "id": "b181b162",
   "metadata": {},
   "outputs": [
    {
     "name": "stdout",
     "output_type": "stream",
     "text": [
      "Naive Bayes Accuracy:  0.9829596412556054\n",
      "Naive Bayes classification report:                precision    recall  f1-score   support\n",
      "\n",
      "         ham       0.99      0.99      0.99       974\n",
      "        spam       0.91      0.96      0.93       141\n",
      "\n",
      "    accuracy                           0.98      1115\n",
      "   macro avg       0.95      0.98      0.96      1115\n",
      "weighted avg       0.98      0.98      0.98      1115\n",
      "\n"
     ]
    }
   ],
   "source": [
    "#importing our model and methods\n",
    "\n",
    "#we choose to work with a multinomial Naive Bayes model\n",
    "from sklearn.naive_bayes import MultinomialNB\n",
    "\n",
    "\n",
    "#CountVectorizer converts a collection of text documents to a matrix of token counts\n",
    "from sklearn.feature_extraction.text import CountVectorizer\n",
    "\n",
    "\n",
    "#The TfidfTransformer converts a collection of documents to a matrix of TF-IDF features. \n",
    "# TFIDF is a numerical statistic that is intended to reflect how important a word is to a document in a collection or corpus\n",
    "from sklearn.feature_extraction.text import TfidfTransformer\n",
    "\n",
    "\n",
    "\n",
    "#result presentation\n",
    "from sklearn.metrics import accuracy_score, confusion_matrix, classification_report\n",
    "\n",
    "\n",
    "#fitting the vectorized X_train to the prediction model\n",
    "cv = CountVectorizer(max_features = 1500)\n",
    "cv.fit(X_train)\n",
    "\n",
    "X_train_cv = cv.transform(X_train)\n",
    "\n",
    "X_test_cv = cv.transform(X_test)\n",
    "\n",
    "\n",
    "#fitting the vectorized X train and the Y train to the MNB model\n",
    "mnb = MultinomialNB(alpha = 0.5)\n",
    "mnb.fit(X_train_cv,y_train)\n",
    "\n",
    "y_mnb = mnb.predict(X_test_cv)\n",
    "\n",
    "print('Naive Bayes Accuracy: ', accuracy_score( y_mnb , y_test))\n",
    "\n",
    "print('Naive Bayes classification report: ', classification_report(y_mnb, y_test))"
   ]
  },
  {
   "cell_type": "code",
   "execution_count": 13,
   "id": "edd0ba3f",
   "metadata": {},
   "outputs": [
    {
     "data": {
      "text/plain": [
       "Pipeline(steps=[('bow',\n",
       "                 CountVectorizer(analyzer=<function text_process at 0x0000018AFEE72C10>)),\n",
       "                ('tfidf', TfidfTransformer()),\n",
       "                ('classifier', MultinomialNB(alpha=0.5))])"
      ]
     },
     "execution_count": 13,
     "metadata": {},
     "output_type": "execute_result"
    }
   ],
   "source": [
    "#pipeline creation to accelerate sample predictions\n",
    "\n",
    "from sklearn.pipeline import Pipeline\n",
    "\n",
    "pipeline = Pipeline([\n",
    "   ( 'bow',CountVectorizer(analyzer=text_process)),\n",
    "    ('tfidf',TfidfTransformer()),\n",
    "    ('classifier',mnb),\n",
    "])\n",
    "\n",
    "\n",
    "pipeline.fit(X_train,y_train)"
   ]
  },
  {
   "cell_type": "code",
   "execution_count": 14,
   "id": "06dea53e",
   "metadata": {},
   "outputs": [
    {
     "data": {
      "text/plain": [
       "Pipeline(steps=[('bow',\n",
       "                 CountVectorizer(analyzer=<function text_process at 0x0000018AFEE72C10>)),\n",
       "                ('tfidf', TfidfTransformer()),\n",
       "                ('classifier', MultinomialNB(alpha=0.5))])"
      ]
     },
     "execution_count": 14,
     "metadata": {},
     "output_type": "execute_result"
    }
   ],
   "source": [
    "pipeline.fit(X_train,y_train)"
   ]
  },
  {
   "cell_type": "code",
   "execution_count": 16,
   "id": "ea432645",
   "metadata": {},
   "outputs": [
    {
     "data": {
      "text/plain": [
       "['ytrain.pkl']"
      ]
     },
     "execution_count": 16,
     "metadata": {},
     "output_type": "execute_result"
    }
   ],
   "source": [
    "import joblib\n",
    "\n",
    "joblib.dump(mnb, 'spam_detector_model.pkl')\n",
    "joblib.dump(text_process, 'text_process.pkl')\n",
    "joblib.dump(pipeline, 'spam_detection_pipeline.pkl')\n",
    "joblib.dump(X_train, 'xtrain.pkl')\n",
    "joblib.dump(y_train, 'ytrain.pkl')"
   ]
  },
  {
   "cell_type": "code",
   "execution_count": null,
   "id": "8b46680e",
   "metadata": {},
   "outputs": [],
   "source": []
  }
 ],
 "metadata": {
  "kernelspec": {
   "display_name": "Python 3",
   "language": "python",
   "name": "python3"
  },
  "language_info": {
   "codemirror_mode": {
    "name": "ipython",
    "version": 3
   },
   "file_extension": ".py",
   "mimetype": "text/x-python",
   "name": "python",
   "nbconvert_exporter": "python",
   "pygments_lexer": "ipython3",
   "version": "3.8.8"
  }
 },
 "nbformat": 4,
 "nbformat_minor": 5
}

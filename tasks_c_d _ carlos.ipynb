{
 "cells": [
  {
   "cell_type": "code",
   "execution_count": 47,
   "id": "c989c871",
   "metadata": {},
   "outputs": [],
   "source": [
    "import pandas as pd\n",
    "pd.set_option('display.max_colwidth', None) # to read records completely\n",
    "import pickle\n",
    "import numpy as np"
   ]
  },
  {
   "cell_type": "markdown",
   "id": "3ea2bacb",
   "metadata": {},
   "source": [
    "## Previous data prep necessary for c) and d)"
   ]
  },
  {
   "cell_type": "code",
   "execution_count": 12,
   "id": "f257edd8",
   "metadata": {},
   "outputs": [],
   "source": [
    "df = pd.read_pickle('data_clean.pkl')"
   ]
  },
  {
   "cell_type": "code",
   "execution_count": 13,
   "id": "cb56a862",
   "metadata": {},
   "outputs": [],
   "source": [
    "models = pd.read_csv('models.csv', header=None, names = ['brand', 'model'])\n",
    "models['brand'] = models['brand'].str.replace(r'[^\\w\\s]+', '', regex=True) # clean some punctuation errors (nissan.)"
   ]
  },
  {
   "cell_type": "code",
   "execution_count": 24,
   "id": "89f77adf",
   "metadata": {},
   "outputs": [],
   "source": [
    "models = models[~models.brand.isin(['car', 'sedan', 'problem'])]"
   ]
  },
  {
   "cell_type": "code",
   "execution_count": 25,
   "id": "1fdbb411",
   "metadata": {},
   "outputs": [
    {
     "data": {
      "text/plain": [
       "370"
      ]
     },
     "execution_count": 25,
     "metadata": {},
     "output_type": "execute_result"
    }
   ],
   "source": [
    "df.Message.str.contains('said').sum()"
   ]
  },
  {
   "cell_type": "code",
   "execution_count": 26,
   "id": "42bbabb4",
   "metadata": {},
   "outputs": [],
   "source": [
    "df.Message_words = df.Message_words.apply(lambda x: [i.lower() for i in x])"
   ]
  },
  {
   "cell_type": "markdown",
   "id": "55647a2e",
   "metadata": {},
   "source": [
    "### Replace models with brands"
   ]
  },
  {
   "cell_type": "code",
   "execution_count": 27,
   "id": "3e694074",
   "metadata": {},
   "outputs": [],
   "source": [
    "messages = df.Message_words.to_list()"
   ]
  },
  {
   "cell_type": "code",
   "execution_count": 28,
   "id": "4af99d2c",
   "metadata": {},
   "outputs": [],
   "source": [
    "# numpy.where to do the replacement\n",
    "messages2 = []\n",
    "t = 0\n",
    "for m in messages:\n",
    "    for i,row in models.iterrows():\n",
    "        m = np.where(m == row['model'], row['brand'], m)\n",
    "        \n",
    "    t+=1\n",
    "    \n",
    "    #print(t)\n",
    "        \n",
    "    messages2.append(m)\n",
    "        \n",
    "df['Message_words_v2'] = messages2"
   ]
  },
  {
   "cell_type": "code",
   "execution_count": 29,
   "id": "7f26cc84",
   "metadata": {},
   "outputs": [],
   "source": [
    "# let's find the occurences of changes\n",
    "m1 = df.Message_words.to_list()\n",
    "m2 = df.Message_words_v2.to_list()\n",
    "\n",
    "c = 0\n",
    "W = 0\n",
    "for i in range(len(m2)):\n",
    "    for j in range(len(m2[i])):\n",
    "        if m1[i][j] != m2[i][j]: #word by word comparison\n",
    "            c +=1\n",
    "        W += 1"
   ]
  },
  {
   "cell_type": "code",
   "execution_count": 30,
   "id": "24c73596",
   "metadata": {},
   "outputs": [
    {
     "name": "stdout",
     "output_type": "stream",
     "text": [
      "6368 changes of models\n"
     ]
    }
   ],
   "source": [
    "print(f'{c} changes of models')"
   ]
  },
  {
   "cell_type": "markdown",
   "id": "84b033a2",
   "metadata": {},
   "source": [
    "## Link attributes to models"
   ]
  },
  {
   "cell_type": "code",
   "execution_count": 39,
   "id": "fb62c477",
   "metadata": {},
   "outputs": [],
   "source": [
    "# first lets count brand mentions in each record"
   ]
  },
  {
   "cell_type": "code",
   "execution_count": 40,
   "id": "e08687fa",
   "metadata": {},
   "outputs": [],
   "source": [
    "brands_list = models.brand.drop_duplicates().to_list()"
   ]
  },
  {
   "cell_type": "code",
   "execution_count": 41,
   "id": "cf3cfdd7",
   "metadata": {},
   "outputs": [],
   "source": [
    "messages = df.Message_words_v2.to_list()"
   ]
  },
  {
   "cell_type": "code",
   "execution_count": 43,
   "id": "f592bf42",
   "metadata": {},
   "outputs": [],
   "source": [
    "brands_in_message = []\n",
    "for m in messages:\n",
    "    \n",
    "    brands_mentioned = []\n",
    "    for brand in brands_list:\n",
    "        if len(np.where(m == brand)[0]) >0:\n",
    "            brands_mentioned.append(brand)\n",
    "            \n",
    "    brands_in_message.append(brands_mentioned)\n",
    "        \n",
    "    "
   ]
  },
  {
   "cell_type": "code",
   "execution_count": 44,
   "id": "9d8e17f7",
   "metadata": {},
   "outputs": [],
   "source": [
    "df['Brands_in_message'] = brands_in_message"
   ]
  },
  {
   "cell_type": "code",
   "execution_count": 45,
   "id": "50201dfe",
   "metadata": {},
   "outputs": [],
   "source": [
    "df['Qty_brands'] = df.Brands_in_message.apply(lambda x: len(x))"
   ]
  },
  {
   "cell_type": "code",
   "execution_count": 46,
   "id": "e212d7d4",
   "metadata": {},
   "outputs": [
    {
     "data": {
      "text/plain": [
       "0     1291\n",
       "1     1215\n",
       "2      755\n",
       "3      459\n",
       "4      219\n",
       "5      109\n",
       "6       54\n",
       "7       24\n",
       "8       10\n",
       "9        6\n",
       "11       4\n",
       "10       3\n",
       "16       1\n",
       "13       1\n",
       "Name: Qty_brands, dtype: int64"
      ]
     },
     "execution_count": 46,
     "metadata": {},
     "output_type": "execute_result"
    }
   ],
   "source": [
    "df['Qty_brands'].value_counts()\n",
    "\n",
    "# Most messages discuss a single brand\n",
    "# Also common to compare 2 brands\n",
    "# 727 messages don't mention any brand (remove them from analysis?)\n",
    "# Passing a certain treshold (5+), I think it would be better to remove comments since it will be hard to figure out which\n",
    "# attribute belongs to each brand"
   ]
  },
  {
   "cell_type": "code",
   "execution_count": 49,
   "id": "49bfea68",
   "metadata": {},
   "outputs": [
    {
     "data": {
      "text/plain": [
       "0                                                                                       [need, help, choosing, next, vehicle, tell, us, price, range, thinking, new, used, buying, leasing, features, musthaves, thoughts, mind, let, us, give, hand, tell, us, criteria, specifically, canyoull, find, lots, helpful, folks, give, useful, suggestions]\n",
       "2     [buy, 2001, 2002, oldsmobile, intrigue, one, best, sedans, market, great, handling, one, best, v6, engines, around, 35l, dohc, producing, 215hp, deals, great, year, last, intrigue, warrany, extended, 5, years, car, recommended, magazines, including, consumer, reports, unfortunately, looked, consumers, sleeper, sleepers, market, opinion]\n",
       "8                                                                                                                                                                                                                                                                                      [id, pass, intrigue, one, reason, crash, test, results, terrible]\n",
       "10                                                                                                                   [way, figure, car, like, test, drive, theres, reason, test, drive, every, car, market, dont, test, drive, one, car, say, oh, like, cause, dont, test, drive, best, cars, cars, price, range, even, helps, well, dont, reference, p]\n",
       "14                                                                                                                                                                                                                                                                                              [go, s6, avant, think, great, car, ready, switch, wagon]\n",
       "16                                                                                                                                                                                                                                                                                 [topic, way, broad, people, different, price, points, vehicle, types]\n",
       "17                                                                                                                                                                         [well, considering, 17th, message, last, 2, weeks, id, say, breaking, topic, would, downright, silly, wouldnt, worry, diversity, starts, getting, hand, manageable, far, see]\n",
       "18                                                         [well, obviously, gotta, get, youll, happy, cant, fight, urges, certainly, know, thatpersonally, sheer, power, performance, s6, would, make, overlook, fact, wagon, conscience, would, keep, awake, night, chose, slower, sedan, sedan, thats, bothers, stay, clear, happy, choicegood, luck]\n",
       "21                                                                                                                                                                                                                                                                                                                                                    []\n",
       "22                                                                                                                                                                                                                   [yesbut, get, iti, suggest, keeping, long, matters, sell, rolls, orwhen, old, doubt, reliabilityit, make, great, hobbyweekend, car]\n",
       "Name: Message_words_v2, dtype: object"
      ]
     },
     "execution_count": 49,
     "metadata": {},
     "output_type": "execute_result"
    }
   ],
   "source": [
    "df.loc[df.Qty_brands == 0, 'Message_words_v2'].head(10) # to review records with no brand mentions\n",
    "# most of them are for seeking advice"
   ]
  },
  {
   "cell_type": "code",
   "execution_count": 50,
   "id": "d447fccb",
   "metadata": {},
   "outputs": [
    {
     "name": "stdout",
     "output_type": "stream",
     "text": [
      "2\n",
      "honda\n",
      "['would' 'recommend' 'honda' 'honda']\n",
      "4\n",
      "toyota\n",
      "['toyota' 'toyota' 'choices' 'sedan' 'new']\n",
      "9\n",
      "nissan\n",
      "['nissan' 'nissan' 'looks' 'impressive' 'would' 'wait' 'reliability'\n",
      " '2002' 'proventhe' 'new']\n",
      "19\n",
      "bmw\n",
      "['bmw' '525' 'another' 'nice' 'car' 'rated' 'highly' 'many' 'auto'\n",
      " 'publications']\n"
     ]
    }
   ],
   "source": [
    "m = df.Message_words_v2[9] #record 9 is a good exaple\n",
    "brand_dic = {}\n",
    "for brand in brands_list:\n",
    "    ix = np.where(m == brand)[0]\n",
    "    if len(ix) > 0:\n",
    "        brand_dic[brand] = ix[0]\n",
    "        \n",
    "\n",
    "brand_dic = dict(sorted(brand_dic.items(), key=lambda x:x[1]))\n",
    "\n",
    "brand_list = list(brand_dic.values()) + [len(m)]\n",
    "\n",
    "for i, tup in enumerate(brand_dic):\n",
    "    print(brand_dic[tup])\n",
    "    print(tup)\n",
    "    \n",
    "    if i == 0:\n",
    "        \n",
    "        print(m[0:brand_list[1]])\n",
    "    else:\n",
    "        print(m[brand_list[i]:brand_list[i+1]])\n",
    "        \n",
    "        "
   ]
  },
  {
   "cell_type": "code",
   "execution_count": 51,
   "id": "57971ed3",
   "metadata": {},
   "outputs": [],
   "source": [
    "# now we run it for all records\n",
    "\n",
    "brand_reviews = []\n",
    "\n",
    "for m in df.Message_words_v2:\n",
    "\n",
    "    brand_dic = {}\n",
    "    for brand in brands_list:\n",
    "        ix = np.where(m == brand)[0]\n",
    "        if len(ix) > 0:\n",
    "            brand_dic[brand] = ix[0]\n",
    "\n",
    "    brand_dic = dict(sorted(brand_dic.items(), key=lambda x:x[1]))\n",
    "\n",
    "    brand_list = list(brand_dic.values()) + [len(m)]\n",
    "\n",
    "\n",
    "    review={}\n",
    "    for i, tup in enumerate(brand_dic):\n",
    "        #print(brand_dic[tup])\n",
    "        #print(tup)\n",
    "\n",
    "        if i == 0:\n",
    "            \n",
    "            review[tup] = m[0:brand_list[1]]\n",
    "        else:\n",
    "            review[tup] = m[brand_list[i]:brand_list[i+1]]\n",
    "            \n",
    "    brand_reviews.append(review)\n",
    "\n",
    "# generates a list (1 entry per row) of dictionaries {brand: part of text corresponding}"
   ]
  },
  {
   "cell_type": "code",
   "execution_count": 53,
   "id": "a05655e8",
   "metadata": {},
   "outputs": [
    {
     "data": {
      "text/plain": [
       "4151"
      ]
     },
     "execution_count": 53,
     "metadata": {},
     "output_type": "execute_result"
    }
   ],
   "source": [
    "len(brand_reviews) # each record becomes a single dictionary with all its brand mentions and linked words"
   ]
  },
  {
   "cell_type": "code",
   "execution_count": 57,
   "id": "9f8d8417",
   "metadata": {},
   "outputs": [
    {
     "data": {
      "text/plain": [
       "{'honda': array(['would', 'recommend', 'honda', 'honda'], dtype='<U12'),\n",
       " 'toyota': array(['toyota', 'toyota', 'choices', 'sedan', 'new'], dtype='<U12'),\n",
       " 'nissan': array(['nissan', 'nissan', 'looks', 'impressive', 'would', 'wait',\n",
       "        'reliability', '2002', 'proventhe', 'new'], dtype='<U12'),\n",
       " 'bmw': array(['bmw', '525', 'another', 'nice', 'car', 'rated', 'highly', 'many',\n",
       "        'auto', 'publications'], dtype='<U12')}"
      ]
     },
     "execution_count": 57,
     "metadata": {},
     "output_type": "execute_result"
    }
   ],
   "source": [
    "brand_reviews[9]"
   ]
  },
  {
   "cell_type": "code",
   "execution_count": 58,
   "id": "85598847",
   "metadata": {},
   "outputs": [],
   "source": [
    "# now we need to concatenate all reviews for each brand into a single key in a dictionary\n",
    "review_accum = {i:[] for i in brands_list}"
   ]
  },
  {
   "cell_type": "code",
   "execution_count": 59,
   "id": "f7ee10fd",
   "metadata": {},
   "outputs": [],
   "source": [
    "for brand in brands_list:\n",
    "    for review in brand_reviews:\n",
    "        for single_review in review:\n",
    "            #print(review[single_review])\n",
    "            if single_review==brand:\n",
    "                review_accum[brand].extend(review[single_review])"
   ]
  },
  {
   "cell_type": "code",
   "execution_count": null,
   "id": "314be13e",
   "metadata": {},
   "outputs": [],
   "source": [
    "## from here, we are ready to start counting attributes per brand\n",
    "## we also need to consider replacing some similar attributes before doing the final count \n",
    "## I will do one example with Audi but it could become a function and run in a loop to all the brands "
   ]
  },
  {
   "cell_type": "code",
   "execution_count": null,
   "id": "499346d1",
   "metadata": {},
   "outputs": [],
   "source": [
    "# first lets discover popular attributes regardless of brands\n",
    "\n",
    "all_attributes = []\n",
    "\n",
    "for i in list(review_accum.values()):\n",
    "    all_attributes.extend(i)\n",
    "    \n",
    "words = pd.Series(all_attributes)\n",
    "\n",
    "words.value_counts().head(40) # this shows the frequencies of each word\n",
    "# the most \"rustic\" approach would be to literally print them in order and take note of the ones that can be considered \"attributes\""
   ]
  },
  {
   "cell_type": "code",
   "execution_count": 84,
   "id": "fcfc4ee2",
   "metadata": {},
   "outputs": [],
   "source": [
    "# once we have the list of the 5 most popular attributes, my guess is we have to calculate the uplift scores of said attribute\n",
    "# against the 5 top brands found in letter A). Then the uplift should tell us which brand is more related to which attribute"
   ]
  },
  {
   "cell_type": "code",
   "execution_count": 110,
   "id": "0c7b0ddd",
   "metadata": {},
   "outputs": [],
   "source": [
    "# let's say \"reliability\" is one of the popular attributes \n",
    "# and the top 5 brands are: honda, nissan, audi, bwm, toyota\n",
    "# let's get the inputs necessary to calculate uplift of reliability in nissan"
   ]
  },
  {
   "cell_type": "code",
   "execution_count": 112,
   "id": "772acee9",
   "metadata": {},
   "outputs": [
    {
     "data": {
      "text/plain": [
       "525"
      ]
     },
     "execution_count": 112,
     "metadata": {},
     "output_type": "execute_result"
    }
   ],
   "source": [
    "n=0\n",
    "for i in  df.Brands_in_message:\n",
    "    if 'nissan' in i:\n",
    "        n += 1\n",
    "n\n",
    "#nissan appears in 525 rows "
   ]
  },
  {
   "cell_type": "code",
   "execution_count": 113,
   "id": "76751eff",
   "metadata": {},
   "outputs": [
    {
     "data": {
      "text/plain": [
       "28"
      ]
     },
     "execution_count": 113,
     "metadata": {},
     "output_type": "execute_result"
    }
   ],
   "source": [
    "df_nissan = pd.DataFrame(review_accum['nissan'], columns = ['word'])\n",
    "(df_nissan.word == 'reliability').sum() # 73 mentions of \"relibaility\" in honda\n",
    "\n",
    "# and 28 times the term \"reliability\" was mentioned alongside a nissan"
   ]
  },
  {
   "cell_type": "code",
   "execution_count": 114,
   "id": "b98bd43a",
   "metadata": {},
   "outputs": [
    {
     "name": "stdout",
     "output_type": "stream",
     "text": [
      "924\n"
     ]
    },
    {
     "data": {
      "text/plain": [
       "73"
      ]
     },
     "execution_count": 114,
     "metadata": {},
     "output_type": "execute_result"
    }
   ],
   "source": [
    "# how about honda?\n",
    "\n",
    "n=0\n",
    "for i in  df.Brands_in_message:\n",
    "    if 'honda' in i:\n",
    "        n += 1\n",
    "print(n)\n",
    "\n",
    "\n",
    "df_honda = pd.DataFrame(review_accum['honda'], columns = ['word'])\n",
    "(df_honda.word == 'reliability').sum() # 73 mentions of \"relibaility\" in honda\n"
   ]
  },
  {
   "cell_type": "code",
   "execution_count": 115,
   "id": "59086e7c",
   "metadata": {},
   "outputs": [
    {
     "data": {
      "text/plain": [
       "0.07900432900432901"
      ]
     },
     "execution_count": 115,
     "metadata": {},
     "output_type": "execute_result"
    }
   ],
   "source": [
    "73/924 # not the exact uplift formula but a quick validation"
   ]
  },
  {
   "cell_type": "code",
   "execution_count": 116,
   "id": "514b3cec",
   "metadata": {},
   "outputs": [
    {
     "data": {
      "text/plain": [
       "0.05333333333333334"
      ]
     },
     "execution_count": 116,
     "metadata": {},
     "output_type": "execute_result"
    }
   ],
   "source": [
    "28/525 # vs nissan"
   ]
  },
  {
   "cell_type": "code",
   "execution_count": 117,
   "id": "9ad7f380",
   "metadata": {},
   "outputs": [],
   "source": [
    "# honda has more prevalence as a reliable brand than nissan (pending to adjust for uplift real formula)"
   ]
  },
  {
   "cell_type": "markdown",
   "id": "be5b8117",
   "metadata": {},
   "source": [
    "to consider:\n",
    "\n",
    "right now the code counts all the appearances of an attribute, even if they come from the same record; I think that is not the exact definition of the uplift formula. I don't think it will change the numbers very much, but would be good to refine it if we have the time"
   ]
  },
  {
   "cell_type": "code",
   "execution_count": null,
   "id": "3268d3e4",
   "metadata": {},
   "outputs": [],
   "source": []
  }
 ],
 "metadata": {
  "kernelspec": {
   "display_name": "Python 3",
   "language": "python",
   "name": "python3"
  },
  "language_info": {
   "codemirror_mode": {
    "name": "ipython",
    "version": 3
   },
   "file_extension": ".py",
   "mimetype": "text/x-python",
   "name": "python",
   "nbconvert_exporter": "python",
   "pygments_lexer": "ipython3",
   "version": "3.8.8"
  }
 },
 "nbformat": 4,
 "nbformat_minor": 5
}

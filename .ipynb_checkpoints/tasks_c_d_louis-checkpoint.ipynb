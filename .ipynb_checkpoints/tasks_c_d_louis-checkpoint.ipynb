{
 "cells": [
  {
   "cell_type": "code",
   "execution_count": 1,
   "id": "c989c871",
   "metadata": {},
   "outputs": [],
   "source": [
    "import pandas as pd\n",
    "pd.set_option('display.max_colwidth', None) # to read records completely\n",
    "import pickle\n",
    "import numpy as np\n",
    "import itertools\n",
    "from nltk.stem import PorterStemmer\n",
    "from sklearn.feature_extraction.text import TfidfVectorizer"
   ]
  },
  {
   "cell_type": "markdown",
   "id": "3ea2bacb",
   "metadata": {},
   "source": [
    "## Previous data prep necessary for c) and d)"
   ]
  },
  {
   "cell_type": "code",
   "execution_count": 2,
   "id": "f257edd8",
   "metadata": {},
   "outputs": [],
   "source": [
    "df = pd.read_pickle('data_clean.pkl')"
   ]
  },
  {
   "cell_type": "code",
   "execution_count": 3,
   "id": "cb56a862",
   "metadata": {},
   "outputs": [],
   "source": [
    "models = pd.read_csv('models.csv', header=None, names = ['brand', 'model'])\n",
    "models['brand'] = models['brand'].str.replace(r'[^\\w\\s]+', '', regex=True) # clean some punctuation errors (nissan.)"
   ]
  },
  {
   "cell_type": "code",
   "execution_count": 4,
   "id": "89f77adf",
   "metadata": {},
   "outputs": [],
   "source": [
    "models = models[~models.brand.isin(['car', 'sedan', 'problem'])]"
   ]
  },
  {
   "cell_type": "code",
   "execution_count": 5,
   "id": "1fdbb411",
   "metadata": {},
   "outputs": [
    {
     "data": {
      "text/plain": [
       "370"
      ]
     },
     "execution_count": 5,
     "metadata": {},
     "output_type": "execute_result"
    }
   ],
   "source": [
    "df.Message.str.contains('said').sum()"
   ]
  },
  {
   "cell_type": "code",
   "execution_count": 6,
   "id": "42bbabb4",
   "metadata": {},
   "outputs": [],
   "source": [
    "df.Message_words = df.Message_words.apply(lambda x: [i.lower() for i in x])"
   ]
  },
  {
   "cell_type": "markdown",
   "id": "55647a2e",
   "metadata": {},
   "source": [
    "### Replace models with brands"
   ]
  },
  {
   "cell_type": "code",
   "execution_count": 7,
   "id": "3e694074",
   "metadata": {},
   "outputs": [],
   "source": [
    "messages = df.Message_words.to_list()"
   ]
  },
  {
   "cell_type": "code",
   "execution_count": null,
   "id": "4af99d2c",
   "metadata": {},
   "outputs": [],
   "source": [
    "# numpy.where to do the replacement\n",
    "messages2 = []\n",
    "t = 0\n",
    "for m in messages:\n",
    "    for i,row in models.iterrows():\n",
    "        m = np.where(m == row['model'], row['brand'], m)\n",
    "        \n",
    "    t+=1\n",
    "    \n",
    "    #print(t)\n",
    "        \n",
    "    messages2.append(m)\n",
    "        \n",
    "df['Message_words_v2'] = messages2"
   ]
  },
  {
   "cell_type": "code",
   "execution_count": null,
   "id": "7f26cc84",
   "metadata": {},
   "outputs": [],
   "source": [
    "# let's find the occurences of changes\n",
    "m1 = df.Message_words.to_list()\n",
    "m2 = df.Message_words_v2.to_list()\n",
    "\n",
    "c = 0\n",
    "W = 0\n",
    "for i in range(len(m2)):\n",
    "    for j in range(len(m2[i])):\n",
    "        if m1[i][j] != m2[i][j]: #word by word comparison\n",
    "            c +=1\n",
    "        W += 1"
   ]
  },
  {
   "cell_type": "code",
   "execution_count": null,
   "id": "24c73596",
   "metadata": {},
   "outputs": [],
   "source": [
    "print(f'{c} changes of models')"
   ]
  },
  {
   "cell_type": "code",
   "execution_count": null,
   "id": "fca77850",
   "metadata": {
    "scrolled": false
   },
   "outputs": [],
   "source": [
    "df.head(10)"
   ]
  },
  {
   "cell_type": "code",
   "execution_count": null,
   "id": "3d7ca27e",
   "metadata": {},
   "outputs": [],
   "source": [
    "#Get a unique list of brands\n",
    "brands_list = models.brand.drop_duplicates().to_list()"
   ]
  },
  {
   "cell_type": "code",
   "execution_count": null,
   "id": "599e9a7a",
   "metadata": {},
   "outputs": [],
   "source": [
    "#Removing duplicates in lists while keeping order\n",
    "#import itertools\n",
    "def remove_consecutive_duplicate (text):\n",
    "    return np.array([i for i, j in itertools.groupby(text)])"
   ]
  },
  {
   "cell_type": "code",
   "execution_count": null,
   "id": "dbac11f9",
   "metadata": {},
   "outputs": [],
   "source": []
  },
  {
   "cell_type": "code",
   "execution_count": null,
   "id": "3d495fa6",
   "metadata": {},
   "outputs": [],
   "source": [
    "df[\"Message_words_v3\"] = df[\"Message_words_v2\"].apply(remove_consecutive_duplicate)"
   ]
  },
  {
   "cell_type": "code",
   "execution_count": null,
   "id": "fa9972f9",
   "metadata": {},
   "outputs": [],
   "source": [
    "type(df[\"Message_words_v2\"][0])"
   ]
  },
  {
   "cell_type": "code",
   "execution_count": null,
   "id": "d2096d25",
   "metadata": {},
   "outputs": [],
   "source": [
    "type(df[\"Message_words_v3\"][0])"
   ]
  },
  {
   "cell_type": "code",
   "execution_count": null,
   "id": "32e8fa54",
   "metadata": {},
   "outputs": [],
   "source": [
    "df.head(10)"
   ]
  },
  {
   "cell_type": "code",
   "execution_count": null,
   "id": "316bd44c",
   "metadata": {},
   "outputs": [],
   "source": [
    "#Removing duplicate brands in lists but only"
   ]
  },
  {
   "cell_type": "markdown",
   "id": "84b033a2",
   "metadata": {},
   "source": [
    "## Link attributes to models"
   ]
  },
  {
   "cell_type": "code",
   "execution_count": null,
   "id": "fb62c477",
   "metadata": {},
   "outputs": [],
   "source": [
    "# first lets count brand mentions in each record"
   ]
  },
  {
   "cell_type": "code",
   "execution_count": null,
   "id": "cf3cfdd7",
   "metadata": {},
   "outputs": [],
   "source": [
    "messages = df.Message_words_v3.to_list()"
   ]
  },
  {
   "cell_type": "code",
   "execution_count": null,
   "id": "f592bf42",
   "metadata": {},
   "outputs": [],
   "source": [
    "brands_in_message = []\n",
    "for m in messages:\n",
    "    \n",
    "    brands_mentioned = []\n",
    "    for brand in brands_list:\n",
    "        if len(np.where(m == brand)[0]) >0:\n",
    "            brands_mentioned.append(brand)\n",
    "            \n",
    "    brands_in_message.append(brands_mentioned)\n",
    "        \n",
    "    "
   ]
  },
  {
   "cell_type": "code",
   "execution_count": null,
   "id": "9d8e17f7",
   "metadata": {},
   "outputs": [],
   "source": [
    "df['Brands_in_message'] = brands_in_message"
   ]
  },
  {
   "cell_type": "code",
   "execution_count": null,
   "id": "50201dfe",
   "metadata": {},
   "outputs": [],
   "source": [
    "df['Qty_brands'] = df.Brands_in_message.apply(lambda x: len(x))"
   ]
  },
  {
   "cell_type": "code",
   "execution_count": null,
   "id": "e212d7d4",
   "metadata": {},
   "outputs": [],
   "source": [
    "df['Qty_brands'].value_counts()\n",
    "\n",
    "# Most messages discuss a single brand\n",
    "# Also common to compare 2 brands\n",
    "# 727 messages don't mention any brand (remove them from analysis?)\n",
    "# Passing a certain treshold (5+), I think it would be better to remove comments since it will be hard to figure out which\n",
    "# attribute belongs to each brand"
   ]
  },
  {
   "cell_type": "code",
   "execution_count": null,
   "id": "49bfea68",
   "metadata": {},
   "outputs": [],
   "source": [
    "df.loc[df.Qty_brands == 0, 'Message_words_v3'].head(10) # to review records with no brand mentions\n",
    "# most of them are for seeking advice"
   ]
  },
  {
   "cell_type": "code",
   "execution_count": null,
   "id": "d447fccb",
   "metadata": {},
   "outputs": [],
   "source": [
    "m = df.Message_words_v3[9] #record 9 is a good exaple\n",
    "brand_dic = {}\n",
    "for brand in brands_list:\n",
    "    ix = np.where(m == brand)[0]\n",
    "    if len(ix) > 0:\n",
    "        brand_dic[brand] = ix[0]\n",
    "        \n",
    "\n",
    "brand_dic = dict(sorted(brand_dic.items(), key=lambda x:x[1]))\n",
    "\n",
    "brand_list = list(brand_dic.values()) + [len(m)]\n",
    "\n",
    "for i, tup in enumerate(brand_dic):\n",
    "    print(brand_dic[tup])\n",
    "    print(tup)\n",
    "    \n",
    "    if i == 0:\n",
    "        \n",
    "        print(m[0:brand_list[1]])\n",
    "    else:\n",
    "        print(m[brand_list[i]:brand_list[i+1]])\n",
    "        \n",
    "        "
   ]
  },
  {
   "cell_type": "code",
   "execution_count": null,
   "id": "57971ed3",
   "metadata": {},
   "outputs": [],
   "source": [
    "# now we run it for all records\n",
    "\n",
    "brand_reviews = []\n",
    "\n",
    "for m in df.Message_words_v3:\n",
    "\n",
    "    brand_dic = {}\n",
    "    for brand in brands_list:\n",
    "        ix = np.where(m == brand)[0]\n",
    "        if len(ix) > 0:\n",
    "            brand_dic[brand] = ix[0]\n",
    "\n",
    "    brand_dic = dict(sorted(brand_dic.items(), key=lambda x:x[1]))\n",
    "\n",
    "    brand_list = list(brand_dic.values()) + [len(m)]\n",
    "\n",
    "\n",
    "    review={}\n",
    "    for i, tup in enumerate(brand_dic):\n",
    "        #print(brand_dic[tup])\n",
    "        #print(tup)\n",
    "\n",
    "        if i == 0:\n",
    "            \n",
    "            review[tup] = m[0:brand_list[1]]\n",
    "        else:\n",
    "            review[tup] = m[brand_list[i]:brand_list[i+1]]\n",
    "            \n",
    "    brand_reviews.append(review)\n",
    "\n",
    "# generates a list (1 entry per row) of dictionaries {brand: part of text corresponding}"
   ]
  },
  {
   "cell_type": "code",
   "execution_count": null,
   "id": "a05655e8",
   "metadata": {},
   "outputs": [],
   "source": [
    "len(brand_reviews) # each record becomes a single dictionary with all its brand mentions and linked words"
   ]
  },
  {
   "cell_type": "code",
   "execution_count": null,
   "id": "9f8d8417",
   "metadata": {},
   "outputs": [],
   "source": [
    "brand_reviews[9]"
   ]
  },
  {
   "cell_type": "code",
   "execution_count": null,
   "id": "85598847",
   "metadata": {},
   "outputs": [],
   "source": [
    "# now we need to concatenate all reviews for each brand into a single key in a dictionary\n",
    "review_accum = {i:[] for i in brands_list}"
   ]
  },
  {
   "cell_type": "code",
   "execution_count": null,
   "id": "f7ee10fd",
   "metadata": {},
   "outputs": [],
   "source": [
    "for brand in brands_list:\n",
    "    for review in brand_reviews:\n",
    "        for single_review in review:\n",
    "            #print(review[single_review])\n",
    "            if single_review==brand:\n",
    "                review_accum[brand].extend(review[single_review])"
   ]
  },
  {
   "cell_type": "code",
   "execution_count": null,
   "id": "314be13e",
   "metadata": {},
   "outputs": [],
   "source": [
    "## from here, we are ready to start counting attributes per brand\n",
    "## we also need to consider replacing some similar attributes before doing the final count \n",
    "## I will do one example with Audi but it could become a function and run in a loop to all the brands "
   ]
  },
  {
   "cell_type": "code",
   "execution_count": null,
   "id": "499346d1",
   "metadata": {
    "scrolled": true
   },
   "outputs": [],
   "source": [
    "# first lets discover popular attributes regardless of brands\n",
    "\n",
    "all_attributes = []\n",
    "\n",
    "for i in list(review_accum.values()):\n",
    "    all_attributes.extend(i)\n",
    "    \n",
    "words = pd.Series(all_attributes)\n",
    "\n",
    "words.value_counts().head(40) # this shows the frequencies of each word\n",
    "# the most \"rustic\" approach would be to literally print them in order and take note of the ones that can be considered \"attributes\""
   ]
  },
  {
   "cell_type": "code",
   "execution_count": null,
   "id": "e9de0fb9",
   "metadata": {
    "scrolled": true
   },
   "outputs": [],
   "source": [
    "words[~words.isin(brands_list)].value_counts().head(60)\n"
   ]
  },
  {
   "cell_type": "code",
   "execution_count": null,
   "id": "25a23f77",
   "metadata": {},
   "outputs": [],
   "source": [
    "words_count = words.value_counts()\n",
    "words_nobrands_count = words[~words.isin(brands_list)].value_counts()"
   ]
  },
  {
   "cell_type": "markdown",
   "id": "308c0828",
   "metadata": {},
   "source": [
    "### Stemming"
   ]
  },
  {
   "cell_type": "code",
   "execution_count": null,
   "id": "207f9071",
   "metadata": {},
   "outputs": [],
   "source": [
    "#Stemming\n",
    "stemmer = PorterStemmer()"
   ]
  },
  {
   "cell_type": "code",
   "execution_count": null,
   "id": "bbc6f3cf",
   "metadata": {},
   "outputs": [],
   "source": [
    "def stem_list (text):\n",
    "    return pd.Series([stemmer.stem(w) for w in text])"
   ]
  },
  {
   "cell_type": "code",
   "execution_count": null,
   "id": "8ef290d9",
   "metadata": {},
   "outputs": [],
   "source": [
    "stemmed_words = stem_list(words)\n",
    "len(stemmed_words)"
   ]
  },
  {
   "cell_type": "code",
   "execution_count": null,
   "id": "991bf9ba",
   "metadata": {
    "scrolled": true
   },
   "outputs": [],
   "source": [
    "stemmed_words.value_counts().head(60)"
   ]
  },
  {
   "cell_type": "code",
   "execution_count": null,
   "id": "6d686686",
   "metadata": {
    "scrolled": true
   },
   "outputs": [],
   "source": [
    "stemmed_words[~stemmed_words.isin(brands_list)].value_counts().head(60)\n"
   ]
  },
  {
   "cell_type": "code",
   "execution_count": null,
   "id": "fb673039",
   "metadata": {},
   "outputs": [],
   "source": [
    "stemwords_count = stemmed_words.value_counts()\n",
    "stemwords_nobrands_count = stemmed_words[~stemmed_words.isin(brands_list)].value_counts()"
   ]
  },
  {
   "cell_type": "code",
   "execution_count": null,
   "id": "929b0f19",
   "metadata": {},
   "outputs": [],
   "source": [
    "#Export value count series to a single multi-sheet Excel\n",
    "#pip install xlsxwriter\n",
    "writer = pd.ExcelWriter('attribute_count.xlsx', engine='xlsxwriter')\n"
   ]
  },
  {
   "cell_type": "code",
   "execution_count": null,
   "id": "0e136b1e",
   "metadata": {},
   "outputs": [],
   "source": [
    "words_count.to_excel(writer, sheet_name='words_valuecounts')\n",
    "words_nobrands_count.to_excel(writer, sheet_name='words_nobrands_valuecounts')\n",
    "stemwords_count.to_excel(writer, sheet_name='stemwords_valuecounts')\n",
    "stemwords_nobrands_count.to_excel(writer, sheet_name='stemwords_nobrands_valuecounts')"
   ]
  },
  {
   "cell_type": "code",
   "execution_count": null,
   "id": "339b6981",
   "metadata": {},
   "outputs": [],
   "source": [
    "writer.save()\n"
   ]
  },
  {
   "cell_type": "markdown",
   "id": "81d9092c",
   "metadata": {},
   "source": [
    "### TF-IDF"
   ]
  },
  {
   "cell_type": "code",
   "execution_count": null,
   "id": "429fccaf",
   "metadata": {},
   "outputs": [],
   "source": [
    "df"
   ]
  },
  {
   "cell_type": "code",
   "execution_count": null,
   "id": "af2d0efe",
   "metadata": {},
   "outputs": [],
   "source": []
  },
  {
   "cell_type": "code",
   "execution_count": null,
   "id": "cfcc1fdc",
   "metadata": {},
   "outputs": [],
   "source": []
  },
  {
   "cell_type": "code",
   "execution_count": null,
   "id": "9fce6ad1",
   "metadata": {},
   "outputs": [],
   "source": []
  },
  {
   "cell_type": "code",
   "execution_count": null,
   "id": "755163c2",
   "metadata": {},
   "outputs": [],
   "source": []
  },
  {
   "cell_type": "code",
   "execution_count": null,
   "id": "fcfc4ee2",
   "metadata": {},
   "outputs": [],
   "source": [
    "# once we have the list of the 5 most popular attributes, my guess is we have to calculate the uplift scores of said attribute\n",
    "# against the 5 top brands found in letter A). Then the uplift should tell us which brand is more related to which attribute"
   ]
  },
  {
   "cell_type": "code",
   "execution_count": null,
   "id": "0c7b0ddd",
   "metadata": {},
   "outputs": [],
   "source": [
    "# let's say \"reliability\" is one of the popular attributes \n",
    "# and the top 5 brands are: honda, nissan, audi, bwm, toyota\n",
    "# let's get the inputs necessary to calculate uplift of reliability in nissan"
   ]
  },
  {
   "cell_type": "code",
   "execution_count": null,
   "id": "772acee9",
   "metadata": {},
   "outputs": [],
   "source": [
    "n=0\n",
    "for i in  df.Brands_in_message:\n",
    "    if 'nissan' in i:\n",
    "        n += 1\n",
    "n\n",
    "#nissan appears in 525 rows "
   ]
  },
  {
   "cell_type": "code",
   "execution_count": null,
   "id": "76751eff",
   "metadata": {},
   "outputs": [],
   "source": [
    "df_nissan = pd.DataFrame(review_accum['nissan'], columns = ['word'])\n",
    "(df_nissan.word == 'reliability').sum() # 73 mentions of \"relibaility\" in honda\n",
    "\n",
    "# and 28 times the term \"reliability\" was mentioned alongside a nissan"
   ]
  },
  {
   "cell_type": "code",
   "execution_count": null,
   "id": "b98bd43a",
   "metadata": {},
   "outputs": [],
   "source": [
    "# how about honda?\n",
    "\n",
    "n=0\n",
    "for i in  df.Brands_in_message:\n",
    "    if 'honda' in i:\n",
    "        n += 1\n",
    "print(n)\n",
    "\n",
    "\n",
    "df_honda = pd.DataFrame(review_accum['honda'], columns = ['word'])\n",
    "(df_honda.word == 'reliability').sum() # 73 mentions of \"relibaility\" in honda\n"
   ]
  },
  {
   "cell_type": "code",
   "execution_count": null,
   "id": "59086e7c",
   "metadata": {},
   "outputs": [],
   "source": [
    "73/924 # not the exact uplift formula but a quick validation"
   ]
  },
  {
   "cell_type": "code",
   "execution_count": null,
   "id": "514b3cec",
   "metadata": {},
   "outputs": [],
   "source": [
    "28/525 # vs nissan"
   ]
  },
  {
   "cell_type": "code",
   "execution_count": null,
   "id": "9ad7f380",
   "metadata": {},
   "outputs": [],
   "source": [
    "# honda has more prevalence as a reliable brand than nissan (pending to adjust for uplift real formula)"
   ]
  },
  {
   "cell_type": "markdown",
   "id": "be5b8117",
   "metadata": {},
   "source": [
    "to consider:\n",
    "\n",
    "right now the code counts all the appearances of an attribute, even if they come from the same record; I think that is not the exact definition of the uplift formula. I don't think it will change the numbers very much, but would be good to refine it if we have the time"
   ]
  },
  {
   "cell_type": "code",
   "execution_count": null,
   "id": "3268d3e4",
   "metadata": {},
   "outputs": [],
   "source": []
  },
  {
   "cell_type": "code",
   "execution_count": null,
   "id": "19b32aab",
   "metadata": {},
   "outputs": [],
   "source": []
  }
 ],
 "metadata": {
  "kernelspec": {
   "display_name": "Python 3 (ipykernel)",
   "language": "python",
   "name": "python3"
  },
  "language_info": {
   "codemirror_mode": {
    "name": "ipython",
    "version": 3
   },
   "file_extension": ".py",
   "mimetype": "text/x-python",
   "name": "python",
   "nbconvert_exporter": "python",
   "pygments_lexer": "ipython3",
   "version": "3.8.12"
  }
 },
 "nbformat": 4,
 "nbformat_minor": 5
}

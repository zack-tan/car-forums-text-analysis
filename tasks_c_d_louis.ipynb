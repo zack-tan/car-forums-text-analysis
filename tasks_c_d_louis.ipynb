{
 "cells": [
  {
   "cell_type": "code",
   "execution_count": 163,
   "id": "c989c871",
   "metadata": {},
   "outputs": [],
   "source": [
    "import pandas as pd\n",
    "pd.set_option('display.max_colwidth', None) # to read records completely\n",
    "import pickle\n",
    "import numpy as np\n",
    "import itertools\n",
    "from nltk.stem import PorterStemmer"
   ]
  },
  {
   "cell_type": "markdown",
   "id": "3ea2bacb",
   "metadata": {},
   "source": [
    "## Previous data prep necessary for c) and d)"
   ]
  },
  {
   "cell_type": "code",
   "execution_count": 2,
   "id": "f257edd8",
   "metadata": {},
   "outputs": [],
   "source": [
    "df = pd.read_pickle('data_clean.pkl')"
   ]
  },
  {
   "cell_type": "code",
   "execution_count": 3,
   "id": "cb56a862",
   "metadata": {},
   "outputs": [],
   "source": [
    "models = pd.read_csv('models.csv', header=None, names = ['brand', 'model'])\n",
    "models['brand'] = models['brand'].str.replace(r'[^\\w\\s]+', '', regex=True) # clean some punctuation errors (nissan.)"
   ]
  },
  {
   "cell_type": "code",
   "execution_count": 4,
   "id": "89f77adf",
   "metadata": {},
   "outputs": [],
   "source": [
    "models = models[~models.brand.isin(['car', 'sedan', 'problem'])]"
   ]
  },
  {
   "cell_type": "code",
   "execution_count": 5,
   "id": "1fdbb411",
   "metadata": {},
   "outputs": [
    {
     "data": {
      "text/plain": [
       "370"
      ]
     },
     "execution_count": 5,
     "metadata": {},
     "output_type": "execute_result"
    }
   ],
   "source": [
    "df.Message.str.contains('said').sum()"
   ]
  },
  {
   "cell_type": "code",
   "execution_count": 6,
   "id": "42bbabb4",
   "metadata": {},
   "outputs": [],
   "source": [
    "df.Message_words = df.Message_words.apply(lambda x: [i.lower() for i in x])"
   ]
  },
  {
   "cell_type": "markdown",
   "id": "55647a2e",
   "metadata": {},
   "source": [
    "### Replace models with brands"
   ]
  },
  {
   "cell_type": "code",
   "execution_count": 7,
   "id": "3e694074",
   "metadata": {},
   "outputs": [],
   "source": [
    "messages = df.Message_words.to_list()"
   ]
  },
  {
   "cell_type": "code",
   "execution_count": 8,
   "id": "4af99d2c",
   "metadata": {},
   "outputs": [],
   "source": [
    "# numpy.where to do the replacement\n",
    "messages2 = []\n",
    "t = 0\n",
    "for m in messages:\n",
    "    for i,row in models.iterrows():\n",
    "        m = np.where(m == row['model'], row['brand'], m)\n",
    "        \n",
    "    t+=1\n",
    "    \n",
    "    #print(t)\n",
    "        \n",
    "    messages2.append(m)\n",
    "        \n",
    "df['Message_words_v2'] = messages2"
   ]
  },
  {
   "cell_type": "code",
   "execution_count": 9,
   "id": "7f26cc84",
   "metadata": {},
   "outputs": [],
   "source": [
    "# let's find the occurences of changes\n",
    "m1 = df.Message_words.to_list()\n",
    "m2 = df.Message_words_v2.to_list()\n",
    "\n",
    "c = 0\n",
    "W = 0\n",
    "for i in range(len(m2)):\n",
    "    for j in range(len(m2[i])):\n",
    "        if m1[i][j] != m2[i][j]: #word by word comparison\n",
    "            c +=1\n",
    "        W += 1"
   ]
  },
  {
   "cell_type": "code",
   "execution_count": 10,
   "id": "24c73596",
   "metadata": {},
   "outputs": [
    {
     "name": "stdout",
     "output_type": "stream",
     "text": [
      "6368 changes of models\n"
     ]
    }
   ],
   "source": [
    "print(f'{c} changes of models')"
   ]
  },
  {
   "cell_type": "code",
   "execution_count": 37,
   "id": "fca77850",
   "metadata": {
    "scrolled": false
   },
   "outputs": [
    {
     "data": {
      "text/html": [
       "<div>\n",
       "<style scoped>\n",
       "    .dataframe tbody tr th:only-of-type {\n",
       "        vertical-align: middle;\n",
       "    }\n",
       "\n",
       "    .dataframe tbody tr th {\n",
       "        vertical-align: top;\n",
       "    }\n",
       "\n",
       "    .dataframe thead th {\n",
       "        text-align: right;\n",
       "    }\n",
       "</style>\n",
       "<table border=\"1\" class=\"dataframe\">\n",
       "  <thead>\n",
       "    <tr style=\"text-align: right;\">\n",
       "      <th></th>\n",
       "      <th>Date</th>\n",
       "      <th>User_Id</th>\n",
       "      <th>Message</th>\n",
       "      <th>NumberOfPastPosts</th>\n",
       "      <th>Role</th>\n",
       "      <th>Message_words</th>\n",
       "      <th>Message_words_v2</th>\n",
       "      <th>Brands_in_message</th>\n",
       "      <th>Qty_brands</th>\n",
       "    </tr>\n",
       "  </thead>\n",
       "  <tbody>\n",
       "    <tr>\n",
       "      <th>0</th>\n",
       "      <td>2001-09-01</td>\n",
       "      <td>pat</td>\n",
       "      <td>Need help choosing your next vehicle? Tell us your price range, are you thinking New or Used, buying or leasing, what features are must-haves, what other thoughts are on your mind, and let us give you a hand! Tell us your criteria as specifically as you can.You'll find lots of helpful folks here who can give you useful suggestions.</td>\n",
       "      <td>10,421</td>\n",
       "      <td>Member</td>\n",
       "      <td>[need, help, choosing, next, vehicle, tell, us, price, range, thinking, new, used, buying, leasing, features, musthaves, thoughts, mind, let, us, give, hand, tell, us, criteria, specifically, canyoull, find, lots, helpful, folks, give, useful, suggestions]</td>\n",
       "      <td>[need, help, choosing, next, vehicle, tell, us, price, range, thinking, new, used, buying, leasing, features, musthaves, thoughts, mind, let, us, give, hand, tell, us, criteria, specifically, canyoull, find, lots, helpful, folks, give, useful, suggestions]</td>\n",
       "      <td>[]</td>\n",
       "      <td>0</td>\n",
       "    </tr>\n",
       "    <tr>\n",
       "      <th>1</th>\n",
       "      <td>2001-09-01</td>\n",
       "      <td>willow25</td>\n",
       "      <td>I'm buying a \"new\" car by the end of the year and my first choice is a Nissan Maxima. I've read that they are very reliable and hold their value well. My budget is probably going to allow for a 98-99 and I was wondering if it's worth buying a car that's almost 3-4 years old. Any suggestions or comments would help a lot.willow25</td>\n",
       "      <td>2</td>\n",
       "      <td>Member</td>\n",
       "      <td>[im, buying, new, car, end, year, first, choice, nissan, maxima, ive, read, reliable, hold, value, well, budget, probably, going, allow, 9899, wondering, worth, buying, car, thats, almost, 34, years, old, suggestions, comments, would, help, lotwillow25]</td>\n",
       "      <td>[im, buying, new, car, end, year, first, choice, nissan, nissan, ive, read, reliable, hold, value, well, budget, probably, going, allow, 9899, wondering, worth, buying, car, thats, almost, 34, years, old, suggestions, comments, would, help, lotwillow25]</td>\n",
       "      <td>[nissan]</td>\n",
       "      <td>1</td>\n",
       "    </tr>\n",
       "    <tr>\n",
       "      <th>2</th>\n",
       "      <td>2001-10-01</td>\n",
       "      <td>dindak</td>\n",
       "      <td>Buy a 2001/ 2002 Oldsmobile Intrigue. It's one of the best sedans on the market with great handling and one of the best V6 engines around, a 3.5L DOHC producing 215HP. The deals should be great this year as it's the last on for Intrigue and the warrany on them has been extended to 5 years. The car is recommended by most magazines (including Consumer Reports), but is unfortunately over looked by most consumers. It is the sleeper of all sleepers on the market in my opinion.</td>\n",
       "      <td>6,632</td>\n",
       "      <td>Member</td>\n",
       "      <td>[buy, 2001, 2002, oldsmobile, intrigue, one, best, sedans, market, great, handling, one, best, v6, engines, around, 35l, dohc, producing, 215hp, deals, great, year, last, intrigue, warrany, extended, 5, years, car, recommended, magazines, including, consumer, reports, unfortunately, looked, consumers, sleeper, sleepers, market, opinion]</td>\n",
       "      <td>[buy, 2001, 2002, oldsmobile, intrigue, one, best, sedans, market, great, handling, one, best, v6, engines, around, 35l, dohc, producing, 215hp, deals, great, year, last, intrigue, warrany, extended, 5, years, car, recommended, magazines, including, consumer, reports, unfortunately, looked, consumers, sleeper, sleepers, market, opinion]</td>\n",
       "      <td>[]</td>\n",
       "      <td>0</td>\n",
       "    </tr>\n",
       "    <tr>\n",
       "      <th>3</th>\n",
       "      <td>2001-10-01</td>\n",
       "      <td>peteri1</td>\n",
       "      <td>Am looking at 1 of 4 choices to replace my 99GS400. I've read everything here and on other forums and have seen much conflicting info:4 options:Lexus LS430 with custom/luxury packageInfiniti Q45 with premium pckgAudi A-6 4.2 loaded Audi A-8 not stripped, but not loadedChicago winters--had Blizzaks on the GS--worked fine. My 95Q was pig in snow, but I'm sure 2002Q is a world away from that. I've heard Audi has some QC problems, but I like their maintenance being included. I'm a happy Lexus driver. The Q appears to offer the most for the $$. Will lease and in this economy, I would think I could command an attractive package. Can I go wrong with any of the 4? Am I missing something?</td>\n",
       "      <td>21</td>\n",
       "      <td>Member</td>\n",
       "      <td>[looking, 1, 4, choices, replace, 99gs400, ive, read, everything, forums, seen, much, conflicting, info4, optionslexus, ls430, customluxury, packageinfiniti, q45, premium, pckgaudi, a6, 42, loaded, audi, a8, stripped, loadedchicago, wintershad, blizzaks, gsworked, fine, 95q, pig, snow, im, sure, 2002q, world, away, ive, heard, audi, qc, problems, like, maintenance, included, im, happy, lexus, driver, q, appears, offer, lease, economy, would, think, could, command, attractive, package, go, wrong, 4, missing, something]</td>\n",
       "      <td>[looking, 1, 4, choices, replace, 99gs400, ive, read, everything, forums, seen, much, conflicting, info4, optionslexus, ls430, customluxury, packageinfiniti, q45, premium, pckgaudi, audi, 42, loaded, audi, audi, stripped, loadedchicago, wintershad, blizzaks, gsworked, fine, 95q, pig, snow, im, sure, 2002q, world, away, ive, heard, audi, qc, problems, like, maintenance, included, im, happy, lexus, driver, q, appears, offer, lease, economy, would, think, could, command, attractive, package, go, wrong, 4, missing, something]</td>\n",
       "      <td>[audi]</td>\n",
       "      <td>1</td>\n",
       "    </tr>\n",
       "    <tr>\n",
       "      <th>4</th>\n",
       "      <td>2001-10-01</td>\n",
       "      <td>mrdetailer</td>\n",
       "      <td>Generally a 3-4 year old car range is a good one because they are basically sound. If possible get one that is still under warrenty. But if not, make sure that a trusted Maxima mechanic goes over it thoroughly. Their V-6 is one of the best rated for over 10 years. Personally I am amazed at the great strides in American Quality recently, so the Olds may not be a bad idea other.</td>\n",
       "      <td>1,118</td>\n",
       "      <td>Member</td>\n",
       "      <td>[generally, 34, year, old, car, range, good, one, basically, sound, possible, get, one, still, warrenty, make, sure, trusted, maxima, mechanic, goes, thoroughly, v6, one, best, rated, 10, years, personally, amazed, great, strides, american, quality, recently, olds, may, bad, idea]</td>\n",
       "      <td>[generally, 34, year, old, car, range, good, one, basically, sound, possible, get, one, still, warrenty, make, sure, trusted, nissan, mechanic, goes, thoroughly, v6, one, best, rated, 10, years, personally, amazed, great, strides, american, quality, recently, olds, may, bad, idea]</td>\n",
       "      <td>[nissan]</td>\n",
       "      <td>1</td>\n",
       "    </tr>\n",
       "    <tr>\n",
       "      <th>5</th>\n",
       "      <td>2001-10-01</td>\n",
       "      <td>dindak</td>\n",
       "      <td>Maxima and Intrigue are both excellent choices for midsize sedans.</td>\n",
       "      <td>6,632</td>\n",
       "      <td>Member</td>\n",
       "      <td>[maxima, intrigue, excellent, choices, midsize, sedans]</td>\n",
       "      <td>[nissan, intrigue, excellent, choices, midsize, sedans]</td>\n",
       "      <td>[nissan]</td>\n",
       "      <td>1</td>\n",
       "    </tr>\n",
       "    <tr>\n",
       "      <th>6</th>\n",
       "      <td>2001-10-01</td>\n",
       "      <td>canadiancl</td>\n",
       "      <td>If I had that kind of budget, I would go for the A6 4.2 - - best combination of sport and luxury amongst the 4 choices.</td>\n",
       "      <td>1,078</td>\n",
       "      <td>Member</td>\n",
       "      <td>[kind, budget, would, go, a6, 42, best, combination, sport, luxury, amongst, 4, choices]</td>\n",
       "      <td>[kind, budget, would, go, audi, 42, best, combination, sport, luxury, amongst, 4, choices]</td>\n",
       "      <td>[audi]</td>\n",
       "      <td>1</td>\n",
       "    </tr>\n",
       "    <tr>\n",
       "      <th>7</th>\n",
       "      <td>2001-10-01</td>\n",
       "      <td>qbrozen</td>\n",
       "      <td>Actually, I was about to agree with the A6, but I just looked at the specs here on Edmunds. Both the A6 and A8 are 4000 lbs, and considering the A8 gets a bump in HP over the A6, I don't think performance difference is an issue. So, considering that and the fact that the A6 would possibly be to small for you based on the rest of your list, I say go for the A8. I think you'll find the AWD to be the best addition to a car you could ever have hoped for.</td>\n",
       "      <td>30,400</td>\n",
       "      <td>Member</td>\n",
       "      <td>[actually, agree, a6, looked, specs, edmunds, a6, a8, 4000, lbs, considering, a8, gets, bump, hp, a6, dont, think, performance, difference, issue, considering, fact, a6, would, possibly, small, based, rest, list, say, go, a8, think, youll, find, awd, best, addition, car, could, ever, hoped]</td>\n",
       "      <td>[actually, agree, audi, looked, specs, edmunds, audi, audi, 4000, lbs, considering, audi, gets, bump, hp, audi, dont, think, performance, difference, issue, considering, fact, audi, would, possibly, small, based, rest, list, say, go, audi, think, youll, find, awd, best, addition, car, could, ever, hoped]</td>\n",
       "      <td>[audi]</td>\n",
       "      <td>1</td>\n",
       "    </tr>\n",
       "    <tr>\n",
       "      <th>8</th>\n",
       "      <td>2001-10-01</td>\n",
       "      <td>black_tulip</td>\n",
       "      <td>I'd pass Intrigue only for one reason: crash test results are terrible...</td>\n",
       "      <td>438</td>\n",
       "      <td>Member</td>\n",
       "      <td>[id, pass, intrigue, one, reason, crash, test, results, terrible]</td>\n",
       "      <td>[id, pass, intrigue, one, reason, crash, test, results, terrible]</td>\n",
       "      <td>[]</td>\n",
       "      <td>0</td>\n",
       "    </tr>\n",
       "    <tr>\n",
       "      <th>9</th>\n",
       "      <td>2001-10-01</td>\n",
       "      <td>paulo3</td>\n",
       "      <td>I would recommend the Honda Accord or Toyota Camry as my choices for a sedan. The new Nissan Altima looks impressive but I would wait until the reliability of the 2002 is proven.The new BMW 525 is another nice car and is rated highly by many auto publications.</td>\n",
       "      <td>113</td>\n",
       "      <td>Member</td>\n",
       "      <td>[would, recommend, honda, accord, toyota, camry, choices, sedan, new, nissan, altima, looks, impressive, would, wait, reliability, 2002, proventhe, new, bmw, 525, another, nice, car, rated, highly, many, auto, publications]</td>\n",
       "      <td>[would, recommend, honda, honda, toyota, toyota, choices, sedan, new, nissan, nissan, looks, impressive, would, wait, reliability, 2002, proventhe, new, bmw, 525, another, nice, car, rated, highly, many, auto, publications]</td>\n",
       "      <td>[bmw, honda, nissan, toyota]</td>\n",
       "      <td>4</td>\n",
       "    </tr>\n",
       "  </tbody>\n",
       "</table>\n",
       "</div>"
      ],
      "text/plain": [
       "        Date      User_Id  \\\n",
       "0 2001-09-01          pat   \n",
       "1 2001-09-01     willow25   \n",
       "2 2001-10-01       dindak   \n",
       "3 2001-10-01      peteri1   \n",
       "4 2001-10-01   mrdetailer   \n",
       "5 2001-10-01       dindak   \n",
       "6 2001-10-01   canadiancl   \n",
       "7 2001-10-01      qbrozen   \n",
       "8 2001-10-01  black_tulip   \n",
       "9 2001-10-01       paulo3   \n",
       "\n",
       "                                                                                                                                                                                                                                                                                                                                                                                                                                                                                                                                                                                                                                                                                                             Message  \\\n",
       "0                                                                                                                                                                                                                                                                                                                                                                     Need help choosing your next vehicle? Tell us your price range, are you thinking New or Used, buying or leasing, what features are must-haves, what other thoughts are on your mind, and let us give you a hand! Tell us your criteria as specifically as you can.You'll find lots of helpful folks here who can give you useful suggestions.    \n",
       "1                                                                                                                                                                                                                                                                                                                                                                         I'm buying a \"new\" car by the end of the year and my first choice is a Nissan Maxima. I've read that they are very reliable and hold their value well. My budget is probably going to allow for a 98-99 and I was wondering if it's worth buying a car that's almost 3-4 years old. Any suggestions or comments would help a lot.willow25    \n",
       "2                                                                                                                                                                                                                      Buy a 2001/ 2002 Oldsmobile Intrigue. It's one of the best sedans on the market with great handling and one of the best V6 engines around, a 3.5L DOHC producing 215HP. The deals should be great this year as it's the last on for Intrigue and the warrany on them has been extended to 5 years. The car is recommended by most magazines (including Consumer Reports), but is unfortunately over looked by most consumers. It is the sleeper of all sleepers on the market in my opinion.    \n",
       "3  Am looking at 1 of 4 choices to replace my 99GS400. I've read everything here and on other forums and have seen much conflicting info:4 options:Lexus LS430 with custom/luxury packageInfiniti Q45 with premium pckgAudi A-6 4.2 loaded Audi A-8 not stripped, but not loadedChicago winters--had Blizzaks on the GS--worked fine. My 95Q was pig in snow, but I'm sure 2002Q is a world away from that. I've heard Audi has some QC problems, but I like their maintenance being included. I'm a happy Lexus driver. The Q appears to offer the most for the $$. Will lease and in this economy, I would think I could command an attractive package. Can I go wrong with any of the 4? Am I missing something?    \n",
       "4                                                                                                                                                                                                                                                                                                                       Generally a 3-4 year old car range is a good one because they are basically sound. If possible get one that is still under warrenty. But if not, make sure that a trusted Maxima mechanic goes over it thoroughly. Their V-6 is one of the best rated for over 10 years. Personally I am amazed at the great strides in American Quality recently, so the Olds may not be a bad idea other.    \n",
       "5                                                                                                                                                                                                                                                                                                                                                                                                                                                                                                                                                                                                                                                Maxima and Intrigue are both excellent choices for midsize sedans.    \n",
       "6                                                                                                                                                                                                                                                                                                                                                                                                                                                                                                                                                                                           If I had that kind of budget, I would go for the A6 4.2 - - best combination of sport and luxury amongst the 4 choices.    \n",
       "7                                                                                                                                                                                                                                            Actually, I was about to agree with the A6, but I just looked at the specs here on Edmunds. Both the A6 and A8 are 4000 lbs, and considering the A8 gets a bump in HP over the A6, I don't think performance difference is an issue. So, considering that and the fact that the A6 would possibly be to small for you based on the rest of your list, I say go for the A8. I think you'll find the AWD to be the best addition to a car you could ever have hoped for.    \n",
       "8                                                                                                                                                                                                                                                                                                                                                                                                                                                                                                                                                                                                                                         I'd pass Intrigue only for one reason: crash test results are terrible...    \n",
       "9                                                                                                                                                                                                                                                                                                                                                                                                                                              I would recommend the Honda Accord or Toyota Camry as my choices for a sedan. The new Nissan Altima looks impressive but I would wait until the reliability of the 2002 is proven.The new BMW 525 is another nice car and is rated highly by many auto publications.    \n",
       "\n",
       "  NumberOfPastPosts    Role  \\\n",
       "0            10,421  Member   \n",
       "1                 2  Member   \n",
       "2             6,632  Member   \n",
       "3                21  Member   \n",
       "4             1,118  Member   \n",
       "5             6,632  Member   \n",
       "6             1,078  Member   \n",
       "7            30,400  Member   \n",
       "8               438  Member   \n",
       "9               113  Member   \n",
       "\n",
       "                                                                                                                                                                                                                                                                                                                                                                                                                                                                                                                                 Message_words  \\\n",
       "0                                                                                                                                                                                                                                                                             [need, help, choosing, next, vehicle, tell, us, price, range, thinking, new, used, buying, leasing, features, musthaves, thoughts, mind, let, us, give, hand, tell, us, criteria, specifically, canyoull, find, lots, helpful, folks, give, useful, suggestions]   \n",
       "1                                                                                                                                                                                                                                                                                [im, buying, new, car, end, year, first, choice, nissan, maxima, ive, read, reliable, hold, value, well, budget, probably, going, allow, 9899, wondering, worth, buying, car, thats, almost, 34, years, old, suggestions, comments, would, help, lotwillow25]   \n",
       "2                                                                                                                                                                                           [buy, 2001, 2002, oldsmobile, intrigue, one, best, sedans, market, great, handling, one, best, v6, engines, around, 35l, dohc, producing, 215hp, deals, great, year, last, intrigue, warrany, extended, 5, years, car, recommended, magazines, including, consumer, reports, unfortunately, looked, consumers, sleeper, sleepers, market, opinion]   \n",
       "3  [looking, 1, 4, choices, replace, 99gs400, ive, read, everything, forums, seen, much, conflicting, info4, optionslexus, ls430, customluxury, packageinfiniti, q45, premium, pckgaudi, a6, 42, loaded, audi, a8, stripped, loadedchicago, wintershad, blizzaks, gsworked, fine, 95q, pig, snow, im, sure, 2002q, world, away, ive, heard, audi, qc, problems, like, maintenance, included, im, happy, lexus, driver, q, appears, offer, lease, economy, would, think, could, command, attractive, package, go, wrong, 4, missing, something]   \n",
       "4                                                                                                                                                                                                                                                    [generally, 34, year, old, car, range, good, one, basically, sound, possible, get, one, still, warrenty, make, sure, trusted, maxima, mechanic, goes, thoroughly, v6, one, best, rated, 10, years, personally, amazed, great, strides, american, quality, recently, olds, may, bad, idea]   \n",
       "5                                                                                                                                                                                                                                                                                                                                                                                                                                                                                      [maxima, intrigue, excellent, choices, midsize, sedans]   \n",
       "6                                                                                                                                                                                                                                                                                                                                                                                                                                                     [kind, budget, would, go, a6, 42, best, combination, sport, luxury, amongst, 4, choices]   \n",
       "7                                                                                                                                                                                                                                          [actually, agree, a6, looked, specs, edmunds, a6, a8, 4000, lbs, considering, a8, gets, bump, hp, a6, dont, think, performance, difference, issue, considering, fact, a6, would, possibly, small, based, rest, list, say, go, a8, think, youll, find, awd, best, addition, car, could, ever, hoped]   \n",
       "8                                                                                                                                                                                                                                                                                                                                                                                                                                                                            [id, pass, intrigue, one, reason, crash, test, results, terrible]   \n",
       "9                                                                                                                                                                                                                                                                                                              [would, recommend, honda, accord, toyota, camry, choices, sedan, new, nissan, altima, looks, impressive, would, wait, reliability, 2002, proventhe, new, bmw, 525, another, nice, car, rated, highly, many, auto, publications]   \n",
       "\n",
       "                                                                                                                                                                                                                                                                                                                                                                                                                                                                                                                                  Message_words_v2  \\\n",
       "0                                                                                                                                                                                                                                                                                 [need, help, choosing, next, vehicle, tell, us, price, range, thinking, new, used, buying, leasing, features, musthaves, thoughts, mind, let, us, give, hand, tell, us, criteria, specifically, canyoull, find, lots, helpful, folks, give, useful, suggestions]   \n",
       "1                                                                                                                                                                                                                                                                                    [im, buying, new, car, end, year, first, choice, nissan, nissan, ive, read, reliable, hold, value, well, budget, probably, going, allow, 9899, wondering, worth, buying, car, thats, almost, 34, years, old, suggestions, comments, would, help, lotwillow25]   \n",
       "2                                                                                                                                                                                               [buy, 2001, 2002, oldsmobile, intrigue, one, best, sedans, market, great, handling, one, best, v6, engines, around, 35l, dohc, producing, 215hp, deals, great, year, last, intrigue, warrany, extended, 5, years, car, recommended, magazines, including, consumer, reports, unfortunately, looked, consumers, sleeper, sleepers, market, opinion]   \n",
       "3  [looking, 1, 4, choices, replace, 99gs400, ive, read, everything, forums, seen, much, conflicting, info4, optionslexus, ls430, customluxury, packageinfiniti, q45, premium, pckgaudi, audi, 42, loaded, audi, audi, stripped, loadedchicago, wintershad, blizzaks, gsworked, fine, 95q, pig, snow, im, sure, 2002q, world, away, ive, heard, audi, qc, problems, like, maintenance, included, im, happy, lexus, driver, q, appears, offer, lease, economy, would, think, could, command, attractive, package, go, wrong, 4, missing, something]   \n",
       "4                                                                                                                                                                                                                                                        [generally, 34, year, old, car, range, good, one, basically, sound, possible, get, one, still, warrenty, make, sure, trusted, nissan, mechanic, goes, thoroughly, v6, one, best, rated, 10, years, personally, amazed, great, strides, american, quality, recently, olds, may, bad, idea]   \n",
       "5                                                                                                                                                                                                                                                                                                                                                                                                                                                                                          [nissan, intrigue, excellent, choices, midsize, sedans]   \n",
       "6                                                                                                                                                                                                                                                                                                                                                                                                                                                       [kind, budget, would, go, audi, 42, best, combination, sport, luxury, amongst, 4, choices]   \n",
       "7                                                                                                                                                                                                                                [actually, agree, audi, looked, specs, edmunds, audi, audi, 4000, lbs, considering, audi, gets, bump, hp, audi, dont, think, performance, difference, issue, considering, fact, audi, would, possibly, small, based, rest, list, say, go, audi, think, youll, find, awd, best, addition, car, could, ever, hoped]   \n",
       "8                                                                                                                                                                                                                                                                                                                                                                                                                                                                                [id, pass, intrigue, one, reason, crash, test, results, terrible]   \n",
       "9                                                                                                                                                                                                                                                                                                                  [would, recommend, honda, honda, toyota, toyota, choices, sedan, new, nissan, nissan, looks, impressive, would, wait, reliability, 2002, proventhe, new, bmw, 525, another, nice, car, rated, highly, many, auto, publications]   \n",
       "\n",
       "              Brands_in_message  Qty_brands  \n",
       "0                            []           0  \n",
       "1                      [nissan]           1  \n",
       "2                            []           0  \n",
       "3                        [audi]           1  \n",
       "4                      [nissan]           1  \n",
       "5                      [nissan]           1  \n",
       "6                        [audi]           1  \n",
       "7                        [audi]           1  \n",
       "8                            []           0  \n",
       "9  [bmw, honda, nissan, toyota]           4  "
      ]
     },
     "execution_count": 37,
     "metadata": {},
     "output_type": "execute_result"
    }
   ],
   "source": [
    "df.head(10)"
   ]
  },
  {
   "cell_type": "code",
   "execution_count": 39,
   "id": "3d7ca27e",
   "metadata": {},
   "outputs": [],
   "source": [
    "#Get a unique list of brands\n",
    "brands_list = models.brand.drop_duplicates().to_list()"
   ]
  },
  {
   "cell_type": "code",
   "execution_count": 121,
   "id": "599e9a7a",
   "metadata": {},
   "outputs": [],
   "source": [
    "#Removing duplicates in lists while keeping order\n",
    "#import itertools\n",
    "def remove_consecutive_duplicate (text):\n",
    "    return np.array([i for i, j in itertools.groupby(text)])"
   ]
  },
  {
   "cell_type": "code",
   "execution_count": null,
   "id": "dbac11f9",
   "metadata": {},
   "outputs": [],
   "source": []
  },
  {
   "cell_type": "code",
   "execution_count": 122,
   "id": "3d495fa6",
   "metadata": {},
   "outputs": [],
   "source": [
    "df[\"Message_words_v3\"] = df[\"Message_words_v2\"].apply(remove_consecutive_duplicate)"
   ]
  },
  {
   "cell_type": "code",
   "execution_count": 123,
   "id": "fa9972f9",
   "metadata": {},
   "outputs": [
    {
     "data": {
      "text/plain": [
       "numpy.ndarray"
      ]
     },
     "execution_count": 123,
     "metadata": {},
     "output_type": "execute_result"
    }
   ],
   "source": [
    "type(df[\"Message_words_v2\"][0])"
   ]
  },
  {
   "cell_type": "code",
   "execution_count": 124,
   "id": "d2096d25",
   "metadata": {},
   "outputs": [
    {
     "data": {
      "text/plain": [
       "numpy.ndarray"
      ]
     },
     "execution_count": 124,
     "metadata": {},
     "output_type": "execute_result"
    }
   ],
   "source": [
    "type(df[\"Message_words_v3\"][0])"
   ]
  },
  {
   "cell_type": "code",
   "execution_count": 125,
   "id": "32e8fa54",
   "metadata": {},
   "outputs": [
    {
     "data": {
      "text/html": [
       "<div>\n",
       "<style scoped>\n",
       "    .dataframe tbody tr th:only-of-type {\n",
       "        vertical-align: middle;\n",
       "    }\n",
       "\n",
       "    .dataframe tbody tr th {\n",
       "        vertical-align: top;\n",
       "    }\n",
       "\n",
       "    .dataframe thead th {\n",
       "        text-align: right;\n",
       "    }\n",
       "</style>\n",
       "<table border=\"1\" class=\"dataframe\">\n",
       "  <thead>\n",
       "    <tr style=\"text-align: right;\">\n",
       "      <th></th>\n",
       "      <th>Date</th>\n",
       "      <th>User_Id</th>\n",
       "      <th>Message</th>\n",
       "      <th>NumberOfPastPosts</th>\n",
       "      <th>Role</th>\n",
       "      <th>Message_words</th>\n",
       "      <th>Message_words_v2</th>\n",
       "      <th>Brands_in_message</th>\n",
       "      <th>Qty_brands</th>\n",
       "      <th>Message_words_v3</th>\n",
       "    </tr>\n",
       "  </thead>\n",
       "  <tbody>\n",
       "    <tr>\n",
       "      <th>0</th>\n",
       "      <td>2001-09-01</td>\n",
       "      <td>pat</td>\n",
       "      <td>Need help choosing your next vehicle? Tell us your price range, are you thinking New or Used, buying or leasing, what features are must-haves, what other thoughts are on your mind, and let us give you a hand! Tell us your criteria as specifically as you can.You'll find lots of helpful folks here who can give you useful suggestions.</td>\n",
       "      <td>10,421</td>\n",
       "      <td>Member</td>\n",
       "      <td>[need, help, choosing, next, vehicle, tell, us, price, range, thinking, new, used, buying, leasing, features, musthaves, thoughts, mind, let, us, give, hand, tell, us, criteria, specifically, canyoull, find, lots, helpful, folks, give, useful, suggestions]</td>\n",
       "      <td>[need, help, choosing, next, vehicle, tell, us, price, range, thinking, new, used, buying, leasing, features, musthaves, thoughts, mind, let, us, give, hand, tell, us, criteria, specifically, canyoull, find, lots, helpful, folks, give, useful, suggestions]</td>\n",
       "      <td>[]</td>\n",
       "      <td>0</td>\n",
       "      <td>[need, help, choosing, next, vehicle, tell, us, price, range, thinking, new, used, buying, leasing, features, musthaves, thoughts, mind, let, us, give, hand, tell, us, criteria, specifically, canyoull, find, lots, helpful, folks, give, useful, suggestions]</td>\n",
       "    </tr>\n",
       "    <tr>\n",
       "      <th>1</th>\n",
       "      <td>2001-09-01</td>\n",
       "      <td>willow25</td>\n",
       "      <td>I'm buying a \"new\" car by the end of the year and my first choice is a Nissan Maxima. I've read that they are very reliable and hold their value well. My budget is probably going to allow for a 98-99 and I was wondering if it's worth buying a car that's almost 3-4 years old. Any suggestions or comments would help a lot.willow25</td>\n",
       "      <td>2</td>\n",
       "      <td>Member</td>\n",
       "      <td>[im, buying, new, car, end, year, first, choice, nissan, maxima, ive, read, reliable, hold, value, well, budget, probably, going, allow, 9899, wondering, worth, buying, car, thats, almost, 34, years, old, suggestions, comments, would, help, lotwillow25]</td>\n",
       "      <td>[im, buying, new, car, end, year, first, choice, nissan, nissan, ive, read, reliable, hold, value, well, budget, probably, going, allow, 9899, wondering, worth, buying, car, thats, almost, 34, years, old, suggestions, comments, would, help, lotwillow25]</td>\n",
       "      <td>[nissan]</td>\n",
       "      <td>1</td>\n",
       "      <td>[im, buying, new, car, end, year, first, choice, nissan, ive, read, reliable, hold, value, well, budget, probably, going, allow, 9899, wondering, worth, buying, car, thats, almost, 34, years, old, suggestions, comments, would, help, lotwillow25]</td>\n",
       "    </tr>\n",
       "    <tr>\n",
       "      <th>2</th>\n",
       "      <td>2001-10-01</td>\n",
       "      <td>dindak</td>\n",
       "      <td>Buy a 2001/ 2002 Oldsmobile Intrigue. It's one of the best sedans on the market with great handling and one of the best V6 engines around, a 3.5L DOHC producing 215HP. The deals should be great this year as it's the last on for Intrigue and the warrany on them has been extended to 5 years. The car is recommended by most magazines (including Consumer Reports), but is unfortunately over looked by most consumers. It is the sleeper of all sleepers on the market in my opinion.</td>\n",
       "      <td>6,632</td>\n",
       "      <td>Member</td>\n",
       "      <td>[buy, 2001, 2002, oldsmobile, intrigue, one, best, sedans, market, great, handling, one, best, v6, engines, around, 35l, dohc, producing, 215hp, deals, great, year, last, intrigue, warrany, extended, 5, years, car, recommended, magazines, including, consumer, reports, unfortunately, looked, consumers, sleeper, sleepers, market, opinion]</td>\n",
       "      <td>[buy, 2001, 2002, oldsmobile, intrigue, one, best, sedans, market, great, handling, one, best, v6, engines, around, 35l, dohc, producing, 215hp, deals, great, year, last, intrigue, warrany, extended, 5, years, car, recommended, magazines, including, consumer, reports, unfortunately, looked, consumers, sleeper, sleepers, market, opinion]</td>\n",
       "      <td>[]</td>\n",
       "      <td>0</td>\n",
       "      <td>[buy, 2001, 2002, oldsmobile, intrigue, one, best, sedans, market, great, handling, one, best, v6, engines, around, 35l, dohc, producing, 215hp, deals, great, year, last, intrigue, warrany, extended, 5, years, car, recommended, magazines, including, consumer, reports, unfortunately, looked, consumers, sleeper, sleepers, market, opinion]</td>\n",
       "    </tr>\n",
       "    <tr>\n",
       "      <th>3</th>\n",
       "      <td>2001-10-01</td>\n",
       "      <td>peteri1</td>\n",
       "      <td>Am looking at 1 of 4 choices to replace my 99GS400. I've read everything here and on other forums and have seen much conflicting info:4 options:Lexus LS430 with custom/luxury packageInfiniti Q45 with premium pckgAudi A-6 4.2 loaded Audi A-8 not stripped, but not loadedChicago winters--had Blizzaks on the GS--worked fine. My 95Q was pig in snow, but I'm sure 2002Q is a world away from that. I've heard Audi has some QC problems, but I like their maintenance being included. I'm a happy Lexus driver. The Q appears to offer the most for the $$. Will lease and in this economy, I would think I could command an attractive package. Can I go wrong with any of the 4? Am I missing something?</td>\n",
       "      <td>21</td>\n",
       "      <td>Member</td>\n",
       "      <td>[looking, 1, 4, choices, replace, 99gs400, ive, read, everything, forums, seen, much, conflicting, info4, optionslexus, ls430, customluxury, packageinfiniti, q45, premium, pckgaudi, a6, 42, loaded, audi, a8, stripped, loadedchicago, wintershad, blizzaks, gsworked, fine, 95q, pig, snow, im, sure, 2002q, world, away, ive, heard, audi, qc, problems, like, maintenance, included, im, happy, lexus, driver, q, appears, offer, lease, economy, would, think, could, command, attractive, package, go, wrong, 4, missing, something]</td>\n",
       "      <td>[looking, 1, 4, choices, replace, 99gs400, ive, read, everything, forums, seen, much, conflicting, info4, optionslexus, ls430, customluxury, packageinfiniti, q45, premium, pckgaudi, audi, 42, loaded, audi, audi, stripped, loadedchicago, wintershad, blizzaks, gsworked, fine, 95q, pig, snow, im, sure, 2002q, world, away, ive, heard, audi, qc, problems, like, maintenance, included, im, happy, lexus, driver, q, appears, offer, lease, economy, would, think, could, command, attractive, package, go, wrong, 4, missing, something]</td>\n",
       "      <td>[audi]</td>\n",
       "      <td>1</td>\n",
       "      <td>[looking, 1, 4, choices, replace, 99gs400, ive, read, everything, forums, seen, much, conflicting, info4, optionslexus, ls430, customluxury, packageinfiniti, q45, premium, pckgaudi, audi, 42, loaded, audi, stripped, loadedchicago, wintershad, blizzaks, gsworked, fine, 95q, pig, snow, im, sure, 2002q, world, away, ive, heard, audi, qc, problems, like, maintenance, included, im, happy, lexus, driver, q, appears, offer, lease, economy, would, think, could, command, attractive, package, go, wrong, 4, missing, something]</td>\n",
       "    </tr>\n",
       "    <tr>\n",
       "      <th>4</th>\n",
       "      <td>2001-10-01</td>\n",
       "      <td>mrdetailer</td>\n",
       "      <td>Generally a 3-4 year old car range is a good one because they are basically sound. If possible get one that is still under warrenty. But if not, make sure that a trusted Maxima mechanic goes over it thoroughly. Their V-6 is one of the best rated for over 10 years. Personally I am amazed at the great strides in American Quality recently, so the Olds may not be a bad idea other.</td>\n",
       "      <td>1,118</td>\n",
       "      <td>Member</td>\n",
       "      <td>[generally, 34, year, old, car, range, good, one, basically, sound, possible, get, one, still, warrenty, make, sure, trusted, maxima, mechanic, goes, thoroughly, v6, one, best, rated, 10, years, personally, amazed, great, strides, american, quality, recently, olds, may, bad, idea]</td>\n",
       "      <td>[generally, 34, year, old, car, range, good, one, basically, sound, possible, get, one, still, warrenty, make, sure, trusted, nissan, mechanic, goes, thoroughly, v6, one, best, rated, 10, years, personally, amazed, great, strides, american, quality, recently, olds, may, bad, idea]</td>\n",
       "      <td>[nissan]</td>\n",
       "      <td>1</td>\n",
       "      <td>[generally, 34, year, old, car, range, good, one, basically, sound, possible, get, one, still, warrenty, make, sure, trusted, nissan, mechanic, goes, thoroughly, v6, one, best, rated, 10, years, personally, amazed, great, strides, american, quality, recently, olds, may, bad, idea]</td>\n",
       "    </tr>\n",
       "    <tr>\n",
       "      <th>5</th>\n",
       "      <td>2001-10-01</td>\n",
       "      <td>dindak</td>\n",
       "      <td>Maxima and Intrigue are both excellent choices for midsize sedans.</td>\n",
       "      <td>6,632</td>\n",
       "      <td>Member</td>\n",
       "      <td>[maxima, intrigue, excellent, choices, midsize, sedans]</td>\n",
       "      <td>[nissan, intrigue, excellent, choices, midsize, sedans]</td>\n",
       "      <td>[nissan]</td>\n",
       "      <td>1</td>\n",
       "      <td>[nissan, intrigue, excellent, choices, midsize, sedans]</td>\n",
       "    </tr>\n",
       "    <tr>\n",
       "      <th>6</th>\n",
       "      <td>2001-10-01</td>\n",
       "      <td>canadiancl</td>\n",
       "      <td>If I had that kind of budget, I would go for the A6 4.2 - - best combination of sport and luxury amongst the 4 choices.</td>\n",
       "      <td>1,078</td>\n",
       "      <td>Member</td>\n",
       "      <td>[kind, budget, would, go, a6, 42, best, combination, sport, luxury, amongst, 4, choices]</td>\n",
       "      <td>[kind, budget, would, go, audi, 42, best, combination, sport, luxury, amongst, 4, choices]</td>\n",
       "      <td>[audi]</td>\n",
       "      <td>1</td>\n",
       "      <td>[kind, budget, would, go, audi, 42, best, combination, sport, luxury, amongst, 4, choices]</td>\n",
       "    </tr>\n",
       "    <tr>\n",
       "      <th>7</th>\n",
       "      <td>2001-10-01</td>\n",
       "      <td>qbrozen</td>\n",
       "      <td>Actually, I was about to agree with the A6, but I just looked at the specs here on Edmunds. Both the A6 and A8 are 4000 lbs, and considering the A8 gets a bump in HP over the A6, I don't think performance difference is an issue. So, considering that and the fact that the A6 would possibly be to small for you based on the rest of your list, I say go for the A8. I think you'll find the AWD to be the best addition to a car you could ever have hoped for.</td>\n",
       "      <td>30,400</td>\n",
       "      <td>Member</td>\n",
       "      <td>[actually, agree, a6, looked, specs, edmunds, a6, a8, 4000, lbs, considering, a8, gets, bump, hp, a6, dont, think, performance, difference, issue, considering, fact, a6, would, possibly, small, based, rest, list, say, go, a8, think, youll, find, awd, best, addition, car, could, ever, hoped]</td>\n",
       "      <td>[actually, agree, audi, looked, specs, edmunds, audi, audi, 4000, lbs, considering, audi, gets, bump, hp, audi, dont, think, performance, difference, issue, considering, fact, audi, would, possibly, small, based, rest, list, say, go, audi, think, youll, find, awd, best, addition, car, could, ever, hoped]</td>\n",
       "      <td>[audi]</td>\n",
       "      <td>1</td>\n",
       "      <td>[actually, agree, audi, looked, specs, edmunds, audi, 4000, lbs, considering, audi, gets, bump, hp, audi, dont, think, performance, difference, issue, considering, fact, audi, would, possibly, small, based, rest, list, say, go, audi, think, youll, find, awd, best, addition, car, could, ever, hoped]</td>\n",
       "    </tr>\n",
       "    <tr>\n",
       "      <th>8</th>\n",
       "      <td>2001-10-01</td>\n",
       "      <td>black_tulip</td>\n",
       "      <td>I'd pass Intrigue only for one reason: crash test results are terrible...</td>\n",
       "      <td>438</td>\n",
       "      <td>Member</td>\n",
       "      <td>[id, pass, intrigue, one, reason, crash, test, results, terrible]</td>\n",
       "      <td>[id, pass, intrigue, one, reason, crash, test, results, terrible]</td>\n",
       "      <td>[]</td>\n",
       "      <td>0</td>\n",
       "      <td>[id, pass, intrigue, one, reason, crash, test, results, terrible]</td>\n",
       "    </tr>\n",
       "    <tr>\n",
       "      <th>9</th>\n",
       "      <td>2001-10-01</td>\n",
       "      <td>paulo3</td>\n",
       "      <td>I would recommend the Honda Accord or Toyota Camry as my choices for a sedan. The new Nissan Altima looks impressive but I would wait until the reliability of the 2002 is proven.The new BMW 525 is another nice car and is rated highly by many auto publications.</td>\n",
       "      <td>113</td>\n",
       "      <td>Member</td>\n",
       "      <td>[would, recommend, honda, accord, toyota, camry, choices, sedan, new, nissan, altima, looks, impressive, would, wait, reliability, 2002, proventhe, new, bmw, 525, another, nice, car, rated, highly, many, auto, publications]</td>\n",
       "      <td>[would, recommend, honda, honda, toyota, toyota, choices, sedan, new, nissan, nissan, looks, impressive, would, wait, reliability, 2002, proventhe, new, bmw, 525, another, nice, car, rated, highly, many, auto, publications]</td>\n",
       "      <td>[bmw, honda, nissan, toyota]</td>\n",
       "      <td>4</td>\n",
       "      <td>[would, recommend, honda, toyota, choices, sedan, new, nissan, looks, impressive, would, wait, reliability, 2002, proventhe, new, bmw, 525, another, nice, car, rated, highly, many, auto, publications]</td>\n",
       "    </tr>\n",
       "  </tbody>\n",
       "</table>\n",
       "</div>"
      ],
      "text/plain": [
       "        Date      User_Id  \\\n",
       "0 2001-09-01          pat   \n",
       "1 2001-09-01     willow25   \n",
       "2 2001-10-01       dindak   \n",
       "3 2001-10-01      peteri1   \n",
       "4 2001-10-01   mrdetailer   \n",
       "5 2001-10-01       dindak   \n",
       "6 2001-10-01   canadiancl   \n",
       "7 2001-10-01      qbrozen   \n",
       "8 2001-10-01  black_tulip   \n",
       "9 2001-10-01       paulo3   \n",
       "\n",
       "                                                                                                                                                                                                                                                                                                                                                                                                                                                                                                                                                                                                                                                                                                             Message  \\\n",
       "0                                                                                                                                                                                                                                                                                                                                                                     Need help choosing your next vehicle? Tell us your price range, are you thinking New or Used, buying or leasing, what features are must-haves, what other thoughts are on your mind, and let us give you a hand! Tell us your criteria as specifically as you can.You'll find lots of helpful folks here who can give you useful suggestions.    \n",
       "1                                                                                                                                                                                                                                                                                                                                                                         I'm buying a \"new\" car by the end of the year and my first choice is a Nissan Maxima. I've read that they are very reliable and hold their value well. My budget is probably going to allow for a 98-99 and I was wondering if it's worth buying a car that's almost 3-4 years old. Any suggestions or comments would help a lot.willow25    \n",
       "2                                                                                                                                                                                                                      Buy a 2001/ 2002 Oldsmobile Intrigue. It's one of the best sedans on the market with great handling and one of the best V6 engines around, a 3.5L DOHC producing 215HP. The deals should be great this year as it's the last on for Intrigue and the warrany on them has been extended to 5 years. The car is recommended by most magazines (including Consumer Reports), but is unfortunately over looked by most consumers. It is the sleeper of all sleepers on the market in my opinion.    \n",
       "3  Am looking at 1 of 4 choices to replace my 99GS400. I've read everything here and on other forums and have seen much conflicting info:4 options:Lexus LS430 with custom/luxury packageInfiniti Q45 with premium pckgAudi A-6 4.2 loaded Audi A-8 not stripped, but not loadedChicago winters--had Blizzaks on the GS--worked fine. My 95Q was pig in snow, but I'm sure 2002Q is a world away from that. I've heard Audi has some QC problems, but I like their maintenance being included. I'm a happy Lexus driver. The Q appears to offer the most for the $$. Will lease and in this economy, I would think I could command an attractive package. Can I go wrong with any of the 4? Am I missing something?    \n",
       "4                                                                                                                                                                                                                                                                                                                       Generally a 3-4 year old car range is a good one because they are basically sound. If possible get one that is still under warrenty. But if not, make sure that a trusted Maxima mechanic goes over it thoroughly. Their V-6 is one of the best rated for over 10 years. Personally I am amazed at the great strides in American Quality recently, so the Olds may not be a bad idea other.    \n",
       "5                                                                                                                                                                                                                                                                                                                                                                                                                                                                                                                                                                                                                                                Maxima and Intrigue are both excellent choices for midsize sedans.    \n",
       "6                                                                                                                                                                                                                                                                                                                                                                                                                                                                                                                                                                                           If I had that kind of budget, I would go for the A6 4.2 - - best combination of sport and luxury amongst the 4 choices.    \n",
       "7                                                                                                                                                                                                                                            Actually, I was about to agree with the A6, but I just looked at the specs here on Edmunds. Both the A6 and A8 are 4000 lbs, and considering the A8 gets a bump in HP over the A6, I don't think performance difference is an issue. So, considering that and the fact that the A6 would possibly be to small for you based on the rest of your list, I say go for the A8. I think you'll find the AWD to be the best addition to a car you could ever have hoped for.    \n",
       "8                                                                                                                                                                                                                                                                                                                                                                                                                                                                                                                                                                                                                                         I'd pass Intrigue only for one reason: crash test results are terrible...    \n",
       "9                                                                                                                                                                                                                                                                                                                                                                                                                                              I would recommend the Honda Accord or Toyota Camry as my choices for a sedan. The new Nissan Altima looks impressive but I would wait until the reliability of the 2002 is proven.The new BMW 525 is another nice car and is rated highly by many auto publications.    \n",
       "\n",
       "  NumberOfPastPosts    Role  \\\n",
       "0            10,421  Member   \n",
       "1                 2  Member   \n",
       "2             6,632  Member   \n",
       "3                21  Member   \n",
       "4             1,118  Member   \n",
       "5             6,632  Member   \n",
       "6             1,078  Member   \n",
       "7            30,400  Member   \n",
       "8               438  Member   \n",
       "9               113  Member   \n",
       "\n",
       "                                                                                                                                                                                                                                                                                                                                                                                                                                                                                                                                 Message_words  \\\n",
       "0                                                                                                                                                                                                                                                                             [need, help, choosing, next, vehicle, tell, us, price, range, thinking, new, used, buying, leasing, features, musthaves, thoughts, mind, let, us, give, hand, tell, us, criteria, specifically, canyoull, find, lots, helpful, folks, give, useful, suggestions]   \n",
       "1                                                                                                                                                                                                                                                                                [im, buying, new, car, end, year, first, choice, nissan, maxima, ive, read, reliable, hold, value, well, budget, probably, going, allow, 9899, wondering, worth, buying, car, thats, almost, 34, years, old, suggestions, comments, would, help, lotwillow25]   \n",
       "2                                                                                                                                                                                           [buy, 2001, 2002, oldsmobile, intrigue, one, best, sedans, market, great, handling, one, best, v6, engines, around, 35l, dohc, producing, 215hp, deals, great, year, last, intrigue, warrany, extended, 5, years, car, recommended, magazines, including, consumer, reports, unfortunately, looked, consumers, sleeper, sleepers, market, opinion]   \n",
       "3  [looking, 1, 4, choices, replace, 99gs400, ive, read, everything, forums, seen, much, conflicting, info4, optionslexus, ls430, customluxury, packageinfiniti, q45, premium, pckgaudi, a6, 42, loaded, audi, a8, stripped, loadedchicago, wintershad, blizzaks, gsworked, fine, 95q, pig, snow, im, sure, 2002q, world, away, ive, heard, audi, qc, problems, like, maintenance, included, im, happy, lexus, driver, q, appears, offer, lease, economy, would, think, could, command, attractive, package, go, wrong, 4, missing, something]   \n",
       "4                                                                                                                                                                                                                                                    [generally, 34, year, old, car, range, good, one, basically, sound, possible, get, one, still, warrenty, make, sure, trusted, maxima, mechanic, goes, thoroughly, v6, one, best, rated, 10, years, personally, amazed, great, strides, american, quality, recently, olds, may, bad, idea]   \n",
       "5                                                                                                                                                                                                                                                                                                                                                                                                                                                                                      [maxima, intrigue, excellent, choices, midsize, sedans]   \n",
       "6                                                                                                                                                                                                                                                                                                                                                                                                                                                     [kind, budget, would, go, a6, 42, best, combination, sport, luxury, amongst, 4, choices]   \n",
       "7                                                                                                                                                                                                                                          [actually, agree, a6, looked, specs, edmunds, a6, a8, 4000, lbs, considering, a8, gets, bump, hp, a6, dont, think, performance, difference, issue, considering, fact, a6, would, possibly, small, based, rest, list, say, go, a8, think, youll, find, awd, best, addition, car, could, ever, hoped]   \n",
       "8                                                                                                                                                                                                                                                                                                                                                                                                                                                                            [id, pass, intrigue, one, reason, crash, test, results, terrible]   \n",
       "9                                                                                                                                                                                                                                                                                                              [would, recommend, honda, accord, toyota, camry, choices, sedan, new, nissan, altima, looks, impressive, would, wait, reliability, 2002, proventhe, new, bmw, 525, another, nice, car, rated, highly, many, auto, publications]   \n",
       "\n",
       "                                                                                                                                                                                                                                                                                                                                                                                                                                                                                                                                  Message_words_v2  \\\n",
       "0                                                                                                                                                                                                                                                                                 [need, help, choosing, next, vehicle, tell, us, price, range, thinking, new, used, buying, leasing, features, musthaves, thoughts, mind, let, us, give, hand, tell, us, criteria, specifically, canyoull, find, lots, helpful, folks, give, useful, suggestions]   \n",
       "1                                                                                                                                                                                                                                                                                    [im, buying, new, car, end, year, first, choice, nissan, nissan, ive, read, reliable, hold, value, well, budget, probably, going, allow, 9899, wondering, worth, buying, car, thats, almost, 34, years, old, suggestions, comments, would, help, lotwillow25]   \n",
       "2                                                                                                                                                                                               [buy, 2001, 2002, oldsmobile, intrigue, one, best, sedans, market, great, handling, one, best, v6, engines, around, 35l, dohc, producing, 215hp, deals, great, year, last, intrigue, warrany, extended, 5, years, car, recommended, magazines, including, consumer, reports, unfortunately, looked, consumers, sleeper, sleepers, market, opinion]   \n",
       "3  [looking, 1, 4, choices, replace, 99gs400, ive, read, everything, forums, seen, much, conflicting, info4, optionslexus, ls430, customluxury, packageinfiniti, q45, premium, pckgaudi, audi, 42, loaded, audi, audi, stripped, loadedchicago, wintershad, blizzaks, gsworked, fine, 95q, pig, snow, im, sure, 2002q, world, away, ive, heard, audi, qc, problems, like, maintenance, included, im, happy, lexus, driver, q, appears, offer, lease, economy, would, think, could, command, attractive, package, go, wrong, 4, missing, something]   \n",
       "4                                                                                                                                                                                                                                                        [generally, 34, year, old, car, range, good, one, basically, sound, possible, get, one, still, warrenty, make, sure, trusted, nissan, mechanic, goes, thoroughly, v6, one, best, rated, 10, years, personally, amazed, great, strides, american, quality, recently, olds, may, bad, idea]   \n",
       "5                                                                                                                                                                                                                                                                                                                                                                                                                                                                                          [nissan, intrigue, excellent, choices, midsize, sedans]   \n",
       "6                                                                                                                                                                                                                                                                                                                                                                                                                                                       [kind, budget, would, go, audi, 42, best, combination, sport, luxury, amongst, 4, choices]   \n",
       "7                                                                                                                                                                                                                                [actually, agree, audi, looked, specs, edmunds, audi, audi, 4000, lbs, considering, audi, gets, bump, hp, audi, dont, think, performance, difference, issue, considering, fact, audi, would, possibly, small, based, rest, list, say, go, audi, think, youll, find, awd, best, addition, car, could, ever, hoped]   \n",
       "8                                                                                                                                                                                                                                                                                                                                                                                                                                                                                [id, pass, intrigue, one, reason, crash, test, results, terrible]   \n",
       "9                                                                                                                                                                                                                                                                                                                  [would, recommend, honda, honda, toyota, toyota, choices, sedan, new, nissan, nissan, looks, impressive, would, wait, reliability, 2002, proventhe, new, bmw, 525, another, nice, car, rated, highly, many, auto, publications]   \n",
       "\n",
       "              Brands_in_message  Qty_brands  \\\n",
       "0                            []           0   \n",
       "1                      [nissan]           1   \n",
       "2                            []           0   \n",
       "3                        [audi]           1   \n",
       "4                      [nissan]           1   \n",
       "5                      [nissan]           1   \n",
       "6                        [audi]           1   \n",
       "7                        [audi]           1   \n",
       "8                            []           0   \n",
       "9  [bmw, honda, nissan, toyota]           4   \n",
       "\n",
       "                                                                                                                                                                                                                                                                                                                                                                                                                                                                                                                            Message_words_v3  \n",
       "0                                                                                                                                                                                                                                                                           [need, help, choosing, next, vehicle, tell, us, price, range, thinking, new, used, buying, leasing, features, musthaves, thoughts, mind, let, us, give, hand, tell, us, criteria, specifically, canyoull, find, lots, helpful, folks, give, useful, suggestions]  \n",
       "1                                                                                                                                                                                                                                                                                      [im, buying, new, car, end, year, first, choice, nissan, ive, read, reliable, hold, value, well, budget, probably, going, allow, 9899, wondering, worth, buying, car, thats, almost, 34, years, old, suggestions, comments, would, help, lotwillow25]  \n",
       "2                                                                                                                                                                                         [buy, 2001, 2002, oldsmobile, intrigue, one, best, sedans, market, great, handling, one, best, v6, engines, around, 35l, dohc, producing, 215hp, deals, great, year, last, intrigue, warrany, extended, 5, years, car, recommended, magazines, including, consumer, reports, unfortunately, looked, consumers, sleeper, sleepers, market, opinion]  \n",
       "3  [looking, 1, 4, choices, replace, 99gs400, ive, read, everything, forums, seen, much, conflicting, info4, optionslexus, ls430, customluxury, packageinfiniti, q45, premium, pckgaudi, audi, 42, loaded, audi, stripped, loadedchicago, wintershad, blizzaks, gsworked, fine, 95q, pig, snow, im, sure, 2002q, world, away, ive, heard, audi, qc, problems, like, maintenance, included, im, happy, lexus, driver, q, appears, offer, lease, economy, would, think, could, command, attractive, package, go, wrong, 4, missing, something]  \n",
       "4                                                                                                                                                                                                                                                  [generally, 34, year, old, car, range, good, one, basically, sound, possible, get, one, still, warrenty, make, sure, trusted, nissan, mechanic, goes, thoroughly, v6, one, best, rated, 10, years, personally, amazed, great, strides, american, quality, recently, olds, may, bad, idea]  \n",
       "5                                                                                                                                                                                                                                                                                                                                                                                                                                                                                    [nissan, intrigue, excellent, choices, midsize, sedans]  \n",
       "6                                                                                                                                                                                                                                                                                                                                                                                                                                                 [kind, budget, would, go, audi, 42, best, combination, sport, luxury, amongst, 4, choices]  \n",
       "7                                                                                                                                                                                                                                [actually, agree, audi, looked, specs, edmunds, audi, 4000, lbs, considering, audi, gets, bump, hp, audi, dont, think, performance, difference, issue, considering, fact, audi, would, possibly, small, based, rest, list, say, go, audi, think, youll, find, awd, best, addition, car, could, ever, hoped]  \n",
       "8                                                                                                                                                                                                                                                                                                                                                                                                                                                                          [id, pass, intrigue, one, reason, crash, test, results, terrible]  \n",
       "9                                                                                                                                                                                                                                                                                                                                   [would, recommend, honda, toyota, choices, sedan, new, nissan, looks, impressive, would, wait, reliability, 2002, proventhe, new, bmw, 525, another, nice, car, rated, highly, many, auto, publications]  "
      ]
     },
     "execution_count": 125,
     "metadata": {},
     "output_type": "execute_result"
    }
   ],
   "source": [
    "df.head(10)"
   ]
  },
  {
   "cell_type": "code",
   "execution_count": null,
   "id": "316bd44c",
   "metadata": {},
   "outputs": [],
   "source": [
    "#Removing duplicate brands in lists but only"
   ]
  },
  {
   "cell_type": "markdown",
   "id": "84b033a2",
   "metadata": {},
   "source": [
    "## Link attributes to models"
   ]
  },
  {
   "cell_type": "code",
   "execution_count": 11,
   "id": "fb62c477",
   "metadata": {},
   "outputs": [],
   "source": [
    "# first lets count brand mentions in each record"
   ]
  },
  {
   "cell_type": "code",
   "execution_count": 126,
   "id": "cf3cfdd7",
   "metadata": {},
   "outputs": [],
   "source": [
    "messages = df.Message_words_v3.to_list()"
   ]
  },
  {
   "cell_type": "code",
   "execution_count": 127,
   "id": "f592bf42",
   "metadata": {},
   "outputs": [
    {
     "name": "stderr",
     "output_type": "stream",
     "text": [
      "C:\\Users\\louis\\AppData\\Local\\Temp/ipykernel_16476/3185542915.py:6: FutureWarning: elementwise comparison failed; returning scalar instead, but in the future will perform elementwise comparison\n",
      "  if len(np.where(m == brand)[0]) >0:\n"
     ]
    }
   ],
   "source": [
    "brands_in_message = []\n",
    "for m in messages:\n",
    "    \n",
    "    brands_mentioned = []\n",
    "    for brand in brands_list:\n",
    "        if len(np.where(m == brand)[0]) >0:\n",
    "            brands_mentioned.append(brand)\n",
    "            \n",
    "    brands_in_message.append(brands_mentioned)\n",
    "        \n",
    "    "
   ]
  },
  {
   "cell_type": "code",
   "execution_count": 128,
   "id": "9d8e17f7",
   "metadata": {},
   "outputs": [],
   "source": [
    "df['Brands_in_message'] = brands_in_message"
   ]
  },
  {
   "cell_type": "code",
   "execution_count": 129,
   "id": "50201dfe",
   "metadata": {},
   "outputs": [],
   "source": [
    "df['Qty_brands'] = df.Brands_in_message.apply(lambda x: len(x))"
   ]
  },
  {
   "cell_type": "code",
   "execution_count": 130,
   "id": "e212d7d4",
   "metadata": {},
   "outputs": [
    {
     "data": {
      "text/plain": [
       "0     1291\n",
       "1     1215\n",
       "2      755\n",
       "3      459\n",
       "4      219\n",
       "5      109\n",
       "6       54\n",
       "7       24\n",
       "8       10\n",
       "9        6\n",
       "11       4\n",
       "10       3\n",
       "16       1\n",
       "13       1\n",
       "Name: Qty_brands, dtype: int64"
      ]
     },
     "execution_count": 130,
     "metadata": {},
     "output_type": "execute_result"
    }
   ],
   "source": [
    "df['Qty_brands'].value_counts()\n",
    "\n",
    "# Most messages discuss a single brand\n",
    "# Also common to compare 2 brands\n",
    "# 727 messages don't mention any brand (remove them from analysis?)\n",
    "# Passing a certain treshold (5+), I think it would be better to remove comments since it will be hard to figure out which\n",
    "# attribute belongs to each brand"
   ]
  },
  {
   "cell_type": "code",
   "execution_count": 131,
   "id": "49bfea68",
   "metadata": {},
   "outputs": [
    {
     "data": {
      "text/plain": [
       "0                                                                                       [need, help, choosing, next, vehicle, tell, us, price, range, thinking, new, used, buying, leasing, features, musthaves, thoughts, mind, let, us, give, hand, tell, us, criteria, specifically, canyoull, find, lots, helpful, folks, give, useful, suggestions]\n",
       "2     [buy, 2001, 2002, oldsmobile, intrigue, one, best, sedans, market, great, handling, one, best, v6, engines, around, 35l, dohc, producing, 215hp, deals, great, year, last, intrigue, warrany, extended, 5, years, car, recommended, magazines, including, consumer, reports, unfortunately, looked, consumers, sleeper, sleepers, market, opinion]\n",
       "8                                                                                                                                                                                                                                                                                      [id, pass, intrigue, one, reason, crash, test, results, terrible]\n",
       "10                                                                                                                         [way, figure, car, like, test, drive, theres, reason, test, drive, every, car, market, dont, test, drive, one, car, say, oh, like, cause, dont, test, drive, best, cars, price, range, even, helps, well, dont, reference, p]\n",
       "14                                                                                                                                                                                                                                                                                              [go, s6, avant, think, great, car, ready, switch, wagon]\n",
       "16                                                                                                                                                                                                                                                                                 [topic, way, broad, people, different, price, points, vehicle, types]\n",
       "17                                                                                                                                                                         [well, considering, 17th, message, last, 2, weeks, id, say, breaking, topic, would, downright, silly, wouldnt, worry, diversity, starts, getting, hand, manageable, far, see]\n",
       "18                                                                [well, obviously, gotta, get, youll, happy, cant, fight, urges, certainly, know, thatpersonally, sheer, power, performance, s6, would, make, overlook, fact, wagon, conscience, would, keep, awake, night, chose, slower, sedan, thats, bothers, stay, clear, happy, choicegood, luck]\n",
       "21                                                                                                                                                                                                                                                                                                                                                    []\n",
       "22                                                                                                                                                                                                                   [yesbut, get, iti, suggest, keeping, long, matters, sell, rolls, orwhen, old, doubt, reliabilityit, make, great, hobbyweekend, car]\n",
       "Name: Message_words_v3, dtype: object"
      ]
     },
     "execution_count": 131,
     "metadata": {},
     "output_type": "execute_result"
    }
   ],
   "source": [
    "df.loc[df.Qty_brands == 0, 'Message_words_v3'].head(10) # to review records with no brand mentions\n",
    "# most of them are for seeking advice"
   ]
  },
  {
   "cell_type": "code",
   "execution_count": 132,
   "id": "d447fccb",
   "metadata": {},
   "outputs": [
    {
     "name": "stdout",
     "output_type": "stream",
     "text": [
      "2\n",
      "honda\n",
      "['would' 'recommend' 'honda']\n",
      "3\n",
      "toyota\n",
      "['toyota' 'choices' 'sedan' 'new']\n",
      "7\n",
      "nissan\n",
      "['nissan' 'looks' 'impressive' 'would' 'wait' 'reliability' '2002'\n",
      " 'proventhe' 'new']\n",
      "16\n",
      "bmw\n",
      "['bmw' '525' 'another' 'nice' 'car' 'rated' 'highly' 'many' 'auto'\n",
      " 'publications']\n"
     ]
    }
   ],
   "source": [
    "m = df.Message_words_v3[9] #record 9 is a good exaple\n",
    "brand_dic = {}\n",
    "for brand in brands_list:\n",
    "    ix = np.where(m == brand)[0]\n",
    "    if len(ix) > 0:\n",
    "        brand_dic[brand] = ix[0]\n",
    "        \n",
    "\n",
    "brand_dic = dict(sorted(brand_dic.items(), key=lambda x:x[1]))\n",
    "\n",
    "brand_list = list(brand_dic.values()) + [len(m)]\n",
    "\n",
    "for i, tup in enumerate(brand_dic):\n",
    "    print(brand_dic[tup])\n",
    "    print(tup)\n",
    "    \n",
    "    if i == 0:\n",
    "        \n",
    "        print(m[0:brand_list[1]])\n",
    "    else:\n",
    "        print(m[brand_list[i]:brand_list[i+1]])\n",
    "        \n",
    "        "
   ]
  },
  {
   "cell_type": "code",
   "execution_count": 133,
   "id": "57971ed3",
   "metadata": {},
   "outputs": [
    {
     "name": "stderr",
     "output_type": "stream",
     "text": [
      "C:\\Users\\louis\\AppData\\Local\\Temp/ipykernel_16476/721950690.py:9: FutureWarning: elementwise comparison failed; returning scalar instead, but in the future will perform elementwise comparison\n",
      "  ix = np.where(m == brand)[0]\n"
     ]
    }
   ],
   "source": [
    "# now we run it for all records\n",
    "\n",
    "brand_reviews = []\n",
    "\n",
    "for m in df.Message_words_v3:\n",
    "\n",
    "    brand_dic = {}\n",
    "    for brand in brands_list:\n",
    "        ix = np.where(m == brand)[0]\n",
    "        if len(ix) > 0:\n",
    "            brand_dic[brand] = ix[0]\n",
    "\n",
    "    brand_dic = dict(sorted(brand_dic.items(), key=lambda x:x[1]))\n",
    "\n",
    "    brand_list = list(brand_dic.values()) + [len(m)]\n",
    "\n",
    "\n",
    "    review={}\n",
    "    for i, tup in enumerate(brand_dic):\n",
    "        #print(brand_dic[tup])\n",
    "        #print(tup)\n",
    "\n",
    "        if i == 0:\n",
    "            \n",
    "            review[tup] = m[0:brand_list[1]]\n",
    "        else:\n",
    "            review[tup] = m[brand_list[i]:brand_list[i+1]]\n",
    "            \n",
    "    brand_reviews.append(review)\n",
    "\n",
    "# generates a list (1 entry per row) of dictionaries {brand: part of text corresponding}"
   ]
  },
  {
   "cell_type": "code",
   "execution_count": 134,
   "id": "a05655e8",
   "metadata": {},
   "outputs": [
    {
     "data": {
      "text/plain": [
       "4151"
      ]
     },
     "execution_count": 134,
     "metadata": {},
     "output_type": "execute_result"
    }
   ],
   "source": [
    "len(brand_reviews) # each record becomes a single dictionary with all its brand mentions and linked words"
   ]
  },
  {
   "cell_type": "code",
   "execution_count": 135,
   "id": "9f8d8417",
   "metadata": {},
   "outputs": [
    {
     "data": {
      "text/plain": [
       "{'honda': array(['would', 'recommend', 'honda'], dtype='<U12'),\n",
       " 'toyota': array(['toyota', 'choices', 'sedan', 'new'], dtype='<U12'),\n",
       " 'nissan': array(['nissan', 'looks', 'impressive', 'would', 'wait', 'reliability',\n",
       "        '2002', 'proventhe', 'new'], dtype='<U12'),\n",
       " 'bmw': array(['bmw', '525', 'another', 'nice', 'car', 'rated', 'highly', 'many',\n",
       "        'auto', 'publications'], dtype='<U12')}"
      ]
     },
     "execution_count": 135,
     "metadata": {},
     "output_type": "execute_result"
    }
   ],
   "source": [
    "brand_reviews[9]"
   ]
  },
  {
   "cell_type": "code",
   "execution_count": 136,
   "id": "85598847",
   "metadata": {},
   "outputs": [],
   "source": [
    "# now we need to concatenate all reviews for each brand into a single key in a dictionary\n",
    "review_accum = {i:[] for i in brands_list}"
   ]
  },
  {
   "cell_type": "code",
   "execution_count": 137,
   "id": "f7ee10fd",
   "metadata": {},
   "outputs": [],
   "source": [
    "for brand in brands_list:\n",
    "    for review in brand_reviews:\n",
    "        for single_review in review:\n",
    "            #print(review[single_review])\n",
    "            if single_review==brand:\n",
    "                review_accum[brand].extend(review[single_review])"
   ]
  },
  {
   "cell_type": "code",
   "execution_count": 138,
   "id": "314be13e",
   "metadata": {},
   "outputs": [],
   "source": [
    "## from here, we are ready to start counting attributes per brand\n",
    "## we also need to consider replacing some similar attributes before doing the final count \n",
    "## I will do one example with Audi but it could become a function and run in a loop to all the brands "
   ]
  },
  {
   "cell_type": "code",
   "execution_count": 139,
   "id": "499346d1",
   "metadata": {
    "scrolled": true
   },
   "outputs": [
    {
     "data": {
      "text/plain": [
       "car           3152\n",
       "honda         1746\n",
       "like          1634\n",
       "would         1600\n",
       "get           1453\n",
       "new           1394\n",
       "toyota        1341\n",
       "cars          1324\n",
       "good          1249\n",
       "one           1178\n",
       "also           964\n",
       "nissan         963\n",
       "im             943\n",
       "dont           883\n",
       "drive          880\n",
       "miles          823\n",
       "much           808\n",
       "want           802\n",
       "better         796\n",
       "years          776\n",
       "used           766\n",
       "think          750\n",
       "volkswagen     738\n",
       "price          737\n",
       "looking        714\n",
       "well           699\n",
       "really         669\n",
       "buy            583\n",
       "know           579\n",
       "go             560\n",
       "even           560\n",
       "chevrolet      556\n",
       "seat           551\n",
       "need           550\n",
       "great          533\n",
       "year           532\n",
       "could          529\n",
       "ive            495\n",
       "driving        487\n",
       "might          481\n",
       "dtype: int64"
      ]
     },
     "execution_count": 139,
     "metadata": {},
     "output_type": "execute_result"
    }
   ],
   "source": [
    "# first lets discover popular attributes regardless of brands\n",
    "\n",
    "all_attributes = []\n",
    "\n",
    "for i in list(review_accum.values()):\n",
    "    all_attributes.extend(i)\n",
    "    \n",
    "words = pd.Series(all_attributes)\n",
    "\n",
    "words.value_counts().head(40) # this shows the frequencies of each word\n",
    "# the most \"rustic\" approach would be to literally print them in order and take note of the ones that can be considered \"attributes\""
   ]
  },
  {
   "cell_type": "code",
   "execution_count": 140,
   "id": "e9de0fb9",
   "metadata": {
    "scrolled": true
   },
   "outputs": [
    {
     "data": {
      "text/plain": [
       "car            3152\n",
       "like           1634\n",
       "would          1600\n",
       "get            1453\n",
       "new            1394\n",
       "cars           1324\n",
       "good           1249\n",
       "one            1178\n",
       "also            964\n",
       "im              943\n",
       "dont            883\n",
       "drive           880\n",
       "miles           823\n",
       "much            808\n",
       "want            802\n",
       "better          796\n",
       "years           776\n",
       "used            766\n",
       "think           750\n",
       "price           737\n",
       "looking         714\n",
       "well            699\n",
       "really          669\n",
       "buy             583\n",
       "know            579\n",
       "even            560\n",
       "go              560\n",
       "need            550\n",
       "great           533\n",
       "year            532\n",
       "could           529\n",
       "ive             495\n",
       "driving         487\n",
       "might           481\n",
       "time            479\n",
       "look            466\n",
       "lot             456\n",
       "best            454\n",
       "engine          454\n",
       "something       446\n",
       "3               445\n",
       "reliability     442\n",
       "id              441\n",
       "nice            439\n",
       "going           434\n",
       "vehicle         433\n",
       "civic           431\n",
       "old             424\n",
       "probably        419\n",
       "still           409\n",
       "4               409\n",
       "less            402\n",
       "model           402\n",
       "around          396\n",
       "back            396\n",
       "find            371\n",
       "dealer          367\n",
       "make            366\n",
       "thats           366\n",
       "test            364\n",
       "dtype: int64"
      ]
     },
     "execution_count": 140,
     "metadata": {},
     "output_type": "execute_result"
    }
   ],
   "source": [
    "words[~words.isin(brands_list)].value_counts().head(60)\n"
   ]
  },
  {
   "cell_type": "code",
   "execution_count": 155,
   "id": "25a23f77",
   "metadata": {},
   "outputs": [],
   "source": [
    "words_count = words.value_counts()\n",
    "words_nobrands_count = words[~words.isin(brands_list)].value_counts()"
   ]
  },
  {
   "cell_type": "markdown",
   "id": "308c0828",
   "metadata": {},
   "source": [
    "### Stemming"
   ]
  },
  {
   "cell_type": "code",
   "execution_count": 144,
   "id": "207f9071",
   "metadata": {},
   "outputs": [],
   "source": [
    "#Stemming\n",
    "stemmer = PorterStemmer()"
   ]
  },
  {
   "cell_type": "code",
   "execution_count": 149,
   "id": "bbc6f3cf",
   "metadata": {},
   "outputs": [],
   "source": [
    "def stem_list (text):\n",
    "    return pd.Series([stemmer.stem(w) for w in text])"
   ]
  },
  {
   "cell_type": "code",
   "execution_count": 150,
   "id": "8ef290d9",
   "metadata": {},
   "outputs": [
    {
     "data": {
      "text/plain": [
       "191416"
      ]
     },
     "execution_count": 150,
     "metadata": {},
     "output_type": "execute_result"
    }
   ],
   "source": [
    "stemmed_words = stem_list(words)\n",
    "len(stemmed_words)"
   ]
  },
  {
   "cell_type": "code",
   "execution_count": 151,
   "id": "991bf9ba",
   "metadata": {
    "scrolled": true
   },
   "outputs": [
    {
     "data": {
      "text/plain": [
       "car           4477\n",
       "like          1924\n",
       "get           1854\n",
       "honda         1746\n",
       "would         1600\n",
       "look          1585\n",
       "drive         1477\n",
       "new           1394\n",
       "toyota        1341\n",
       "year          1308\n",
       "one           1270\n",
       "good          1251\n",
       "use           1023\n",
       "go             994\n",
       "want           993\n",
       "also           964\n",
       "nissan         963\n",
       "im             943\n",
       "price          925\n",
       "mile           900\n",
       "think          890\n",
       "dont           883\n",
       "buy            848\n",
       "much           808\n",
       "reliabl        806\n",
       "better         799\n",
       "volkswagen     741\n",
       "need           738\n",
       "well           699\n",
       "vehicl         690\n",
       "realli         669\n",
       "know           635\n",
       "model          633\n",
       "time           589\n",
       "seat           581\n",
       "make           581\n",
       "lot            578\n",
       "even           562\n",
       "chevrolet      558\n",
       "engin          557\n",
       "great          533\n",
       "could          529\n",
       "dealer         506\n",
       "ive            495\n",
       "consid         485\n",
       "might          481\n",
       "sedan          463\n",
       "nice           459\n",
       "civic          459\n",
       "best           455\n",
       "someth         446\n",
       "3              445\n",
       "audi           444\n",
       "id             442\n",
       "leas           442\n",
       "old            441\n",
       "mazda          426\n",
       "find           422\n",
       "option         422\n",
       "probabl        420\n",
       "dtype: int64"
      ]
     },
     "execution_count": 151,
     "metadata": {},
     "output_type": "execute_result"
    }
   ],
   "source": [
    "stemmed_words.value_counts().head(60)"
   ]
  },
  {
   "cell_type": "code",
   "execution_count": 152,
   "id": "6d686686",
   "metadata": {
    "scrolled": true
   },
   "outputs": [
    {
     "data": {
      "text/plain": [
       "car        4477\n",
       "like       1924\n",
       "get        1854\n",
       "would      1600\n",
       "look       1585\n",
       "drive      1477\n",
       "new        1394\n",
       "year       1308\n",
       "one        1270\n",
       "good       1251\n",
       "use        1023\n",
       "go          994\n",
       "want        993\n",
       "also        964\n",
       "im          943\n",
       "price       925\n",
       "mile        900\n",
       "think       890\n",
       "dont        883\n",
       "buy         848\n",
       "much        808\n",
       "reliabl     806\n",
       "better      799\n",
       "need        738\n",
       "well        699\n",
       "vehicl      690\n",
       "realli      669\n",
       "know        635\n",
       "model       633\n",
       "time        589\n",
       "make        581\n",
       "lot         578\n",
       "even        562\n",
       "engin       557\n",
       "great       533\n",
       "could       529\n",
       "dealer      506\n",
       "ive         495\n",
       "consid      485\n",
       "might       481\n",
       "sedan       463\n",
       "nice        459\n",
       "civic       459\n",
       "best        455\n",
       "someth      446\n",
       "3           445\n",
       "id          442\n",
       "leas        442\n",
       "old         441\n",
       "find        422\n",
       "option      422\n",
       "probabl     420\n",
       "test        419\n",
       "seem        415\n",
       "back        409\n",
       "4           409\n",
       "still       409\n",
       "cost        403\n",
       "less        402\n",
       "around      396\n",
       "dtype: int64"
      ]
     },
     "execution_count": 152,
     "metadata": {},
     "output_type": "execute_result"
    }
   ],
   "source": [
    "stemmed_words[~stemmed_words.isin(brands_list)].value_counts().head(60)\n"
   ]
  },
  {
   "cell_type": "code",
   "execution_count": 158,
   "id": "fb673039",
   "metadata": {},
   "outputs": [],
   "source": [
    "stemwords_count = stemmed_words.value_counts()\n",
    "stemwords_nobrands_count = stemmed_words[~stemmed_words.isin(brands_list)].value_counts()"
   ]
  },
  {
   "cell_type": "code",
   "execution_count": 162,
   "id": "929b0f19",
   "metadata": {},
   "outputs": [],
   "source": [
    "#Export value count series to a single multi-sheet Excel\n",
    "#pip install xlsxwriter\n",
    "writer = pd.ExcelWriter('attribute_count.xlsx', engine='xlsxwriter')\n"
   ]
  },
  {
   "cell_type": "code",
   "execution_count": 164,
   "id": "0e136b1e",
   "metadata": {},
   "outputs": [],
   "source": [
    "words_count.to_excel(writer, sheet_name='words_valuecounts')\n",
    "words_nobrands_count.to_excel(writer, sheet_name='words_nobrands_valuecounts')\n",
    "stemwords_count.to_excel(writer, sheet_name='stemwords_valuecounts')\n",
    "stemwords_nobrands_count.to_excel(writer, sheet_name='stemwords_nobrands_valuecounts')"
   ]
  },
  {
   "cell_type": "code",
   "execution_count": 165,
   "id": "339b6981",
   "metadata": {},
   "outputs": [],
   "source": [
    "writer.save()\n"
   ]
  },
  {
   "cell_type": "code",
   "execution_count": 27,
   "id": "fcfc4ee2",
   "metadata": {},
   "outputs": [],
   "source": [
    "# once we have the list of the 5 most popular attributes, my guess is we have to calculate the uplift scores of said attribute\n",
    "# against the 5 top brands found in letter A). Then the uplift should tell us which brand is more related to which attribute"
   ]
  },
  {
   "cell_type": "code",
   "execution_count": 28,
   "id": "0c7b0ddd",
   "metadata": {},
   "outputs": [],
   "source": [
    "# let's say \"reliability\" is one of the popular attributes \n",
    "# and the top 5 brands are: honda, nissan, audi, bwm, toyota\n",
    "# let's get the inputs necessary to calculate uplift of reliability in nissan"
   ]
  },
  {
   "cell_type": "code",
   "execution_count": 29,
   "id": "772acee9",
   "metadata": {},
   "outputs": [
    {
     "data": {
      "text/plain": [
       "525"
      ]
     },
     "execution_count": 29,
     "metadata": {},
     "output_type": "execute_result"
    }
   ],
   "source": [
    "n=0\n",
    "for i in  df.Brands_in_message:\n",
    "    if 'nissan' in i:\n",
    "        n += 1\n",
    "n\n",
    "#nissan appears in 525 rows "
   ]
  },
  {
   "cell_type": "code",
   "execution_count": 30,
   "id": "76751eff",
   "metadata": {},
   "outputs": [
    {
     "data": {
      "text/plain": [
       "28"
      ]
     },
     "execution_count": 30,
     "metadata": {},
     "output_type": "execute_result"
    }
   ],
   "source": [
    "df_nissan = pd.DataFrame(review_accum['nissan'], columns = ['word'])\n",
    "(df_nissan.word == 'reliability').sum() # 73 mentions of \"relibaility\" in honda\n",
    "\n",
    "# and 28 times the term \"reliability\" was mentioned alongside a nissan"
   ]
  },
  {
   "cell_type": "code",
   "execution_count": 31,
   "id": "b98bd43a",
   "metadata": {},
   "outputs": [
    {
     "name": "stdout",
     "output_type": "stream",
     "text": [
      "924\n"
     ]
    },
    {
     "data": {
      "text/plain": [
       "73"
      ]
     },
     "execution_count": 31,
     "metadata": {},
     "output_type": "execute_result"
    }
   ],
   "source": [
    "# how about honda?\n",
    "\n",
    "n=0\n",
    "for i in  df.Brands_in_message:\n",
    "    if 'honda' in i:\n",
    "        n += 1\n",
    "print(n)\n",
    "\n",
    "\n",
    "df_honda = pd.DataFrame(review_accum['honda'], columns = ['word'])\n",
    "(df_honda.word == 'reliability').sum() # 73 mentions of \"relibaility\" in honda\n"
   ]
  },
  {
   "cell_type": "code",
   "execution_count": 32,
   "id": "59086e7c",
   "metadata": {},
   "outputs": [
    {
     "data": {
      "text/plain": [
       "0.07900432900432901"
      ]
     },
     "execution_count": 32,
     "metadata": {},
     "output_type": "execute_result"
    }
   ],
   "source": [
    "73/924 # not the exact uplift formula but a quick validation"
   ]
  },
  {
   "cell_type": "code",
   "execution_count": 33,
   "id": "514b3cec",
   "metadata": {},
   "outputs": [
    {
     "data": {
      "text/plain": [
       "0.05333333333333334"
      ]
     },
     "execution_count": 33,
     "metadata": {},
     "output_type": "execute_result"
    }
   ],
   "source": [
    "28/525 # vs nissan"
   ]
  },
  {
   "cell_type": "code",
   "execution_count": 34,
   "id": "9ad7f380",
   "metadata": {},
   "outputs": [],
   "source": [
    "# honda has more prevalence as a reliable brand than nissan (pending to adjust for uplift real formula)"
   ]
  },
  {
   "cell_type": "markdown",
   "id": "be5b8117",
   "metadata": {},
   "source": [
    "to consider:\n",
    "\n",
    "right now the code counts all the appearances of an attribute, even if they come from the same record; I think that is not the exact definition of the uplift formula. I don't think it will change the numbers very much, but would be good to refine it if we have the time"
   ]
  },
  {
   "cell_type": "code",
   "execution_count": null,
   "id": "3268d3e4",
   "metadata": {},
   "outputs": [],
   "source": []
  },
  {
   "cell_type": "code",
   "execution_count": null,
   "id": "19b32aab",
   "metadata": {},
   "outputs": [],
   "source": []
  }
 ],
 "metadata": {
  "kernelspec": {
   "display_name": "Python 3 (ipykernel)",
   "language": "python",
   "name": "python3"
  },
  "language_info": {
   "codemirror_mode": {
    "name": "ipython",
    "version": 3
   },
   "file_extension": ".py",
   "mimetype": "text/x-python",
   "name": "python",
   "nbconvert_exporter": "python",
   "pygments_lexer": "ipython3",
   "version": "3.8.12"
  }
 },
 "nbformat": 4,
 "nbformat_minor": 5
}

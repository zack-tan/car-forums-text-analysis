{
 "cells": [
  {
   "cell_type": "code",
   "execution_count": 2,
   "id": "c989c871",
   "metadata": {},
   "outputs": [],
   "source": [
    "import pandas as pd\n",
    "pd.set_option('display.max_colwidth', None) # to read records completely\n",
    "import pickle\n",
    "import numpy as np\n",
    "import itertools\n",
    "from nltk.stem import PorterStemmer\n",
    "from sklearn.feature_extraction.text import TfidfVectorizer\n",
    "import pickle"
   ]
  },
  {
   "cell_type": "markdown",
   "id": "3ea2bacb",
   "metadata": {},
   "source": [
    "## Previous data prep necessary for c) and d)"
   ]
  },
  {
   "cell_type": "code",
   "execution_count": 3,
   "id": "f257edd8",
   "metadata": {},
   "outputs": [],
   "source": [
    "# Importing the data scraped and pre-processed in part A\n",
    "df = pd.read_pickle('data_clean.pkl')"
   ]
  },
  {
   "cell_type": "code",
   "execution_count": 4,
   "id": "cb56a862",
   "metadata": {},
   "outputs": [],
   "source": [
    "models = pd.read_csv('models.csv', header=None, names = ['brand', 'model'])\n",
    "models['brand'] = models['brand'].str.replace(r'[^\\w\\s]+', '', regex=True) # clean some punctuation errors (nissan.)\n",
    "models = models[~models.brand.isin(['car', 'sedan', 'problem'])] # remove rows that are not brands"
   ]
  },
  {
   "cell_type": "code",
   "execution_count": 5,
   "id": "1fdbb411",
   "metadata": {},
   "outputs": [
    {
     "data": {
      "text/plain": [
       "370"
      ]
     },
     "execution_count": 5,
     "metadata": {},
     "output_type": "execute_result"
    }
   ],
   "source": [
    "df.Message.str.contains('said').sum()"
   ]
  },
  {
   "cell_type": "code",
   "execution_count": 6,
   "id": "42bbabb4",
   "metadata": {},
   "outputs": [],
   "source": [
    "#.lower() on all words\n",
    "df.Message_words = df.Message_words.apply(lambda x: [i.lower() for i in x])"
   ]
  },
  {
   "cell_type": "markdown",
   "id": "55647a2e",
   "metadata": {},
   "source": [
    "### Replace models with brands"
   ]
  },
  {
   "cell_type": "code",
   "execution_count": 7,
   "id": "3e694074",
   "metadata": {},
   "outputs": [],
   "source": [
    "messages = df.Message_words.to_list()"
   ]
  },
  {
   "cell_type": "code",
   "execution_count": 8,
   "id": "4af99d2c",
   "metadata": {},
   "outputs": [],
   "source": [
    "# numpy.where to do the replacement. Replaces only first appearance of brand.\n",
    "# ~ 5-10 minutes of execute\n",
    "messages2 = []\n",
    "t = 0\n",
    "for m in messages:\n",
    "    for i,row in models.iterrows():\n",
    "        m = np.where(m == row['model'], row['brand'], m)\n",
    "        \n",
    "    t+=1\n",
    "    \n",
    "    #print(t)\n",
    "        \n",
    "    messages2.append(m)\n",
    "        \n",
    "df['Message_words_v2'] = messages2"
   ]
  },
  {
   "cell_type": "code",
   "execution_count": 9,
   "id": "7f26cc84",
   "metadata": {},
   "outputs": [],
   "source": [
    "# let's find the occurences of changes\n",
    "m1 = df.Message_words.to_list()\n",
    "m2 = df.Message_words_v2.to_list()\n",
    "\n",
    "c = 0\n",
    "W = 0\n",
    "for i in range(len(m2)):\n",
    "    for j in range(len(m2[i])):\n",
    "        if m1[i][j] != m2[i][j]: #word by word comparison\n",
    "            c +=1\n",
    "        W += 1 # if we want to count all words"
   ]
  },
  {
   "cell_type": "code",
   "execution_count": 10,
   "id": "24c73596",
   "metadata": {},
   "outputs": [
    {
     "name": "stdout",
     "output_type": "stream",
     "text": [
      "6368 changes of models\n"
     ]
    }
   ],
   "source": [
    "print(f'{c} changes of models')"
   ]
  },
  {
   "cell_type": "code",
   "execution_count": 11,
   "id": "fca77850",
   "metadata": {
    "scrolled": false
   },
   "outputs": [
    {
     "data": {
      "text/html": [
       "<div>\n",
       "<style scoped>\n",
       "    .dataframe tbody tr th:only-of-type {\n",
       "        vertical-align: middle;\n",
       "    }\n",
       "\n",
       "    .dataframe tbody tr th {\n",
       "        vertical-align: top;\n",
       "    }\n",
       "\n",
       "    .dataframe thead th {\n",
       "        text-align: right;\n",
       "    }\n",
       "</style>\n",
       "<table border=\"1\" class=\"dataframe\">\n",
       "  <thead>\n",
       "    <tr style=\"text-align: right;\">\n",
       "      <th></th>\n",
       "      <th>Message_words</th>\n",
       "      <th>Message_words_v2</th>\n",
       "    </tr>\n",
       "  </thead>\n",
       "  <tbody>\n",
       "    <tr>\n",
       "      <th>0</th>\n",
       "      <td>[need, help, choosing, next, vehicle, tell, us, price, range, thinking, new, used, buying, leasing, features, musthaves, thoughts, mind, let, us, give, hand, tell, us, criteria, specifically, canyoull, find, lots, helpful, folks, give, useful, suggestions]</td>\n",
       "      <td>[need, help, choosing, next, vehicle, tell, us, price, range, thinking, new, used, buying, leasing, features, musthaves, thoughts, mind, let, us, give, hand, tell, us, criteria, specifically, canyoull, find, lots, helpful, folks, give, useful, suggestions]</td>\n",
       "    </tr>\n",
       "    <tr>\n",
       "      <th>1</th>\n",
       "      <td>[im, buying, new, car, end, year, first, choice, nissan, maxima, ive, read, reliable, hold, value, well, budget, probably, going, allow, 9899, wondering, worth, buying, car, thats, almost, 34, years, old, suggestions, comments, would, help, lotwillow25]</td>\n",
       "      <td>[im, buying, new, car, end, year, first, choice, nissan, nissan, ive, read, reliable, hold, value, well, budget, probably, going, allow, 9899, wondering, worth, buying, car, thats, almost, 34, years, old, suggestions, comments, would, help, lotwillow25]</td>\n",
       "    </tr>\n",
       "    <tr>\n",
       "      <th>2</th>\n",
       "      <td>[buy, 2001, 2002, oldsmobile, intrigue, one, best, sedans, market, great, handling, one, best, v6, engines, around, 35l, dohc, producing, 215hp, deals, great, year, last, intrigue, warrany, extended, 5, years, car, recommended, magazines, including, consumer, reports, unfortunately, looked, consumers, sleeper, sleepers, market, opinion]</td>\n",
       "      <td>[buy, 2001, 2002, oldsmobile, intrigue, one, best, sedans, market, great, handling, one, best, v6, engines, around, 35l, dohc, producing, 215hp, deals, great, year, last, intrigue, warrany, extended, 5, years, car, recommended, magazines, including, consumer, reports, unfortunately, looked, consumers, sleeper, sleepers, market, opinion]</td>\n",
       "    </tr>\n",
       "    <tr>\n",
       "      <th>3</th>\n",
       "      <td>[looking, 1, 4, choices, replace, 99gs400, ive, read, everything, forums, seen, much, conflicting, info4, optionslexus, ls430, customluxury, packageinfiniti, q45, premium, pckgaudi, a6, 42, loaded, audi, a8, stripped, loadedchicago, wintershad, blizzaks, gsworked, fine, 95q, pig, snow, im, sure, 2002q, world, away, ive, heard, audi, qc, problems, like, maintenance, included, im, happy, lexus, driver, q, appears, offer, lease, economy, would, think, could, command, attractive, package, go, wrong, 4, missing, something]</td>\n",
       "      <td>[looking, 1, 4, choices, replace, 99gs400, ive, read, everything, forums, seen, much, conflicting, info4, optionslexus, ls430, customluxury, packageinfiniti, q45, premium, pckgaudi, audi, 42, loaded, audi, audi, stripped, loadedchicago, wintershad, blizzaks, gsworked, fine, 95q, pig, snow, im, sure, 2002q, world, away, ive, heard, audi, qc, problems, like, maintenance, included, im, happy, lexus, driver, q, appears, offer, lease, economy, would, think, could, command, attractive, package, go, wrong, 4, missing, something]</td>\n",
       "    </tr>\n",
       "    <tr>\n",
       "      <th>4</th>\n",
       "      <td>[generally, 34, year, old, car, range, good, one, basically, sound, possible, get, one, still, warrenty, make, sure, trusted, maxima, mechanic, goes, thoroughly, v6, one, best, rated, 10, years, personally, amazed, great, strides, american, quality, recently, olds, may, bad, idea]</td>\n",
       "      <td>[generally, 34, year, old, car, range, good, one, basically, sound, possible, get, one, still, warrenty, make, sure, trusted, nissan, mechanic, goes, thoroughly, v6, one, best, rated, 10, years, personally, amazed, great, strides, american, quality, recently, olds, may, bad, idea]</td>\n",
       "    </tr>\n",
       "    <tr>\n",
       "      <th>5</th>\n",
       "      <td>[maxima, intrigue, excellent, choices, midsize, sedans]</td>\n",
       "      <td>[nissan, intrigue, excellent, choices, midsize, sedans]</td>\n",
       "    </tr>\n",
       "    <tr>\n",
       "      <th>6</th>\n",
       "      <td>[kind, budget, would, go, a6, 42, best, combination, sport, luxury, amongst, 4, choices]</td>\n",
       "      <td>[kind, budget, would, go, audi, 42, best, combination, sport, luxury, amongst, 4, choices]</td>\n",
       "    </tr>\n",
       "    <tr>\n",
       "      <th>7</th>\n",
       "      <td>[actually, agree, a6, looked, specs, edmunds, a6, a8, 4000, lbs, considering, a8, gets, bump, hp, a6, dont, think, performance, difference, issue, considering, fact, a6, would, possibly, small, based, rest, list, say, go, a8, think, youll, find, awd, best, addition, car, could, ever, hoped]</td>\n",
       "      <td>[actually, agree, audi, looked, specs, edmunds, audi, audi, 4000, lbs, considering, audi, gets, bump, hp, audi, dont, think, performance, difference, issue, considering, fact, audi, would, possibly, small, based, rest, list, say, go, audi, think, youll, find, awd, best, addition, car, could, ever, hoped]</td>\n",
       "    </tr>\n",
       "    <tr>\n",
       "      <th>8</th>\n",
       "      <td>[id, pass, intrigue, one, reason, crash, test, results, terrible]</td>\n",
       "      <td>[id, pass, intrigue, one, reason, crash, test, results, terrible]</td>\n",
       "    </tr>\n",
       "    <tr>\n",
       "      <th>9</th>\n",
       "      <td>[would, recommend, honda, accord, toyota, camry, choices, sedan, new, nissan, altima, looks, impressive, would, wait, reliability, 2002, proventhe, new, bmw, 525, another, nice, car, rated, highly, many, auto, publications]</td>\n",
       "      <td>[would, recommend, honda, honda, toyota, toyota, choices, sedan, new, nissan, nissan, looks, impressive, would, wait, reliability, 2002, proventhe, new, bmw, 525, another, nice, car, rated, highly, many, auto, publications]</td>\n",
       "    </tr>\n",
       "  </tbody>\n",
       "</table>\n",
       "</div>"
      ],
      "text/plain": [
       "                                                                                                                                                                                                                                                                                                                                                                                                                                                                                                                                 Message_words  \\\n",
       "0                                                                                                                                                                                                                                                                             [need, help, choosing, next, vehicle, tell, us, price, range, thinking, new, used, buying, leasing, features, musthaves, thoughts, mind, let, us, give, hand, tell, us, criteria, specifically, canyoull, find, lots, helpful, folks, give, useful, suggestions]   \n",
       "1                                                                                                                                                                                                                                                                                [im, buying, new, car, end, year, first, choice, nissan, maxima, ive, read, reliable, hold, value, well, budget, probably, going, allow, 9899, wondering, worth, buying, car, thats, almost, 34, years, old, suggestions, comments, would, help, lotwillow25]   \n",
       "2                                                                                                                                                                                           [buy, 2001, 2002, oldsmobile, intrigue, one, best, sedans, market, great, handling, one, best, v6, engines, around, 35l, dohc, producing, 215hp, deals, great, year, last, intrigue, warrany, extended, 5, years, car, recommended, magazines, including, consumer, reports, unfortunately, looked, consumers, sleeper, sleepers, market, opinion]   \n",
       "3  [looking, 1, 4, choices, replace, 99gs400, ive, read, everything, forums, seen, much, conflicting, info4, optionslexus, ls430, customluxury, packageinfiniti, q45, premium, pckgaudi, a6, 42, loaded, audi, a8, stripped, loadedchicago, wintershad, blizzaks, gsworked, fine, 95q, pig, snow, im, sure, 2002q, world, away, ive, heard, audi, qc, problems, like, maintenance, included, im, happy, lexus, driver, q, appears, offer, lease, economy, would, think, could, command, attractive, package, go, wrong, 4, missing, something]   \n",
       "4                                                                                                                                                                                                                                                    [generally, 34, year, old, car, range, good, one, basically, sound, possible, get, one, still, warrenty, make, sure, trusted, maxima, mechanic, goes, thoroughly, v6, one, best, rated, 10, years, personally, amazed, great, strides, american, quality, recently, olds, may, bad, idea]   \n",
       "5                                                                                                                                                                                                                                                                                                                                                                                                                                                                                      [maxima, intrigue, excellent, choices, midsize, sedans]   \n",
       "6                                                                                                                                                                                                                                                                                                                                                                                                                                                     [kind, budget, would, go, a6, 42, best, combination, sport, luxury, amongst, 4, choices]   \n",
       "7                                                                                                                                                                                                                                          [actually, agree, a6, looked, specs, edmunds, a6, a8, 4000, lbs, considering, a8, gets, bump, hp, a6, dont, think, performance, difference, issue, considering, fact, a6, would, possibly, small, based, rest, list, say, go, a8, think, youll, find, awd, best, addition, car, could, ever, hoped]   \n",
       "8                                                                                                                                                                                                                                                                                                                                                                                                                                                                            [id, pass, intrigue, one, reason, crash, test, results, terrible]   \n",
       "9                                                                                                                                                                                                                                                                                                              [would, recommend, honda, accord, toyota, camry, choices, sedan, new, nissan, altima, looks, impressive, would, wait, reliability, 2002, proventhe, new, bmw, 525, another, nice, car, rated, highly, many, auto, publications]   \n",
       "\n",
       "                                                                                                                                                                                                                                                                                                                                                                                                                                                                                                                                  Message_words_v2  \n",
       "0                                                                                                                                                                                                                                                                                 [need, help, choosing, next, vehicle, tell, us, price, range, thinking, new, used, buying, leasing, features, musthaves, thoughts, mind, let, us, give, hand, tell, us, criteria, specifically, canyoull, find, lots, helpful, folks, give, useful, suggestions]  \n",
       "1                                                                                                                                                                                                                                                                                    [im, buying, new, car, end, year, first, choice, nissan, nissan, ive, read, reliable, hold, value, well, budget, probably, going, allow, 9899, wondering, worth, buying, car, thats, almost, 34, years, old, suggestions, comments, would, help, lotwillow25]  \n",
       "2                                                                                                                                                                                               [buy, 2001, 2002, oldsmobile, intrigue, one, best, sedans, market, great, handling, one, best, v6, engines, around, 35l, dohc, producing, 215hp, deals, great, year, last, intrigue, warrany, extended, 5, years, car, recommended, magazines, including, consumer, reports, unfortunately, looked, consumers, sleeper, sleepers, market, opinion]  \n",
       "3  [looking, 1, 4, choices, replace, 99gs400, ive, read, everything, forums, seen, much, conflicting, info4, optionslexus, ls430, customluxury, packageinfiniti, q45, premium, pckgaudi, audi, 42, loaded, audi, audi, stripped, loadedchicago, wintershad, blizzaks, gsworked, fine, 95q, pig, snow, im, sure, 2002q, world, away, ive, heard, audi, qc, problems, like, maintenance, included, im, happy, lexus, driver, q, appears, offer, lease, economy, would, think, could, command, attractive, package, go, wrong, 4, missing, something]  \n",
       "4                                                                                                                                                                                                                                                        [generally, 34, year, old, car, range, good, one, basically, sound, possible, get, one, still, warrenty, make, sure, trusted, nissan, mechanic, goes, thoroughly, v6, one, best, rated, 10, years, personally, amazed, great, strides, american, quality, recently, olds, may, bad, idea]  \n",
       "5                                                                                                                                                                                                                                                                                                                                                                                                                                                                                          [nissan, intrigue, excellent, choices, midsize, sedans]  \n",
       "6                                                                                                                                                                                                                                                                                                                                                                                                                                                       [kind, budget, would, go, audi, 42, best, combination, sport, luxury, amongst, 4, choices]  \n",
       "7                                                                                                                                                                                                                                [actually, agree, audi, looked, specs, edmunds, audi, audi, 4000, lbs, considering, audi, gets, bump, hp, audi, dont, think, performance, difference, issue, considering, fact, audi, would, possibly, small, based, rest, list, say, go, audi, think, youll, find, awd, best, addition, car, could, ever, hoped]  \n",
       "8                                                                                                                                                                                                                                                                                                                                                                                                                                                                                [id, pass, intrigue, one, reason, crash, test, results, terrible]  \n",
       "9                                                                                                                                                                                                                                                                                                                  [would, recommend, honda, honda, toyota, toyota, choices, sedan, new, nissan, nissan, looks, impressive, would, wait, reliability, 2002, proventhe, new, bmw, 525, another, nice, car, rated, highly, many, auto, publications]  "
      ]
     },
     "execution_count": 11,
     "metadata": {},
     "output_type": "execute_result"
    }
   ],
   "source": [
    "df[['Message_words', 'Message_words_v2']].head(10)"
   ]
  },
  {
   "cell_type": "code",
   "execution_count": 12,
   "id": "599e9a7a",
   "metadata": {},
   "outputs": [],
   "source": [
    "#Now we have cases where the text says \"nissan\", \"nissan\" because we replaced the model. Let's clean that\n",
    "#Removing duplicates in lists while keeping order\n",
    "def remove_consecutive_duplicate (text): #removes consecutive duplicates\n",
    "    return np.array([i for i, j in itertools.groupby(text)])\n",
    "\n",
    "df[\"Message_words_v3\"] = df[\"Message_words_v2\"].apply(remove_consecutive_duplicate)"
   ]
  },
  {
   "cell_type": "markdown",
   "id": "84b033a2",
   "metadata": {},
   "source": [
    "## Link attributes to models"
   ]
  },
  {
   "cell_type": "code",
   "execution_count": 13,
   "id": "cf3cfdd7",
   "metadata": {},
   "outputs": [],
   "source": [
    "# first lets count brand mentions in each record\n",
    "#Get a unique list of brands\n",
    "brands_list = models.brand.drop_duplicates().to_list()\n",
    "\n",
    "brands_list.extend(['lexus', 'ferrari', 'merzedesbenz', 'tesla','gm', 'peugeot', 'jeep', 'bentley', 'fiat'])"
   ]
  },
  {
   "cell_type": "code",
   "execution_count": 14,
   "id": "f592bf42",
   "metadata": {},
   "outputs": [
    {
     "name": "stderr",
     "output_type": "stream",
     "text": [
      "C:\\Users\\louis\\AppData\\Local\\Temp/ipykernel_15520/1794413302.py:9: FutureWarning: elementwise comparison failed; returning scalar instead, but in the future will perform elementwise comparison\n",
      "  if len(np.where(m == brand)[0]) >0:\n"
     ]
    }
   ],
   "source": [
    "messages = df.Message_words_v3.to_list()\n",
    "\n",
    "#Get a nested list of brands mentioned in reviews\n",
    "brands_in_message = []\n",
    "for m in messages:\n",
    "    \n",
    "    brands_mentioned = []\n",
    "    for brand in brands_list:\n",
    "        if len(np.where(m == brand)[0]) >0:\n",
    "            brands_mentioned.append(brand)\n",
    "            \n",
    "    brands_in_message.append(brands_mentioned)\n",
    "        \n",
    "    "
   ]
  },
  {
   "cell_type": "code",
   "execution_count": 15,
   "id": "9d8e17f7",
   "metadata": {},
   "outputs": [
    {
     "data": {
      "text/plain": [
       "0     1244\n",
       "1     1175\n",
       "2      774\n",
       "3      464\n",
       "4      235\n",
       "5      120\n",
       "6       74\n",
       "7       31\n",
       "8       17\n",
       "10       7\n",
       "11       3\n",
       "12       3\n",
       "9        2\n",
       "16       1\n",
       "13       1\n",
       "Name: Qty_brands, dtype: int64"
      ]
     },
     "execution_count": 15,
     "metadata": {},
     "output_type": "execute_result"
    }
   ],
   "source": [
    "df['Brands_in_message'] = brands_in_message\n",
    "df['Qty_brands'] = df.Brands_in_message.apply(lambda x: len(x))\n",
    "df['Qty_brands'].value_counts()\n",
    "\n",
    "# 1291 messages don't mention any brand (remove them from analysis?)\n",
    "# Most messages discuss a single brand\n",
    "# Also common to compare 2 brands"
   ]
  },
  {
   "cell_type": "code",
   "execution_count": 16,
   "id": "49bfea68",
   "metadata": {},
   "outputs": [
    {
     "data": {
      "text/plain": [
       "0                                                                                       [need, help, choosing, next, vehicle, tell, us, price, range, thinking, new, used, buying, leasing, features, musthaves, thoughts, mind, let, us, give, hand, tell, us, criteria, specifically, canyoull, find, lots, helpful, folks, give, useful, suggestions]\n",
       "2     [buy, 2001, 2002, oldsmobile, intrigue, one, best, sedans, market, great, handling, one, best, v6, engines, around, 35l, dohc, producing, 215hp, deals, great, year, last, intrigue, warrany, extended, 5, years, car, recommended, magazines, including, consumer, reports, unfortunately, looked, consumers, sleeper, sleepers, market, opinion]\n",
       "8                                                                                                                                                                                                                                                                                      [id, pass, intrigue, one, reason, crash, test, results, terrible]\n",
       "10                                                                                                                         [way, figure, car, like, test, drive, theres, reason, test, drive, every, car, market, dont, test, drive, one, car, say, oh, like, cause, dont, test, drive, best, cars, price, range, even, helps, well, dont, reference, p]\n",
       "14                                                                                                                                                                                                                                                                                              [go, s6, avant, think, great, car, ready, switch, wagon]\n",
       "16                                                                                                                                                                                                                                                                                 [topic, way, broad, people, different, price, points, vehicle, types]\n",
       "17                                                                                                                                                                         [well, considering, 17th, message, last, 2, weeks, id, say, breaking, topic, would, downright, silly, wouldnt, worry, diversity, starts, getting, hand, manageable, far, see]\n",
       "18                                                                [well, obviously, gotta, get, youll, happy, cant, fight, urges, certainly, know, thatpersonally, sheer, power, performance, s6, would, make, overlook, fact, wagon, conscience, would, keep, awake, night, chose, slower, sedan, thats, bothers, stay, clear, happy, choicegood, luck]\n",
       "21                                                                                                                                                                                                                                                                                                                                                    []\n",
       "22                                                                                                                                                                                                                   [yesbut, get, iti, suggest, keeping, long, matters, sell, rolls, orwhen, old, doubt, reliabilityit, make, great, hobbyweekend, car]\n",
       "Name: Message_words_v3, dtype: object"
      ]
     },
     "execution_count": 16,
     "metadata": {},
     "output_type": "execute_result"
    }
   ],
   "source": [
    "df.loc[df.Qty_brands == 0, 'Message_words_v3'].head(10) # to review records with no brand mentions\n",
    "# most of them are for seeking advice"
   ]
  },
  {
   "cell_type": "markdown",
   "id": "a6cc530b",
   "metadata": {},
   "source": [
    "We can assign attributes mentioned in the reviews, like the power of a car, to a specific brand. For example, in the sentence \"I like the BMW for its power. On the other hand, the Honda is reliable\" we would want to assign the the attribute \"power\" to \"BMW\" and \"reliable\" to \"Honda\". We have created functions for two different approaches:\n",
    "1) assign all words found between 1st brand mention and next brand mention to 1st brand\n",
    "\n",
    "2) assign n words to each side of the brand mention to the brand. We found n = 4 to work best. "
   ]
  },
  {
   "cell_type": "code",
   "execution_count": 17,
   "id": "d447fccb",
   "metadata": {},
   "outputs": [
    {
     "data": {
      "text/plain": [
       "{'honda': array(['would', 'recommend', 'honda'], dtype='<U12'),\n",
       " 'toyota': array(['toyota', 'choices', 'sedan', 'new'], dtype='<U12'),\n",
       " 'nissan': array(['nissan', 'looks', 'impressive', 'would', 'wait', 'reliability',\n",
       "        '2002', 'proventhe', 'new'], dtype='<U12'),\n",
       " 'bmw': array(['bmw', '525', 'another', 'nice', 'car', 'rated', 'highly', 'many',\n",
       "        'auto', 'publications'], dtype='<U12')}"
      ]
     },
     "execution_count": 17,
     "metadata": {},
     "output_type": "execute_result"
    }
   ],
   "source": [
    "# First approach: link all words found between brand mention and next brand mention.\n",
    "# Except for first brand which also receives words since beginning of message\n",
    "\n",
    "m = df.Message_words_v3[9] #record 9 is a good exaple\n",
    "\n",
    "def get_attr_in_the_right(m, brand_list):\n",
    "\n",
    "    brand_dic = {}\n",
    "    for brand in brands_list:\n",
    "        ix = np.where(m == brand)[0]\n",
    "        if len(ix) > 0:\n",
    "            brand_dic[brand] = ix[0]\n",
    "\n",
    "\n",
    "    brand_dic = dict(sorted(brand_dic.items(), key=lambda x:x[1]))\n",
    "\n",
    "    brand_list = list(brand_dic.values()) + [len(m)]\n",
    "\n",
    "    review={}\n",
    "    for i, tup in enumerate(brand_dic):\n",
    "#         print(brand_dic[tup])\n",
    "#         print(tup)\n",
    "        \n",
    "        if i == 0:\n",
    "            \n",
    "            review[tup] = m[0:brand_list[1]]\n",
    "        else:\n",
    "            review[tup] = m[brand_list[i]:brand_list[i+1]]\n",
    "            \n",
    "    return review\n",
    "\n",
    "\n",
    "\n",
    "get_attr_in_the_right(m, brands_list) #was brand_list, ASK CARLOS    "
   ]
  },
  {
   "cell_type": "code",
   "execution_count": 18,
   "id": "57971ed3",
   "metadata": {},
   "outputs": [
    {
     "name": "stderr",
     "output_type": "stream",
     "text": [
      "C:\\Users\\louis\\AppData\\Local\\Temp/ipykernel_15520/2213854526.py:10: FutureWarning: elementwise comparison failed; returning scalar instead, but in the future will perform elementwise comparison\n",
      "  ix = np.where(m == brand)[0]\n"
     ]
    }
   ],
   "source": [
    "# now we run it for all records\n",
    "\n",
    "brand_reviews_1st_approach = []\n",
    "\n",
    "for m in df.Message_words_v3:\n",
    "\n",
    "    brand_reviews_1st_approach.append(get_attr_in_the_right(m, brands_list))\n",
    "\n",
    "# generates a list (1 entry per row) of dictionaries {brand_1: part of text corresponding, \n",
    "# brand_2: part of text corresponding,}"
   ]
  },
  {
   "cell_type": "code",
   "execution_count": 19,
   "id": "7458e482",
   "metadata": {},
   "outputs": [
    {
     "data": {
      "text/plain": [
       "{'honda': array(['would', 'recommend', 'honda', 'toyota', 'choices', 'sedan', 'new'],\n",
       "       dtype='<U12'),\n",
       " 'toyota': array(['would', 'recommend', 'honda', 'toyota', 'choices', 'sedan', 'new',\n",
       "        'nissan'], dtype='<U12'),\n",
       " 'nissan': array(['honda', 'toyota', 'choices', 'sedan', 'new', 'nissan', 'looks',\n",
       "        'impressive', 'would', 'wait'], dtype='<U12'),\n",
       " 'bmw': array(['wait', 'reliability', '2002', 'proventhe', 'new', 'bmw', '525',\n",
       "        'another', 'nice', 'car'], dtype='<U12')}"
      ]
     },
     "execution_count": 19,
     "metadata": {},
     "output_type": "execute_result"
    }
   ],
   "source": [
    "# 2nd approach: n words to each side \n",
    "\n",
    "m = df.Message_words_v3[9] #record 9 is a good exaple\n",
    "\n",
    "def get_attr_n_per_side(m, n, brand_list):\n",
    "\n",
    "    brand_dic = {}\n",
    "    for brand in brands_list:\n",
    "        ix = np.where(m == brand)[0]\n",
    "        if len(ix) > 0:\n",
    "            brand_dic[brand] = ix[0]\n",
    "\n",
    "\n",
    "    brand_dic = dict(sorted(brand_dic.items(), key=lambda x:x[1]))\n",
    "    \n",
    "    #print(len(brand_dic))\n",
    "\n",
    "    brand_list = list(brand_dic.values()) + [len(m)]\n",
    "    \n",
    "    #print(brand_list)\n",
    "\n",
    "    review={}\n",
    "    for i, tup in enumerate(brand_dic):\n",
    "#         print(brand_dic[tup])\n",
    "#         print(tup)\n",
    "\n",
    "        left_loc = (brand_list[i] - n)\n",
    "        left_loc = max(0, left_loc) # to avoid out of range indexing\n",
    "        \n",
    "        right_loc = (brand_list[i] + n)\n",
    "        right_loc = min(len(m), right_loc) # to avoid OOF indexing\n",
    "        \n",
    "        review[tup] = m[left_loc:right_loc]\n",
    "            \n",
    "    return review\n",
    "\n",
    "\n",
    "\n",
    "get_attr_n_per_side(m, 5, brands_list)        "
   ]
  },
  {
   "cell_type": "code",
   "execution_count": 20,
   "id": "b3274cb9",
   "metadata": {},
   "outputs": [
    {
     "data": {
      "text/plain": [
       "array(['would', 'recommend', 'honda', 'toyota', 'choices', 'sedan', 'new',\n",
       "       'nissan', 'looks', 'impressive', 'would', 'wait', 'reliability',\n",
       "       '2002', 'proventhe', 'new', 'bmw', '525', 'another', 'nice', 'car',\n",
       "       'rated', 'highly', 'many', 'auto', 'publications'], dtype='<U12')"
      ]
     },
     "execution_count": 20,
     "metadata": {},
     "output_type": "execute_result"
    }
   ],
   "source": [
    "m = df.Message_words_v3[9] \n",
    "\n",
    "m"
   ]
  },
  {
   "cell_type": "code",
   "execution_count": 21,
   "id": "0a87fb77",
   "metadata": {},
   "outputs": [
    {
     "data": {
      "text/plain": [
       "{'honda': array(['would', 'recommend', 'honda', 'toyota', 'choices', 'sedan'],\n",
       "       dtype='<U12'),\n",
       " 'toyota': array(['would', 'recommend', 'honda', 'toyota', 'choices', 'sedan', 'new'],\n",
       "       dtype='<U12'),\n",
       " 'nissan': array(['toyota', 'choices', 'sedan', 'new', 'nissan', 'looks',\n",
       "        'impressive', 'would'], dtype='<U12'),\n",
       " 'bmw': array(['reliability', '2002', 'proventhe', 'new', 'bmw', '525', 'another',\n",
       "        'nice'], dtype='<U12')}"
      ]
     },
     "execution_count": 21,
     "metadata": {},
     "output_type": "execute_result"
    }
   ],
   "source": [
    "get_attr_n_per_side(m, 4, brands_list)"
   ]
  },
  {
   "cell_type": "code",
   "execution_count": 22,
   "id": "47fe08e6",
   "metadata": {},
   "outputs": [
    {
     "data": {
      "text/plain": [
       "{'honda': array(['would', 'recommend', 'honda'], dtype='<U12'),\n",
       " 'toyota': array(['toyota', 'choices', 'sedan', 'new'], dtype='<U12'),\n",
       " 'nissan': array(['nissan', 'looks', 'impressive', 'would', 'wait', 'reliability',\n",
       "        '2002', 'proventhe', 'new'], dtype='<U12'),\n",
       " 'bmw': array(['bmw', '525', 'another', 'nice', 'car', 'rated', 'highly', 'many',\n",
       "        'auto', 'publications'], dtype='<U12')}"
      ]
     },
     "execution_count": 22,
     "metadata": {},
     "output_type": "execute_result"
    }
   ],
   "source": [
    "get_attr_in_the_right(m, brands_list)        "
   ]
  },
  {
   "cell_type": "code",
   "execution_count": 23,
   "id": "8cdde6c6",
   "metadata": {},
   "outputs": [
    {
     "name": "stderr",
     "output_type": "stream",
     "text": [
      "C:\\Users\\louis\\AppData\\Local\\Temp/ipykernel_15520/25208796.py:9: FutureWarning: elementwise comparison failed; returning scalar instead, but in the future will perform elementwise comparison\n",
      "  ix = np.where(m == brand)[0]\n"
     ]
    }
   ],
   "source": [
    "# now we run it for all records\n",
    "brand_reviews_2nd_approach = []\n",
    "\n",
    "for m in df.Message_words_v3:\n",
    "\n",
    "    brand_reviews_2nd_approach.append(get_attr_n_per_side(m,4, brands_list))\n",
    "\n",
    "# generates a list (1 entry per row) of dictionaries {brand_1: part of text corresponding, \n",
    "# brand_2: part of text corresponding,}"
   ]
  },
  {
   "cell_type": "code",
   "execution_count": 239,
   "id": "a05655e8",
   "metadata": {},
   "outputs": [
    {
     "data": {
      "text/plain": [
       "4151"
      ]
     },
     "execution_count": 239,
     "metadata": {},
     "output_type": "execute_result"
    }
   ],
   "source": [
    "len(brand_reviews_2nd_approach) # each record becomes a single dictionary with all its brand mentions and linked words"
   ]
  },
  {
   "cell_type": "code",
   "execution_count": 25,
   "id": "85598847",
   "metadata": {},
   "outputs": [],
   "source": [
    "# now we need to concatenate all reviews for each brand into a single key in a dictionary\n",
    "# creates dictionary: each brand mentioned is a key, value is all words assigned to that brand \n",
    "# according to 1st method get_attr_in_the_right()\n",
    "\n",
    "review_accum_1st = {i:[] for i in brands_list} #deprecated dictionary but still interesting\n",
    "\n",
    "for brand in brands_list:\n",
    "    for review in brand_reviews_1st_approach:\n",
    "        for single_review in review:\n",
    "            #print(review[single_review])\n",
    "            if single_review==brand:\n",
    "                review_accum_1st[brand].extend(review[single_review])"
   ]
  },
  {
   "cell_type": "code",
   "execution_count": 26,
   "id": "b023f024",
   "metadata": {},
   "outputs": [],
   "source": [
    "# now we need to concatenate all reviews for each brand into a single key in a dictionary\n",
    "# creates dictionary: each brand mentioned is a key, value is all words assigned to that brand\n",
    "# according to 2nd method get_attr_n_per_side()\n",
    "\n",
    "review_accum_2nd = {i:[] for i in brands_list} #deprecated dictionary but still interesting\n",
    "\n",
    "for brand in brands_list:\n",
    "    for review in brand_reviews_2nd_approach:\n",
    "        for single_review in review:\n",
    "            #print(review[single_review])\n",
    "            if single_review==brand:\n",
    "                review_accum_2nd[brand].extend(review[single_review])"
   ]
  },
  {
   "cell_type": "code",
   "execution_count": 31,
   "id": "314be13e",
   "metadata": {},
   "outputs": [],
   "source": [
    "## from here, we are ready to start counting attributes per brand\n",
    "## we also need to consider replacing some similar attributes before doing the final count \n"
   ]
  },
  {
   "cell_type": "code",
   "execution_count": 35,
   "id": "80a37372",
   "metadata": {},
   "outputs": [
    {
     "data": {
      "text/html": [
       "<div>\n",
       "<style scoped>\n",
       "    .dataframe tbody tr th:only-of-type {\n",
       "        vertical-align: middle;\n",
       "    }\n",
       "\n",
       "    .dataframe tbody tr th {\n",
       "        vertical-align: top;\n",
       "    }\n",
       "\n",
       "    .dataframe thead th {\n",
       "        text-align: right;\n",
       "    }\n",
       "</style>\n",
       "<table border=\"1\" class=\"dataframe\">\n",
       "  <thead>\n",
       "    <tr style=\"text-align: right;\">\n",
       "      <th></th>\n",
       "      <th>Date</th>\n",
       "      <th>User_Id</th>\n",
       "      <th>Message</th>\n",
       "      <th>NumberOfPastPosts</th>\n",
       "      <th>Role</th>\n",
       "      <th>Message_words</th>\n",
       "      <th>Message_words_v2</th>\n",
       "      <th>Message_words_v3</th>\n",
       "      <th>Brands_in_message</th>\n",
       "      <th>Qty_brands</th>\n",
       "    </tr>\n",
       "  </thead>\n",
       "  <tbody>\n",
       "    <tr>\n",
       "      <th>0</th>\n",
       "      <td>2001-09-01</td>\n",
       "      <td>pat</td>\n",
       "      <td>Need help choosing your next vehicle? Tell us your price range, are you thinking New or Used, buying or leasing, what features are must-haves, what other thoughts are on your mind, and let us give you a hand! Tell us your criteria as specifically as you can.You'll find lots of helpful folks here who can give you useful suggestions.</td>\n",
       "      <td>10,421</td>\n",
       "      <td>Member</td>\n",
       "      <td>[need, help, choosing, next, vehicle, tell, us, price, range, thinking, new, used, buying, leasing, features, musthaves, thoughts, mind, let, us, give, hand, tell, us, criteria, specifically, canyoull, find, lots, helpful, folks, give, useful, suggestions]</td>\n",
       "      <td>[need, help, choosing, next, vehicle, tell, us, price, range, thinking, new, used, buying, leasing, features, musthaves, thoughts, mind, let, us, give, hand, tell, us, criteria, specifically, canyoull, find, lots, helpful, folks, give, useful, suggestions]</td>\n",
       "      <td>[need, help, choosing, next, vehicle, tell, us, price, range, thinking, new, used, buying, leasing, features, musthaves, thoughts, mind, let, us, give, hand, tell, us, criteria, specifically, canyoull, find, lots, helpful, folks, give, useful, suggestions]</td>\n",
       "      <td>[]</td>\n",
       "      <td>0</td>\n",
       "    </tr>\n",
       "    <tr>\n",
       "      <th>1</th>\n",
       "      <td>2001-09-01</td>\n",
       "      <td>willow25</td>\n",
       "      <td>I'm buying a \"new\" car by the end of the year and my first choice is a Nissan Maxima. I've read that they are very reliable and hold their value well. My budget is probably going to allow for a 98-99 and I was wondering if it's worth buying a car that's almost 3-4 years old. Any suggestions or comments would help a lot.willow25</td>\n",
       "      <td>2</td>\n",
       "      <td>Member</td>\n",
       "      <td>[im, buying, new, car, end, year, first, choice, nissan, maxima, ive, read, reliable, hold, value, well, budget, probably, going, allow, 9899, wondering, worth, buying, car, thats, almost, 34, years, old, suggestions, comments, would, help, lotwillow25]</td>\n",
       "      <td>[im, buying, new, car, end, year, first, choice, nissan, nissan, ive, read, reliable, hold, value, well, budget, probably, going, allow, 9899, wondering, worth, buying, car, thats, almost, 34, years, old, suggestions, comments, would, help, lotwillow25]</td>\n",
       "      <td>[im, buying, new, car, end, year, first, choice, nissan, ive, read, reliable, hold, value, well, budget, probably, going, allow, 9899, wondering, worth, buying, car, thats, almost, 34, years, old, suggestions, comments, would, help, lotwillow25]</td>\n",
       "      <td>[nissan]</td>\n",
       "      <td>1</td>\n",
       "    </tr>\n",
       "    <tr>\n",
       "      <th>2</th>\n",
       "      <td>2001-10-01</td>\n",
       "      <td>dindak</td>\n",
       "      <td>Buy a 2001/ 2002 Oldsmobile Intrigue. It's one of the best sedans on the market with great handling and one of the best V6 engines around, a 3.5L DOHC producing 215HP. The deals should be great this year as it's the last on for Intrigue and the warrany on them has been extended to 5 years. The car is recommended by most magazines (including Consumer Reports), but is unfortunately over looked by most consumers. It is the sleeper of all sleepers on the market in my opinion.</td>\n",
       "      <td>6,632</td>\n",
       "      <td>Member</td>\n",
       "      <td>[buy, 2001, 2002, oldsmobile, intrigue, one, best, sedans, market, great, handling, one, best, v6, engines, around, 35l, dohc, producing, 215hp, deals, great, year, last, intrigue, warrany, extended, 5, years, car, recommended, magazines, including, consumer, reports, unfortunately, looked, consumers, sleeper, sleepers, market, opinion]</td>\n",
       "      <td>[buy, 2001, 2002, oldsmobile, intrigue, one, best, sedans, market, great, handling, one, best, v6, engines, around, 35l, dohc, producing, 215hp, deals, great, year, last, intrigue, warrany, extended, 5, years, car, recommended, magazines, including, consumer, reports, unfortunately, looked, consumers, sleeper, sleepers, market, opinion]</td>\n",
       "      <td>[buy, 2001, 2002, oldsmobile, intrigue, one, best, sedans, market, great, handling, one, best, v6, engines, around, 35l, dohc, producing, 215hp, deals, great, year, last, intrigue, warrany, extended, 5, years, car, recommended, magazines, including, consumer, reports, unfortunately, looked, consumers, sleeper, sleepers, market, opinion]</td>\n",
       "      <td>[]</td>\n",
       "      <td>0</td>\n",
       "    </tr>\n",
       "    <tr>\n",
       "      <th>3</th>\n",
       "      <td>2001-10-01</td>\n",
       "      <td>peteri1</td>\n",
       "      <td>Am looking at 1 of 4 choices to replace my 99GS400. I've read everything here and on other forums and have seen much conflicting info:4 options:Lexus LS430 with custom/luxury packageInfiniti Q45 with premium pckgAudi A-6 4.2 loaded Audi A-8 not stripped, but not loadedChicago winters--had Blizzaks on the GS--worked fine. My 95Q was pig in snow, but I'm sure 2002Q is a world away from that. I've heard Audi has some QC problems, but I like their maintenance being included. I'm a happy Lexus driver. The Q appears to offer the most for the $$. Will lease and in this economy, I would think I could command an attractive package. Can I go wrong with any of the 4? Am I missing something?</td>\n",
       "      <td>21</td>\n",
       "      <td>Member</td>\n",
       "      <td>[looking, 1, 4, choices, replace, 99gs400, ive, read, everything, forums, seen, much, conflicting, info4, optionslexus, ls430, customluxury, packageinfiniti, q45, premium, pckgaudi, a6, 42, loaded, audi, a8, stripped, loadedchicago, wintershad, blizzaks, gsworked, fine, 95q, pig, snow, im, sure, 2002q, world, away, ive, heard, audi, qc, problems, like, maintenance, included, im, happy, lexus, driver, q, appears, offer, lease, economy, would, think, could, command, attractive, package, go, wrong, 4, missing, something]</td>\n",
       "      <td>[looking, 1, 4, choices, replace, 99gs400, ive, read, everything, forums, seen, much, conflicting, info4, optionslexus, ls430, customluxury, packageinfiniti, q45, premium, pckgaudi, audi, 42, loaded, audi, audi, stripped, loadedchicago, wintershad, blizzaks, gsworked, fine, 95q, pig, snow, im, sure, 2002q, world, away, ive, heard, audi, qc, problems, like, maintenance, included, im, happy, lexus, driver, q, appears, offer, lease, economy, would, think, could, command, attractive, package, go, wrong, 4, missing, something]</td>\n",
       "      <td>[looking, 1, 4, choices, replace, 99gs400, ive, read, everything, forums, seen, much, conflicting, info4, optionslexus, ls430, customluxury, packageinfiniti, q45, premium, pckgaudi, audi, 42, loaded, audi, stripped, loadedchicago, wintershad, blizzaks, gsworked, fine, 95q, pig, snow, im, sure, 2002q, world, away, ive, heard, audi, qc, problems, like, maintenance, included, im, happy, lexus, driver, q, appears, offer, lease, economy, would, think, could, command, attractive, package, go, wrong, 4, missing, something]</td>\n",
       "      <td>[audi, lexus]</td>\n",
       "      <td>2</td>\n",
       "    </tr>\n",
       "    <tr>\n",
       "      <th>4</th>\n",
       "      <td>2001-10-01</td>\n",
       "      <td>mrdetailer</td>\n",
       "      <td>Generally a 3-4 year old car range is a good one because they are basically sound. If possible get one that is still under warrenty. But if not, make sure that a trusted Maxima mechanic goes over it thoroughly. Their V-6 is one of the best rated for over 10 years. Personally I am amazed at the great strides in American Quality recently, so the Olds may not be a bad idea other.</td>\n",
       "      <td>1,118</td>\n",
       "      <td>Member</td>\n",
       "      <td>[generally, 34, year, old, car, range, good, one, basically, sound, possible, get, one, still, warrenty, make, sure, trusted, maxima, mechanic, goes, thoroughly, v6, one, best, rated, 10, years, personally, amazed, great, strides, american, quality, recently, olds, may, bad, idea]</td>\n",
       "      <td>[generally, 34, year, old, car, range, good, one, basically, sound, possible, get, one, still, warrenty, make, sure, trusted, nissan, mechanic, goes, thoroughly, v6, one, best, rated, 10, years, personally, amazed, great, strides, american, quality, recently, olds, may, bad, idea]</td>\n",
       "      <td>[generally, 34, year, old, car, range, good, one, basically, sound, possible, get, one, still, warrenty, make, sure, trusted, nissan, mechanic, goes, thoroughly, v6, one, best, rated, 10, years, personally, amazed, great, strides, american, quality, recently, olds, may, bad, idea]</td>\n",
       "      <td>[nissan]</td>\n",
       "      <td>1</td>\n",
       "    </tr>\n",
       "    <tr>\n",
       "      <th>5</th>\n",
       "      <td>2001-10-01</td>\n",
       "      <td>dindak</td>\n",
       "      <td>Maxima and Intrigue are both excellent choices for midsize sedans.</td>\n",
       "      <td>6,632</td>\n",
       "      <td>Member</td>\n",
       "      <td>[maxima, intrigue, excellent, choices, midsize, sedans]</td>\n",
       "      <td>[nissan, intrigue, excellent, choices, midsize, sedans]</td>\n",
       "      <td>[nissan, intrigue, excellent, choices, midsize, sedans]</td>\n",
       "      <td>[nissan]</td>\n",
       "      <td>1</td>\n",
       "    </tr>\n",
       "    <tr>\n",
       "      <th>6</th>\n",
       "      <td>2001-10-01</td>\n",
       "      <td>canadiancl</td>\n",
       "      <td>If I had that kind of budget, I would go for the A6 4.2 - - best combination of sport and luxury amongst the 4 choices.</td>\n",
       "      <td>1,078</td>\n",
       "      <td>Member</td>\n",
       "      <td>[kind, budget, would, go, a6, 42, best, combination, sport, luxury, amongst, 4, choices]</td>\n",
       "      <td>[kind, budget, would, go, audi, 42, best, combination, sport, luxury, amongst, 4, choices]</td>\n",
       "      <td>[kind, budget, would, go, audi, 42, best, combination, sport, luxury, amongst, 4, choices]</td>\n",
       "      <td>[audi]</td>\n",
       "      <td>1</td>\n",
       "    </tr>\n",
       "    <tr>\n",
       "      <th>7</th>\n",
       "      <td>2001-10-01</td>\n",
       "      <td>qbrozen</td>\n",
       "      <td>Actually, I was about to agree with the A6, but I just looked at the specs here on Edmunds. Both the A6 and A8 are 4000 lbs, and considering the A8 gets a bump in HP over the A6, I don't think performance difference is an issue. So, considering that and the fact that the A6 would possibly be to small for you based on the rest of your list, I say go for the A8. I think you'll find the AWD to be the best addition to a car you could ever have hoped for.</td>\n",
       "      <td>30,400</td>\n",
       "      <td>Member</td>\n",
       "      <td>[actually, agree, a6, looked, specs, edmunds, a6, a8, 4000, lbs, considering, a8, gets, bump, hp, a6, dont, think, performance, difference, issue, considering, fact, a6, would, possibly, small, based, rest, list, say, go, a8, think, youll, find, awd, best, addition, car, could, ever, hoped]</td>\n",
       "      <td>[actually, agree, audi, looked, specs, edmunds, audi, audi, 4000, lbs, considering, audi, gets, bump, hp, audi, dont, think, performance, difference, issue, considering, fact, audi, would, possibly, small, based, rest, list, say, go, audi, think, youll, find, awd, best, addition, car, could, ever, hoped]</td>\n",
       "      <td>[actually, agree, audi, looked, specs, edmunds, audi, 4000, lbs, considering, audi, gets, bump, hp, audi, dont, think, performance, difference, issue, considering, fact, audi, would, possibly, small, based, rest, list, say, go, audi, think, youll, find, awd, best, addition, car, could, ever, hoped]</td>\n",
       "      <td>[audi]</td>\n",
       "      <td>1</td>\n",
       "    </tr>\n",
       "    <tr>\n",
       "      <th>8</th>\n",
       "      <td>2001-10-01</td>\n",
       "      <td>black_tulip</td>\n",
       "      <td>I'd pass Intrigue only for one reason: crash test results are terrible...</td>\n",
       "      <td>438</td>\n",
       "      <td>Member</td>\n",
       "      <td>[id, pass, intrigue, one, reason, crash, test, results, terrible]</td>\n",
       "      <td>[id, pass, intrigue, one, reason, crash, test, results, terrible]</td>\n",
       "      <td>[id, pass, intrigue, one, reason, crash, test, results, terrible]</td>\n",
       "      <td>[]</td>\n",
       "      <td>0</td>\n",
       "    </tr>\n",
       "    <tr>\n",
       "      <th>9</th>\n",
       "      <td>2001-10-01</td>\n",
       "      <td>paulo3</td>\n",
       "      <td>I would recommend the Honda Accord or Toyota Camry as my choices for a sedan. The new Nissan Altima looks impressive but I would wait until the reliability of the 2002 is proven.The new BMW 525 is another nice car and is rated highly by many auto publications.</td>\n",
       "      <td>113</td>\n",
       "      <td>Member</td>\n",
       "      <td>[would, recommend, honda, accord, toyota, camry, choices, sedan, new, nissan, altima, looks, impressive, would, wait, reliability, 2002, proventhe, new, bmw, 525, another, nice, car, rated, highly, many, auto, publications]</td>\n",
       "      <td>[would, recommend, honda, honda, toyota, toyota, choices, sedan, new, nissan, nissan, looks, impressive, would, wait, reliability, 2002, proventhe, new, bmw, 525, another, nice, car, rated, highly, many, auto, publications]</td>\n",
       "      <td>[would, recommend, honda, toyota, choices, sedan, new, nissan, looks, impressive, would, wait, reliability, 2002, proventhe, new, bmw, 525, another, nice, car, rated, highly, many, auto, publications]</td>\n",
       "      <td>[bmw, honda, nissan, toyota]</td>\n",
       "      <td>4</td>\n",
       "    </tr>\n",
       "  </tbody>\n",
       "</table>\n",
       "</div>"
      ],
      "text/plain": [
       "        Date      User_Id  \\\n",
       "0 2001-09-01          pat   \n",
       "1 2001-09-01     willow25   \n",
       "2 2001-10-01       dindak   \n",
       "3 2001-10-01      peteri1   \n",
       "4 2001-10-01   mrdetailer   \n",
       "5 2001-10-01       dindak   \n",
       "6 2001-10-01   canadiancl   \n",
       "7 2001-10-01      qbrozen   \n",
       "8 2001-10-01  black_tulip   \n",
       "9 2001-10-01       paulo3   \n",
       "\n",
       "                                                                                                                                                                                                                                                                                                                                                                                                                                                                                                                                                                                                                                                                                                             Message  \\\n",
       "0                                                                                                                                                                                                                                                                                                                                                                     Need help choosing your next vehicle? Tell us your price range, are you thinking New or Used, buying or leasing, what features are must-haves, what other thoughts are on your mind, and let us give you a hand! Tell us your criteria as specifically as you can.You'll find lots of helpful folks here who can give you useful suggestions.    \n",
       "1                                                                                                                                                                                                                                                                                                                                                                         I'm buying a \"new\" car by the end of the year and my first choice is a Nissan Maxima. I've read that they are very reliable and hold their value well. My budget is probably going to allow for a 98-99 and I was wondering if it's worth buying a car that's almost 3-4 years old. Any suggestions or comments would help a lot.willow25    \n",
       "2                                                                                                                                                                                                                      Buy a 2001/ 2002 Oldsmobile Intrigue. It's one of the best sedans on the market with great handling and one of the best V6 engines around, a 3.5L DOHC producing 215HP. The deals should be great this year as it's the last on for Intrigue and the warrany on them has been extended to 5 years. The car is recommended by most magazines (including Consumer Reports), but is unfortunately over looked by most consumers. It is the sleeper of all sleepers on the market in my opinion.    \n",
       "3  Am looking at 1 of 4 choices to replace my 99GS400. I've read everything here and on other forums and have seen much conflicting info:4 options:Lexus LS430 with custom/luxury packageInfiniti Q45 with premium pckgAudi A-6 4.2 loaded Audi A-8 not stripped, but not loadedChicago winters--had Blizzaks on the GS--worked fine. My 95Q was pig in snow, but I'm sure 2002Q is a world away from that. I've heard Audi has some QC problems, but I like their maintenance being included. I'm a happy Lexus driver. The Q appears to offer the most for the $$. Will lease and in this economy, I would think I could command an attractive package. Can I go wrong with any of the 4? Am I missing something?    \n",
       "4                                                                                                                                                                                                                                                                                                                       Generally a 3-4 year old car range is a good one because they are basically sound. If possible get one that is still under warrenty. But if not, make sure that a trusted Maxima mechanic goes over it thoroughly. Their V-6 is one of the best rated for over 10 years. Personally I am amazed at the great strides in American Quality recently, so the Olds may not be a bad idea other.    \n",
       "5                                                                                                                                                                                                                                                                                                                                                                                                                                                                                                                                                                                                                                                Maxima and Intrigue are both excellent choices for midsize sedans.    \n",
       "6                                                                                                                                                                                                                                                                                                                                                                                                                                                                                                                                                                                           If I had that kind of budget, I would go for the A6 4.2 - - best combination of sport and luxury amongst the 4 choices.    \n",
       "7                                                                                                                                                                                                                                            Actually, I was about to agree with the A6, but I just looked at the specs here on Edmunds. Both the A6 and A8 are 4000 lbs, and considering the A8 gets a bump in HP over the A6, I don't think performance difference is an issue. So, considering that and the fact that the A6 would possibly be to small for you based on the rest of your list, I say go for the A8. I think you'll find the AWD to be the best addition to a car you could ever have hoped for.    \n",
       "8                                                                                                                                                                                                                                                                                                                                                                                                                                                                                                                                                                                                                                         I'd pass Intrigue only for one reason: crash test results are terrible...    \n",
       "9                                                                                                                                                                                                                                                                                                                                                                                                                                              I would recommend the Honda Accord or Toyota Camry as my choices for a sedan. The new Nissan Altima looks impressive but I would wait until the reliability of the 2002 is proven.The new BMW 525 is another nice car and is rated highly by many auto publications.    \n",
       "\n",
       "  NumberOfPastPosts    Role  \\\n",
       "0            10,421  Member   \n",
       "1                 2  Member   \n",
       "2             6,632  Member   \n",
       "3                21  Member   \n",
       "4             1,118  Member   \n",
       "5             6,632  Member   \n",
       "6             1,078  Member   \n",
       "7            30,400  Member   \n",
       "8               438  Member   \n",
       "9               113  Member   \n",
       "\n",
       "                                                                                                                                                                                                                                                                                                                                                                                                                                                                                                                                 Message_words  \\\n",
       "0                                                                                                                                                                                                                                                                             [need, help, choosing, next, vehicle, tell, us, price, range, thinking, new, used, buying, leasing, features, musthaves, thoughts, mind, let, us, give, hand, tell, us, criteria, specifically, canyoull, find, lots, helpful, folks, give, useful, suggestions]   \n",
       "1                                                                                                                                                                                                                                                                                [im, buying, new, car, end, year, first, choice, nissan, maxima, ive, read, reliable, hold, value, well, budget, probably, going, allow, 9899, wondering, worth, buying, car, thats, almost, 34, years, old, suggestions, comments, would, help, lotwillow25]   \n",
       "2                                                                                                                                                                                           [buy, 2001, 2002, oldsmobile, intrigue, one, best, sedans, market, great, handling, one, best, v6, engines, around, 35l, dohc, producing, 215hp, deals, great, year, last, intrigue, warrany, extended, 5, years, car, recommended, magazines, including, consumer, reports, unfortunately, looked, consumers, sleeper, sleepers, market, opinion]   \n",
       "3  [looking, 1, 4, choices, replace, 99gs400, ive, read, everything, forums, seen, much, conflicting, info4, optionslexus, ls430, customluxury, packageinfiniti, q45, premium, pckgaudi, a6, 42, loaded, audi, a8, stripped, loadedchicago, wintershad, blizzaks, gsworked, fine, 95q, pig, snow, im, sure, 2002q, world, away, ive, heard, audi, qc, problems, like, maintenance, included, im, happy, lexus, driver, q, appears, offer, lease, economy, would, think, could, command, attractive, package, go, wrong, 4, missing, something]   \n",
       "4                                                                                                                                                                                                                                                    [generally, 34, year, old, car, range, good, one, basically, sound, possible, get, one, still, warrenty, make, sure, trusted, maxima, mechanic, goes, thoroughly, v6, one, best, rated, 10, years, personally, amazed, great, strides, american, quality, recently, olds, may, bad, idea]   \n",
       "5                                                                                                                                                                                                                                                                                                                                                                                                                                                                                      [maxima, intrigue, excellent, choices, midsize, sedans]   \n",
       "6                                                                                                                                                                                                                                                                                                                                                                                                                                                     [kind, budget, would, go, a6, 42, best, combination, sport, luxury, amongst, 4, choices]   \n",
       "7                                                                                                                                                                                                                                          [actually, agree, a6, looked, specs, edmunds, a6, a8, 4000, lbs, considering, a8, gets, bump, hp, a6, dont, think, performance, difference, issue, considering, fact, a6, would, possibly, small, based, rest, list, say, go, a8, think, youll, find, awd, best, addition, car, could, ever, hoped]   \n",
       "8                                                                                                                                                                                                                                                                                                                                                                                                                                                                            [id, pass, intrigue, one, reason, crash, test, results, terrible]   \n",
       "9                                                                                                                                                                                                                                                                                                              [would, recommend, honda, accord, toyota, camry, choices, sedan, new, nissan, altima, looks, impressive, would, wait, reliability, 2002, proventhe, new, bmw, 525, another, nice, car, rated, highly, many, auto, publications]   \n",
       "\n",
       "                                                                                                                                                                                                                                                                                                                                                                                                                                                                                                                                  Message_words_v2  \\\n",
       "0                                                                                                                                                                                                                                                                                 [need, help, choosing, next, vehicle, tell, us, price, range, thinking, new, used, buying, leasing, features, musthaves, thoughts, mind, let, us, give, hand, tell, us, criteria, specifically, canyoull, find, lots, helpful, folks, give, useful, suggestions]   \n",
       "1                                                                                                                                                                                                                                                                                    [im, buying, new, car, end, year, first, choice, nissan, nissan, ive, read, reliable, hold, value, well, budget, probably, going, allow, 9899, wondering, worth, buying, car, thats, almost, 34, years, old, suggestions, comments, would, help, lotwillow25]   \n",
       "2                                                                                                                                                                                               [buy, 2001, 2002, oldsmobile, intrigue, one, best, sedans, market, great, handling, one, best, v6, engines, around, 35l, dohc, producing, 215hp, deals, great, year, last, intrigue, warrany, extended, 5, years, car, recommended, magazines, including, consumer, reports, unfortunately, looked, consumers, sleeper, sleepers, market, opinion]   \n",
       "3  [looking, 1, 4, choices, replace, 99gs400, ive, read, everything, forums, seen, much, conflicting, info4, optionslexus, ls430, customluxury, packageinfiniti, q45, premium, pckgaudi, audi, 42, loaded, audi, audi, stripped, loadedchicago, wintershad, blizzaks, gsworked, fine, 95q, pig, snow, im, sure, 2002q, world, away, ive, heard, audi, qc, problems, like, maintenance, included, im, happy, lexus, driver, q, appears, offer, lease, economy, would, think, could, command, attractive, package, go, wrong, 4, missing, something]   \n",
       "4                                                                                                                                                                                                                                                        [generally, 34, year, old, car, range, good, one, basically, sound, possible, get, one, still, warrenty, make, sure, trusted, nissan, mechanic, goes, thoroughly, v6, one, best, rated, 10, years, personally, amazed, great, strides, american, quality, recently, olds, may, bad, idea]   \n",
       "5                                                                                                                                                                                                                                                                                                                                                                                                                                                                                          [nissan, intrigue, excellent, choices, midsize, sedans]   \n",
       "6                                                                                                                                                                                                                                                                                                                                                                                                                                                       [kind, budget, would, go, audi, 42, best, combination, sport, luxury, amongst, 4, choices]   \n",
       "7                                                                                                                                                                                                                                [actually, agree, audi, looked, specs, edmunds, audi, audi, 4000, lbs, considering, audi, gets, bump, hp, audi, dont, think, performance, difference, issue, considering, fact, audi, would, possibly, small, based, rest, list, say, go, audi, think, youll, find, awd, best, addition, car, could, ever, hoped]   \n",
       "8                                                                                                                                                                                                                                                                                                                                                                                                                                                                                [id, pass, intrigue, one, reason, crash, test, results, terrible]   \n",
       "9                                                                                                                                                                                                                                                                                                                  [would, recommend, honda, honda, toyota, toyota, choices, sedan, new, nissan, nissan, looks, impressive, would, wait, reliability, 2002, proventhe, new, bmw, 525, another, nice, car, rated, highly, many, auto, publications]   \n",
       "\n",
       "                                                                                                                                                                                                                                                                                                                                                                                                                                                                                                                            Message_words_v3  \\\n",
       "0                                                                                                                                                                                                                                                                           [need, help, choosing, next, vehicle, tell, us, price, range, thinking, new, used, buying, leasing, features, musthaves, thoughts, mind, let, us, give, hand, tell, us, criteria, specifically, canyoull, find, lots, helpful, folks, give, useful, suggestions]   \n",
       "1                                                                                                                                                                                                                                                                                      [im, buying, new, car, end, year, first, choice, nissan, ive, read, reliable, hold, value, well, budget, probably, going, allow, 9899, wondering, worth, buying, car, thats, almost, 34, years, old, suggestions, comments, would, help, lotwillow25]   \n",
       "2                                                                                                                                                                                         [buy, 2001, 2002, oldsmobile, intrigue, one, best, sedans, market, great, handling, one, best, v6, engines, around, 35l, dohc, producing, 215hp, deals, great, year, last, intrigue, warrany, extended, 5, years, car, recommended, magazines, including, consumer, reports, unfortunately, looked, consumers, sleeper, sleepers, market, opinion]   \n",
       "3  [looking, 1, 4, choices, replace, 99gs400, ive, read, everything, forums, seen, much, conflicting, info4, optionslexus, ls430, customluxury, packageinfiniti, q45, premium, pckgaudi, audi, 42, loaded, audi, stripped, loadedchicago, wintershad, blizzaks, gsworked, fine, 95q, pig, snow, im, sure, 2002q, world, away, ive, heard, audi, qc, problems, like, maintenance, included, im, happy, lexus, driver, q, appears, offer, lease, economy, would, think, could, command, attractive, package, go, wrong, 4, missing, something]   \n",
       "4                                                                                                                                                                                                                                                  [generally, 34, year, old, car, range, good, one, basically, sound, possible, get, one, still, warrenty, make, sure, trusted, nissan, mechanic, goes, thoroughly, v6, one, best, rated, 10, years, personally, amazed, great, strides, american, quality, recently, olds, may, bad, idea]   \n",
       "5                                                                                                                                                                                                                                                                                                                                                                                                                                                                                    [nissan, intrigue, excellent, choices, midsize, sedans]   \n",
       "6                                                                                                                                                                                                                                                                                                                                                                                                                                                 [kind, budget, would, go, audi, 42, best, combination, sport, luxury, amongst, 4, choices]   \n",
       "7                                                                                                                                                                                                                                [actually, agree, audi, looked, specs, edmunds, audi, 4000, lbs, considering, audi, gets, bump, hp, audi, dont, think, performance, difference, issue, considering, fact, audi, would, possibly, small, based, rest, list, say, go, audi, think, youll, find, awd, best, addition, car, could, ever, hoped]   \n",
       "8                                                                                                                                                                                                                                                                                                                                                                                                                                                                          [id, pass, intrigue, one, reason, crash, test, results, terrible]   \n",
       "9                                                                                                                                                                                                                                                                                                                                   [would, recommend, honda, toyota, choices, sedan, new, nissan, looks, impressive, would, wait, reliability, 2002, proventhe, new, bmw, 525, another, nice, car, rated, highly, many, auto, publications]   \n",
       "\n",
       "              Brands_in_message  Qty_brands  \n",
       "0                            []           0  \n",
       "1                      [nissan]           1  \n",
       "2                            []           0  \n",
       "3                 [audi, lexus]           2  \n",
       "4                      [nissan]           1  \n",
       "5                      [nissan]           1  \n",
       "6                        [audi]           1  \n",
       "7                        [audi]           1  \n",
       "8                            []           0  \n",
       "9  [bmw, honda, nissan, toyota]           4  "
      ]
     },
     "execution_count": 35,
     "metadata": {},
     "output_type": "execute_result"
    }
   ],
   "source": [
    "df.head(10)"
   ]
  },
  {
   "cell_type": "code",
   "execution_count": 40,
   "id": "99cb151c",
   "metadata": {},
   "outputs": [],
   "source": [
    "# Create Series with all words \n",
    "words = pd.Series([i for review in df.Message_words_v3 for i in review])"
   ]
  },
  {
   "cell_type": "code",
   "execution_count": 41,
   "id": "e9de0fb9",
   "metadata": {
    "scrolled": true
   },
   "outputs": [
    {
     "data": {
      "text/plain": [
       "car            3874\n",
       "like           1900\n",
       "would          1900\n",
       "get            1797\n",
       "new            1632\n",
       "cars           1554\n",
       "good           1491\n",
       "one            1447\n",
       "im             1120\n",
       "also           1115\n",
       "dont           1055\n",
       "drive          1013\n",
       "miles           979\n",
       "much            959\n",
       "used            945\n",
       "want            932\n",
       "years           928\n",
       "price           917\n",
       "better          916\n",
       "think           902\n",
       "well            845\n",
       "looking         833\n",
       "really          790\n",
       "buy             740\n",
       "know            722\n",
       "go              671\n",
       "need            654\n",
       "year            651\n",
       "even            650\n",
       "could           628\n",
       "great           624\n",
       "ive             590\n",
       "vehicle         576\n",
       "time            570\n",
       "might           569\n",
       "driving         563\n",
       "lot             545\n",
       "look            541\n",
       "something       533\n",
       "best            528\n",
       "going           525\n",
       "id              514\n",
       "old             513\n",
       "engine          508\n",
       "3               504\n",
       "nice            498\n",
       "civic           496\n",
       "still           489\n",
       "probably        489\n",
       "reliability     485\n",
       "less            479\n",
       "make            475\n",
       "around          471\n",
       "find            467\n",
       "model           467\n",
       "4               458\n",
       "thats           451\n",
       "back            448\n",
       "dealer          437\n",
       "see             431\n",
       "dtype: int64"
      ]
     },
     "execution_count": 41,
     "metadata": {},
     "output_type": "execute_result"
    }
   ],
   "source": [
    "# Get value count for words excluding brands\n",
    "words[~words.isin(brands_list)].value_counts().head(60)\n"
   ]
  },
  {
   "cell_type": "code",
   "execution_count": 42,
   "id": "25a23f77",
   "metadata": {},
   "outputs": [],
   "source": [
    "words_count = words.value_counts()\n",
    "words_nobrands_count = words[~words.isin(brands_list)].value_counts()"
   ]
  },
  {
   "cell_type": "markdown",
   "id": "308c0828",
   "metadata": {},
   "source": [
    "### Stemming"
   ]
  },
  {
   "cell_type": "code",
   "execution_count": 43,
   "id": "207f9071",
   "metadata": {},
   "outputs": [],
   "source": [
    "#Stemming\n",
    "stemmer = PorterStemmer()"
   ]
  },
  {
   "cell_type": "code",
   "execution_count": 44,
   "id": "bbc6f3cf",
   "metadata": {},
   "outputs": [],
   "source": [
    "def stem_list (text):\n",
    "    return pd.Series([stemmer.stem(w) for w in text])"
   ]
  },
  {
   "cell_type": "code",
   "execution_count": 45,
   "id": "8ef290d9",
   "metadata": {},
   "outputs": [
    {
     "data": {
      "text/plain": [
       "227214"
      ]
     },
     "execution_count": 45,
     "metadata": {},
     "output_type": "execute_result"
    }
   ],
   "source": [
    "stemmed_words = stem_list(words)\n",
    "len(stemmed_words)"
   ]
  },
  {
   "cell_type": "code",
   "execution_count": 46,
   "id": "991bf9ba",
   "metadata": {
    "scrolled": true
   },
   "outputs": [
    {
     "data": {
      "text/plain": [
       "car           5429\n",
       "get           2274\n",
       "like          2221\n",
       "would         1900\n",
       "look          1821\n",
       "honda         1746\n",
       "drive         1707\n",
       "new           1632\n",
       "year          1579\n",
       "one           1556\n",
       "good          1493\n",
       "toyota        1341\n",
       "use           1283\n",
       "go            1196\n",
       "price         1154\n",
       "want          1150\n",
       "im            1120\n",
       "also          1115\n",
       "think         1076\n",
       "buy           1075\n",
       "mile          1074\n",
       "dont          1055\n",
       "nissan         963\n",
       "much           959\n",
       "better         919\n",
       "reliabl        903\n",
       "vehicl         892\n",
       "need           889\n",
       "well           845\n",
       "know           793\n",
       "realli         790\n",
       "volkswagen     742\n",
       "make           737\n",
       "model          730\n",
       "time           704\n",
       "lot            692\n",
       "even           653\n",
       "engin          630\n",
       "could          628\n",
       "great          624\n",
       "dealer         605\n",
       "ive            590\n",
       "seat           586\n",
       "might          569\n",
       "chevrolet      559\n",
       "sedan          549\n",
       "consid         547\n",
       "old            536\n",
       "someth         533\n",
       "leas           533\n",
       "civic          529\n",
       "best           529\n",
       "find           526\n",
       "nice           519\n",
       "id             515\n",
       "3              504\n",
       "cost           500\n",
       "probabl        490\n",
       "still          489\n",
       "seem           482\n",
       "dtype: int64"
      ]
     },
     "execution_count": 46,
     "metadata": {},
     "output_type": "execute_result"
    }
   ],
   "source": [
    "stemmed_words.value_counts().head(60)"
   ]
  },
  {
   "cell_type": "code",
   "execution_count": 47,
   "id": "6d686686",
   "metadata": {
    "scrolled": true
   },
   "outputs": [
    {
     "data": {
      "text/plain": [
       "car        5429\n",
       "get        2274\n",
       "like       2221\n",
       "would      1900\n",
       "look       1821\n",
       "drive      1707\n",
       "new        1632\n",
       "year       1579\n",
       "one        1556\n",
       "good       1493\n",
       "use        1283\n",
       "go         1196\n",
       "price      1154\n",
       "want       1150\n",
       "im         1120\n",
       "also       1115\n",
       "think      1076\n",
       "buy        1075\n",
       "mile       1074\n",
       "dont       1055\n",
       "much        959\n",
       "better      919\n",
       "reliabl     903\n",
       "vehicl      892\n",
       "need        889\n",
       "well        845\n",
       "know        793\n",
       "realli      790\n",
       "make        737\n",
       "model       730\n",
       "time        704\n",
       "lot         692\n",
       "even        653\n",
       "engin       630\n",
       "could       628\n",
       "great       624\n",
       "dealer      605\n",
       "ive         590\n",
       "might       569\n",
       "sedan       549\n",
       "consid      547\n",
       "old         536\n",
       "someth      533\n",
       "leas        533\n",
       "civic       529\n",
       "best        529\n",
       "find        526\n",
       "nice        519\n",
       "id          515\n",
       "3           504\n",
       "cost        500\n",
       "probabl     490\n",
       "still       489\n",
       "seem        482\n",
       "less        479\n",
       "test        479\n",
       "option      473\n",
       "say         473\n",
       "around      471\n",
       "thing       470\n",
       "dtype: int64"
      ]
     },
     "execution_count": 47,
     "metadata": {},
     "output_type": "execute_result"
    }
   ],
   "source": [
    "stemmed_words[~stemmed_words.isin(brands_list)].value_counts().head(60)\n"
   ]
  },
  {
   "cell_type": "code",
   "execution_count": 48,
   "id": "fb673039",
   "metadata": {},
   "outputs": [],
   "source": [
    "stemwords_count = stemmed_words.value_counts()\n",
    "stemwords_nobrands_count = stemmed_words[~stemmed_words.isin(brands_list)].value_counts()"
   ]
  },
  {
   "cell_type": "code",
   "execution_count": 49,
   "id": "b9cc384a",
   "metadata": {},
   "outputs": [
    {
     "data": {
      "text/plain": [
       "car         3874\n",
       "like        1900\n",
       "would       1900\n",
       "get         1797\n",
       "new         1632\n",
       "            ... \n",
       "happiest       3\n",
       "switched       3\n",
       "caryou         3\n",
       "pushes         3\n",
       "talks          3\n",
       "Length: 5975, dtype: int64"
      ]
     },
     "execution_count": 49,
     "metadata": {},
     "output_type": "execute_result"
    }
   ],
   "source": [
    "#For words_nobrands_count remove words that appear 2x or less\n",
    "words_nobrands_count = words_nobrands_count[words_nobrands_count > 2]\n",
    "words_nobrands_count"
   ]
  },
  {
   "cell_type": "code",
   "execution_count": 50,
   "id": "31d13407",
   "metadata": {},
   "outputs": [
    {
     "data": {
      "text/plain": [
       "5975"
      ]
     },
     "execution_count": 50,
     "metadata": {},
     "output_type": "execute_result"
    }
   ],
   "source": [
    "len(words_nobrands_count)"
   ]
  },
  {
   "cell_type": "code",
   "execution_count": null,
   "id": "92b0c36c",
   "metadata": {},
   "outputs": [],
   "source": [
    "# This csv is used to create our attribute map\n",
    "#words_nobrands_count.to_csv(\"attribute_count_final.csv\")"
   ]
  },
  {
   "cell_type": "markdown",
   "id": "a69cafac",
   "metadata": {},
   "source": [
    "### Importing attribute map"
   ]
  },
  {
   "cell_type": "markdown",
   "id": "50e84cf1",
   "metadata": {},
   "source": [
    "Attribute mapping was done by manually browsing rows of xlsx and linking words we found relevant to a common key"
   ]
  },
  {
   "cell_type": "code",
   "execution_count": 51,
   "id": "197ba422",
   "metadata": {},
   "outputs": [],
   "source": [
    "df_map = pd.read_excel(\"attribute_count_final.xlsx\", sheet_name = 0)"
   ]
  },
  {
   "cell_type": "code",
   "execution_count": 52,
   "id": "6ed97961",
   "metadata": {},
   "outputs": [],
   "source": [
    "df_map = df_map.drop('Unnamed: 4', axis=1)"
   ]
  },
  {
   "cell_type": "code",
   "execution_count": 53,
   "id": "cb4cd09a",
   "metadata": {
    "scrolled": false
   },
   "outputs": [
    {
     "data": {
      "text/html": [
       "<div>\n",
       "<style scoped>\n",
       "    .dataframe tbody tr th:only-of-type {\n",
       "        vertical-align: middle;\n",
       "    }\n",
       "\n",
       "    .dataframe tbody tr th {\n",
       "        vertical-align: top;\n",
       "    }\n",
       "\n",
       "    .dataframe thead th {\n",
       "        text-align: right;\n",
       "    }\n",
       "</style>\n",
       "<table border=\"1\" class=\"dataframe\">\n",
       "  <thead>\n",
       "    <tr style=\"text-align: right;\">\n",
       "      <th></th>\n",
       "      <th>word</th>\n",
       "      <th>freq</th>\n",
       "      <th>attribute_flg</th>\n",
       "      <th>attribute_synonym</th>\n",
       "    </tr>\n",
       "  </thead>\n",
       "  <tbody>\n",
       "    <tr>\n",
       "      <th>0</th>\n",
       "      <td>price</td>\n",
       "      <td>737.0</td>\n",
       "      <td>1.0</td>\n",
       "      <td>affordability</td>\n",
       "    </tr>\n",
       "    <tr>\n",
       "      <th>1</th>\n",
       "      <td>money</td>\n",
       "      <td>338.0</td>\n",
       "      <td>1.0</td>\n",
       "      <td>affordability</td>\n",
       "    </tr>\n",
       "    <tr>\n",
       "      <th>2</th>\n",
       "      <td>lease</td>\n",
       "      <td>311.0</td>\n",
       "      <td>1.0</td>\n",
       "      <td>affordability</td>\n",
       "    </tr>\n",
       "    <tr>\n",
       "      <th>3</th>\n",
       "      <td>value</td>\n",
       "      <td>273.0</td>\n",
       "      <td>1.0</td>\n",
       "      <td>affordability</td>\n",
       "    </tr>\n",
       "    <tr>\n",
       "      <th>4</th>\n",
       "      <td>cost</td>\n",
       "      <td>270.0</td>\n",
       "      <td>1.0</td>\n",
       "      <td>affordability</td>\n",
       "    </tr>\n",
       "    <tr>\n",
       "      <th>...</th>\n",
       "      <td>...</td>\n",
       "      <td>...</td>\n",
       "      <td>...</td>\n",
       "      <td>...</td>\n",
       "    </tr>\n",
       "    <tr>\n",
       "      <th>5356</th>\n",
       "      <td>nope</td>\n",
       "      <td>3.0</td>\n",
       "      <td>NaN</td>\n",
       "      <td>NaN</td>\n",
       "    </tr>\n",
       "    <tr>\n",
       "      <th>5357</th>\n",
       "      <td>scrape</td>\n",
       "      <td>3.0</td>\n",
       "      <td>NaN</td>\n",
       "      <td>NaN</td>\n",
       "    </tr>\n",
       "    <tr>\n",
       "      <th>5358</th>\n",
       "      <td>850.0</td>\n",
       "      <td>3.0</td>\n",
       "      <td>NaN</td>\n",
       "      <td>NaN</td>\n",
       "    </tr>\n",
       "    <tr>\n",
       "      <th>5359</th>\n",
       "      <td>modelsi</td>\n",
       "      <td>3.0</td>\n",
       "      <td>NaN</td>\n",
       "      <td>NaN</td>\n",
       "    </tr>\n",
       "    <tr>\n",
       "      <th>5360</th>\n",
       "      <td>rearview</td>\n",
       "      <td>3.0</td>\n",
       "      <td>NaN</td>\n",
       "      <td>NaN</td>\n",
       "    </tr>\n",
       "  </tbody>\n",
       "</table>\n",
       "<p>5361 rows × 4 columns</p>\n",
       "</div>"
      ],
      "text/plain": [
       "          word   freq  attribute_flg attribute_synonym\n",
       "0        price  737.0            1.0     affordability\n",
       "1        money  338.0            1.0     affordability\n",
       "2        lease  311.0            1.0     affordability\n",
       "3        value  273.0            1.0     affordability\n",
       "4         cost  270.0            1.0     affordability\n",
       "...        ...    ...            ...               ...\n",
       "5356      nope    3.0            NaN               NaN\n",
       "5357    scrape    3.0            NaN               NaN\n",
       "5358     850.0    3.0            NaN               NaN\n",
       "5359   modelsi    3.0            NaN               NaN\n",
       "5360  rearview    3.0            NaN               NaN\n",
       "\n",
       "[5361 rows x 4 columns]"
      ]
     },
     "execution_count": 53,
     "metadata": {},
     "output_type": "execute_result"
    }
   ],
   "source": [
    "df_map"
   ]
  },
  {
   "cell_type": "code",
   "execution_count": 54,
   "id": "b816dff7",
   "metadata": {},
   "outputs": [],
   "source": [
    "#Replace np.nan in df_map\n",
    "df_map['attribute_flg'] = df_map['attribute_flg'].replace(np.nan, 0)\n",
    "df_map.attribute_synonym.fillna(df_map.word, inplace=True)\n"
   ]
  },
  {
   "cell_type": "code",
   "execution_count": 55,
   "id": "ca905463",
   "metadata": {},
   "outputs": [],
   "source": [
    "df_pivot_map = df_map[df_map.attribute_flg == 1.0].groupby('attribute_synonym').freq.sum().sort_values(ascending=False)"
   ]
  },
  {
   "cell_type": "code",
   "execution_count": 56,
   "id": "abd2ced3",
   "metadata": {},
   "outputs": [
    {
     "data": {
      "text/plain": [
       "attribute_synonym\n",
       "affordability     4509.0\n",
       "sustainability    1902.0\n",
       "size              1829.0\n",
       "driveability      1535.0\n",
       "engine            1433.0\n",
       "visual            1202.0\n",
       "reliable          1012.0\n",
       "transmission       998.0\n",
       "comfort            893.0\n",
       "technological      867.0\n",
       "Name: freq, dtype: float64"
      ]
     },
     "execution_count": 56,
     "metadata": {},
     "output_type": "execute_result"
    }
   ],
   "source": [
    "df_pivot_map.head(10)"
   ]
  },
  {
   "cell_type": "markdown",
   "id": "44ddaffd",
   "metadata": {},
   "source": [
    "The top 5 attributes are: affordability, sustainability, size, driveability and engine"
   ]
  },
  {
   "cell_type": "code",
   "execution_count": 253,
   "id": "447355ce",
   "metadata": {},
   "outputs": [],
   "source": [
    "# Replace the attributes in df.Message_words_v3\n",
    "def replace_attributes(m):\n",
    "    for i,row in df_map.iterrows():\n",
    "        m = np.where(m == row['word'], row['attribute_synonym'], m)\n",
    "    return m"
   ]
  },
  {
   "cell_type": "code",
   "execution_count": 130,
   "id": "7aa9ff05",
   "metadata": {},
   "outputs": [
    {
     "name": "stderr",
     "output_type": "stream",
     "text": [
      "C:\\Users\\louis\\AppData\\Local\\Temp/ipykernel_21972/764214923.py:4: FutureWarning: elementwise comparison failed; returning scalar instead, but in the future will perform elementwise comparison\n",
      "  m = np.where(m == row['word'], row['attribute_synonym'], m)\n"
     ]
    },
    {
     "data": {
      "text/plain": [
       "array(['buy', '2001', '2002', 'oldsmobile', 'intrigue', 'one', 'best',\n",
       "       'sedans', 'market', 'great', 'driveability', 'one', 'best',\n",
       "       'engine', 'engine', 'around', '35l', 'dohc', 'producing', '215hp',\n",
       "       'deals', 'great', 'year', 'last', 'intrigue', 'warrany',\n",
       "       'extended', '5', 'years', 'car', 'recommended', 'magazines',\n",
       "       'including', 'consumer', 'reports', 'unfortunately', 'looked',\n",
       "       'consumers', 'sleeper', 'sleepers', 'market', 'opinion'],\n",
       "      dtype='<U158')"
      ]
     },
     "execution_count": 130,
     "metadata": {},
     "output_type": "execute_result"
    }
   ],
   "source": [
    "replace_attributes(df.Message_words_v3.loc[2])"
   ]
  },
  {
   "cell_type": "code",
   "execution_count": 134,
   "id": "465a2c8d",
   "metadata": {},
   "outputs": [
    {
     "name": "stderr",
     "output_type": "stream",
     "text": [
      "C:\\Users\\louis\\AppData\\Local\\Temp/ipykernel_21972/764214923.py:4: FutureWarning: elementwise comparison failed; returning scalar instead, but in the future will perform elementwise comparison\n",
      "  m = np.where(m == row['word'], row['attribute_synonym'], m)\n"
     ]
    }
   ],
   "source": [
    "# Replaces attributes\n",
    "# Takes ~20-30 mins to run\n",
    "df[\"Message_words_v3\"] = df[\"Message_words_v3\"].apply(replace_attributes)"
   ]
  },
  {
   "cell_type": "code",
   "execution_count": 80,
   "id": "26a6e0a6",
   "metadata": {},
   "outputs": [],
   "source": [
    "# Drop Message_words_v2 for size\n",
    "df_saved = df.copy()\n",
    "df = df.drop(\"Message_words_v2\", axis=1)"
   ]
  },
  {
   "cell_type": "code",
   "execution_count": 82,
   "id": "bd707b29",
   "metadata": {},
   "outputs": [],
   "source": [
    "#Create checkpoint csv to avoid long function call\n",
    "#df.to_pickle(\"data_checkpoint.pkl\")"
   ]
  },
  {
   "cell_type": "markdown",
   "id": "27ffb15c",
   "metadata": {},
   "source": [
    "# Calculating lift scores"
   ]
  },
  {
   "cell_type": "code",
   "execution_count": 57,
   "id": "87df3f4f",
   "metadata": {},
   "outputs": [],
   "source": [
    "#Import checkpoint csv to avoid long function call\n",
    "df = pd.read_pickle(\"data_checkpoint.pkl\")"
   ]
  },
  {
   "cell_type": "code",
   "execution_count": 81,
   "id": "c711be05",
   "metadata": {},
   "outputs": [
    {
     "data": {
      "text/html": [
       "<div>\n",
       "<style scoped>\n",
       "    .dataframe tbody tr th:only-of-type {\n",
       "        vertical-align: middle;\n",
       "    }\n",
       "\n",
       "    .dataframe tbody tr th {\n",
       "        vertical-align: top;\n",
       "    }\n",
       "\n",
       "    .dataframe thead th {\n",
       "        text-align: right;\n",
       "    }\n",
       "</style>\n",
       "<table border=\"1\" class=\"dataframe\">\n",
       "  <thead>\n",
       "    <tr style=\"text-align: right;\">\n",
       "      <th></th>\n",
       "      <th>Date</th>\n",
       "      <th>User_Id</th>\n",
       "      <th>Message</th>\n",
       "      <th>NumberOfPastPosts</th>\n",
       "      <th>Role</th>\n",
       "      <th>Message_words</th>\n",
       "      <th>Message_words_v3</th>\n",
       "      <th>Brands_in_message</th>\n",
       "      <th>Qty_brands</th>\n",
       "    </tr>\n",
       "  </thead>\n",
       "  <tbody>\n",
       "    <tr>\n",
       "      <th>0</th>\n",
       "      <td>2001-09-01</td>\n",
       "      <td>pat</td>\n",
       "      <td>Need help choosing your next vehicle? Tell us your price range, are you thinking New or Used, buying or leasing, what features are must-haves, what other thoughts are on your mind, and let us give you a hand! Tell us your criteria as specifically as you can.You'll find lots of helpful folks here who can give you useful suggestions.</td>\n",
       "      <td>10,421</td>\n",
       "      <td>Member</td>\n",
       "      <td>[need, help, choosing, next, vehicle, tell, us, price, range, thinking, new, used, buying, leasing, features, musthaves, thoughts, mind, let, us, give, hand, tell, us, criteria, specifically, canyoull, find, lots, helpful, folks, give, useful, suggestions]</td>\n",
       "      <td>[need, help, choosing, next, vehicle, tell, us, affordability, sustainability, thinking, new, used, buying, affordability, features, musthaves, thoughts, mind, let, us, give, hand, tell, us, criteria, specifically, canyoull, find, lots, helpful, folks, give, useful, suggestions]</td>\n",
       "      <td>[]</td>\n",
       "      <td>0</td>\n",
       "    </tr>\n",
       "    <tr>\n",
       "      <th>1</th>\n",
       "      <td>2001-09-01</td>\n",
       "      <td>willow25</td>\n",
       "      <td>I'm buying a \"new\" car by the end of the year and my first choice is a Nissan Maxima. I've read that they are very reliable and hold their value well. My budget is probably going to allow for a 98-99 and I was wondering if it's worth buying a car that's almost 3-4 years old. Any suggestions or comments would help a lot.willow25</td>\n",
       "      <td>2</td>\n",
       "      <td>Member</td>\n",
       "      <td>[im, buying, new, car, end, year, first, choice, nissan, maxima, ive, read, reliable, hold, value, well, budget, probably, going, allow, 9899, wondering, worth, buying, car, thats, almost, 34, years, old, suggestions, comments, would, help, lotwillow25]</td>\n",
       "      <td>[im, buying, new, car, end, year, first, choice, nissan, ive, read, reliable, hold, affordability, well, affordability, probably, going, allow, 9899, wondering, affordability, buying, car, thats, almost, 34, years, age, suggestions, comments, would, help, lotwillow25]</td>\n",
       "      <td>[nissan]</td>\n",
       "      <td>1</td>\n",
       "    </tr>\n",
       "    <tr>\n",
       "      <th>2</th>\n",
       "      <td>2001-10-01</td>\n",
       "      <td>dindak</td>\n",
       "      <td>Buy a 2001/ 2002 Oldsmobile Intrigue. It's one of the best sedans on the market with great handling and one of the best V6 engines around, a 3.5L DOHC producing 215HP. The deals should be great this year as it's the last on for Intrigue and the warrany on them has been extended to 5 years. The car is recommended by most magazines (including Consumer Reports), but is unfortunately over looked by most consumers. It is the sleeper of all sleepers on the market in my opinion.</td>\n",
       "      <td>6,632</td>\n",
       "      <td>Member</td>\n",
       "      <td>[buy, 2001, 2002, oldsmobile, intrigue, one, best, sedans, market, great, handling, one, best, v6, engines, around, 35l, dohc, producing, 215hp, deals, great, year, last, intrigue, warrany, extended, 5, years, car, recommended, magazines, including, consumer, reports, unfortunately, looked, consumers, sleeper, sleepers, market, opinion]</td>\n",
       "      <td>[buy, 2001, 2002, oldsmobile, intrigue, one, best, sedans, market, great, driveability, one, best, engine, engine, around, 35l, dohc, producing, 215hp, deals, great, year, last, intrigue, warrany, extended, 5, years, car, recommended, magazines, including, consumer, reports, unfortunately, looked, consumers, sleeper, sleepers, market, opinion]</td>\n",
       "      <td>[]</td>\n",
       "      <td>0</td>\n",
       "    </tr>\n",
       "    <tr>\n",
       "      <th>3</th>\n",
       "      <td>2001-10-01</td>\n",
       "      <td>peteri1</td>\n",
       "      <td>Am looking at 1 of 4 choices to replace my 99GS400. I've read everything here and on other forums and have seen much conflicting info:4 options:Lexus LS430 with custom/luxury packageInfiniti Q45 with premium pckgAudi A-6 4.2 loaded Audi A-8 not stripped, but not loadedChicago winters--had Blizzaks on the GS--worked fine. My 95Q was pig in snow, but I'm sure 2002Q is a world away from that. I've heard Audi has some QC problems, but I like their maintenance being included. I'm a happy Lexus driver. The Q appears to offer the most for the $$. Will lease and in this economy, I would think I could command an attractive package. Can I go wrong with any of the 4? Am I missing something?</td>\n",
       "      <td>21</td>\n",
       "      <td>Member</td>\n",
       "      <td>[looking, 1, 4, choices, replace, 99gs400, ive, read, everything, forums, seen, much, conflicting, info4, optionslexus, ls430, customluxury, packageinfiniti, q45, premium, pckgaudi, a6, 42, loaded, audi, a8, stripped, loadedchicago, wintershad, blizzaks, gsworked, fine, 95q, pig, snow, im, sure, 2002q, world, away, ive, heard, audi, qc, problems, like, maintenance, included, im, happy, lexus, driver, q, appears, offer, lease, economy, would, think, could, command, attractive, package, go, wrong, 4, missing, something]</td>\n",
       "      <td>[looking, 1, 4, choices, replace, 99gs400, ive, read, everything, forums, seen, much, conflicting, info4, optionslexus, ls430, customluxury, packageinfiniti, q45, premium, pckgaudi, audi, 42, loaded, audi, stripped, loadedchicago, wintershad, blizzaks, gsworked, fine, 95q, pig, snow, im, sure, 2002q, world, away, ive, heard, audi, qc, problems, like, affordability, included, im, happy, lexus, driver, q, appears, offer, affordability, sustainability, would, think, could, command, attractive, package, go, wrong, 4, missing, something]</td>\n",
       "      <td>[audi, lexus]</td>\n",
       "      <td>2</td>\n",
       "    </tr>\n",
       "    <tr>\n",
       "      <th>4</th>\n",
       "      <td>2001-10-01</td>\n",
       "      <td>mrdetailer</td>\n",
       "      <td>Generally a 3-4 year old car range is a good one because they are basically sound. If possible get one that is still under warrenty. But if not, make sure that a trusted Maxima mechanic goes over it thoroughly. Their V-6 is one of the best rated for over 10 years. Personally I am amazed at the great strides in American Quality recently, so the Olds may not be a bad idea other.</td>\n",
       "      <td>1,118</td>\n",
       "      <td>Member</td>\n",
       "      <td>[generally, 34, year, old, car, range, good, one, basically, sound, possible, get, one, still, warrenty, make, sure, trusted, maxima, mechanic, goes, thoroughly, v6, one, best, rated, 10, years, personally, amazed, great, strides, american, quality, recently, olds, may, bad, idea]</td>\n",
       "      <td>[generally, 34, year, age, car, sustainability, good, one, basically, sound, possible, get, one, still, warrenty, make, sure, trusted, nissan, mechanic, goes, thoroughly, engine, one, best, rated, 10, years, personally, amazed, great, strides, american, reliable, recently, olds, may, bad, idea]</td>\n",
       "      <td>[nissan]</td>\n",
       "      <td>1</td>\n",
       "    </tr>\n",
       "    <tr>\n",
       "      <th>...</th>\n",
       "      <td>...</td>\n",
       "      <td>...</td>\n",
       "      <td>...</td>\n",
       "      <td>...</td>\n",
       "      <td>...</td>\n",
       "      <td>...</td>\n",
       "      <td>...</td>\n",
       "      <td>...</td>\n",
       "      <td>...</td>\n",
       "    </tr>\n",
       "    <tr>\n",
       "      <th>4146</th>\n",
       "      <td>2021-02-01</td>\n",
       "      <td>kyfdx</td>\n",
       "      <td>qbrozen said: show previous quoteskyfdx said:I'll guess they survey more Accord owners than all Jaguar models combined. How are you ever going to get meaningful data from a make that sells so few cars?Name one other organization that actually compiles data or surveys, long term. I don't think there are any. \\nOh, you can't. But that's my point when folks throw old thinking around like \"Honda and Toyota are the only reliable cars.\" It just isn't that simple. I would say HyunKia are just as reliable these days. Do I have proof? Nope. But nobody has proof to say otherwise. That's all I'm getting at. \\nI bet CR has a lot of surveys on those two makes. You might be right, and they could probably back it up.</td>\n",
       "      <td>203,030</td>\n",
       "      <td>Moderator</td>\n",
       "      <td>[qbrozen, said, show, previous, quoteskyfdx, saidill, guess, survey, accord, owners, jaguar, models, combined, ever, going, get, meaningful, data, make, sells, carsname, one, organization, actually, compiles, data, surveys, long, term, dont, think, oh, cant, thats, point, folks, throw, old, thinking, around, like, honda, toyota, reliable, cars, isnt, simple, would, say, hyunkia, reliable, days, proof, nope, nobody, proof, say, otherwise, thats, im, getting, bet, cr, lot, surveys, two, makes, might, right, could, probably, back]</td>\n",
       "      <td>[qbrozen, said, show, previous, quoteskyfdx, saidill, guess, survey, honda, owners, jaguar, models, combined, ever, going, get, meaningful, data, make, sells, carsname, one, organization, actually, compiles, data, surveys, long, term, dont, think, oh, cant, thats, point, folks, throw, age, thinking, around, like, honda, toyota, reliable, cars, isnt, simple, would, say, hyunkia, reliable, days, proof, nope, nobody, proof, say, otherwise, thats, im, getting, bet, cr, lot, surveys, two, makes, might, right, could, probably, back]</td>\n",
       "      <td>[honda, toyota]</td>\n",
       "      <td>2</td>\n",
       "    </tr>\n",
       "    <tr>\n",
       "      <th>4147</th>\n",
       "      <td>2021-02-01</td>\n",
       "      <td>backy</td>\n",
       "      <td>KamCottage said:Thank you backy. Since I first posted this question, I've come to realize, as mcdawgg said above, that I want a Toyota or Honda because of the reliability. I am just so damn used to longevity in all my cars that I think anything less would make me unhappy in the long run. I don't have the patience or money to repair stuff anymore than I have to... and since I have driven beaters into the ground, I don't care about aesthetics as much as durability. That said if no Toyota or Honda is a good fit for the husband than we will look at an Optima CPO. We're heading to Carmax today to just get in a bunch of cars and see what kind of room there is in the front driver seat for him, 6 foot 4, and me who will be the main driver. \\nDid you get a car yet? If not and are still considering the Optima, JD Power just ranked the 2018 Optima the #1 mid-sized car in its latest Vehicle Dependability Study. And Kia was the highest-ranked mass-market brand overall, behind only Lexus and Porsche. FYI the 2018 Sonata was the #2 mid-sized car.https://www.jdpower.com/business/press-releases/2021-us-vehicle-dependability-study-vds</td>\n",
       "      <td>18,946</td>\n",
       "      <td>Member</td>\n",
       "      <td>[kamcottage, saidthank, backy, since, first, posted, question, ive, come, realize, mcdawgg, said, want, toyota, honda, reliability, damn, used, longevity, cars, think, anything, less, would, make, unhappy, long, run, dont, patience, money, repair, stuff, anymore, since, driven, beaters, ground, dont, care, aesthetics, much, durability, said, toyota, honda, good, fit, husband, look, optima, cpo, heading, carmax, today, get, bunch, cars, see, kind, room, front, driver, seat, 6, foot, 4, main, driver, get, car, yet, still, considering, optima, jd, power, ranked, 2018, optima, 1, midsized, car, latest, vehicle, dependability, study, kia, highestranked, massmarket, brand, overall, behind, lexus, porsche, fyi, 2018, sonata, 2, midsized, ...]</td>\n",
       "      <td>[kamcottage, saidthank, backy, since, first, posted, question, ive, come, realize, mcdawgg, said, want, toyota, honda, reliable, damn, used, longevity, cars, think, anything, less, would, make, unhappy, long, run, dont, patience, affordability, affordability, stuff, anymore, since, driven, beaters, ground, dont, care, visual, much, durability, said, toyota, honda, good, fit, husband, look, kia, affordability, heading, carmax, today, get, bunch, cars, see, kind, size, front, driver, seat, 6, foot, 4, main, driver, get, car, yet, still, considering, kia, jd, power, ranked, 2018, kia, 1, size, car, latest, vehicle, dependability, study, kia, highestranked, massmarket, brand, overall, behind, lexus, porsche, fyi, 2018, sonata, 2, size, ...]</td>\n",
       "      <td>[honda, kia, seat, toyota, lexus]</td>\n",
       "      <td>5</td>\n",
       "    </tr>\n",
       "    <tr>\n",
       "      <th>4148</th>\n",
       "      <td>2021-02-01</td>\n",
       "      <td>RayeEliza</td>\n",
       "      <td>I am doing major research in trying to find my new car, which I am more leaning towards an SUV. Since I recently moved to Washington state and having to deal with snow, I will need a car that I can drive in snow without issues. I am also looking for somewhat good mileage and really good cargo space. I have only three cars I'm looking for that I am interested in which are the Subaru Outback, Toyota RAV4 hybrid, and the Subaru Forester. Which of these would you all recommend or if there are any others that sound just as good. The optimal price range is below $35,000.</td>\n",
       "      <td>6</td>\n",
       "      <td>Member</td>\n",
       "      <td>[major, research, trying, find, new, car, leaning, towards, suv, since, recently, moved, washington, state, deal, snow, need, car, drive, snow, without, issues, also, looking, somewhat, good, mileage, really, good, cargo, space, three, cars, im, looking, interested, subaru, outback, toyota, rav4, hybrid, subaru, forester, would, recommend, others, sound, good, optimal, price, range, 35000]</td>\n",
       "      <td>[major, research, trying, find, new, car, leaning, towards, suv, since, recently, moved, washington, state, deal, snow, need, car, drive, snow, without, issues, also, looking, somewhat, good, sustainability, really, good, cargo, size, three, cars, im, looking, interested, subaru, outback, toyota, rav4, sustainability, subaru, forester, would, recommend, others, sound, good, optimal, affordability, sustainability, 35000]</td>\n",
       "      <td>[subaru, toyota]</td>\n",
       "      <td>2</td>\n",
       "    </tr>\n",
       "    <tr>\n",
       "      <th>4149</th>\n",
       "      <td>2021-02-01</td>\n",
       "      <td>mlevine</td>\n",
       "      <td>I would lean toward subaru. Need to see which model you are comfortable in. Mazda SUVs and honda SUVs also not a bad choice.</td>\n",
       "      <td>512</td>\n",
       "      <td>Member</td>\n",
       "      <td>[would, lean, toward, subaru, need, see, model, comfortable, mazda, suvs, honda, suvs, also, bad, choice]</td>\n",
       "      <td>[would, lean, toward, subaru, need, see, model, comfort, mazda, suvs, honda, suvs, also, bad, choice]</td>\n",
       "      <td>[honda, mazda, subaru]</td>\n",
       "      <td>3</td>\n",
       "    </tr>\n",
       "    <tr>\n",
       "      <th>4150</th>\n",
       "      <td>2021-02-01</td>\n",
       "      <td>mcdawgg</td>\n",
       "      <td>RayeEliza said:I am doing major research in trying to find my new car, which I am more leaning towards an SUV. Since I recently moved to Washington state and having to deal with snow, I will need a car that I can drive in snow without issues. I am also looking for somewhat good mileage and really good cargo space. I have only three cars I'm looking for that I am interested in which are the Subaru Outback, Toyota RAV4 hybrid, and the Subaru Forester. Which of these would you all recommend or if there are any others that sound just as good. The optimal price range is below $35,000. \\nToyota, especially for the long-term reliability.</td>\n",
       "      <td>1,712</td>\n",
       "      <td>Member</td>\n",
       "      <td>[rayeeliza, saidi, major, research, trying, find, new, car, leaning, towards, suv, since, recently, moved, washington, state, deal, snow, need, car, drive, snow, without, issues, also, looking, somewhat, good, mileage, really, good, cargo, space, three, cars, im, looking, interested, subaru, outback, toyota, rav4, hybrid, subaru, forester, would, recommend, others, sound, good, optimal, price, range, 35000, toyota, especially, longterm, reliability]</td>\n",
       "      <td>[rayeeliza, saidi, major, research, trying, find, new, car, leaning, towards, suv, since, recently, moved, washington, state, deal, snow, need, car, drive, snow, without, issues, also, looking, somewhat, good, sustainability, really, good, cargo, size, three, cars, im, looking, interested, subaru, outback, toyota, rav4, sustainability, subaru, forester, would, recommend, others, sound, good, optimal, affordability, sustainability, 35000, toyota, especially, longterm, reliable]</td>\n",
       "      <td>[subaru, toyota]</td>\n",
       "      <td>2</td>\n",
       "    </tr>\n",
       "  </tbody>\n",
       "</table>\n",
       "<p>4151 rows × 9 columns</p>\n",
       "</div>"
      ],
      "text/plain": [
       "           Date     User_Id  \\\n",
       "0    2001-09-01         pat   \n",
       "1    2001-09-01    willow25   \n",
       "2    2001-10-01      dindak   \n",
       "3    2001-10-01     peteri1   \n",
       "4    2001-10-01  mrdetailer   \n",
       "...         ...         ...   \n",
       "4146 2021-02-01       kyfdx   \n",
       "4147 2021-02-01       backy   \n",
       "4148 2021-02-01   RayeEliza   \n",
       "4149 2021-02-01     mlevine   \n",
       "4150 2021-02-01     mcdawgg   \n",
       "\n",
       "                                                                                                                                                                                                                                                                                                                                                                                                                                                                                                                                                                                                                                                                                                                                                                                                                                                                                                                                                                                                                                                                                                                                                                              Message  \\\n",
       "0                                                                                                                                                                                                                                                                                                                                                                                                                                                                                                                                                                                                                                                                                                                                                                                                                                      Need help choosing your next vehicle? Tell us your price range, are you thinking New or Used, buying or leasing, what features are must-haves, what other thoughts are on your mind, and let us give you a hand! Tell us your criteria as specifically as you can.You'll find lots of helpful folks here who can give you useful suggestions.    \n",
       "1                                                                                                                                                                                                                                                                                                                                                                                                                                                                                                                                                                                                                                                                                                                                                                                                                                          I'm buying a \"new\" car by the end of the year and my first choice is a Nissan Maxima. I've read that they are very reliable and hold their value well. My budget is probably going to allow for a 98-99 and I was wondering if it's worth buying a car that's almost 3-4 years old. Any suggestions or comments would help a lot.willow25    \n",
       "2                                                                                                                                                                                                                                                                                                                                                                                                                                                                                                                                                                                                                                                                                       Buy a 2001/ 2002 Oldsmobile Intrigue. It's one of the best sedans on the market with great handling and one of the best V6 engines around, a 3.5L DOHC producing 215HP. The deals should be great this year as it's the last on for Intrigue and the warrany on them has been extended to 5 years. The car is recommended by most magazines (including Consumer Reports), but is unfortunately over looked by most consumers. It is the sleeper of all sleepers on the market in my opinion.    \n",
       "3                                                                                                                                                                                                                                                                                                                                                                                                                                                                   Am looking at 1 of 4 choices to replace my 99GS400. I've read everything here and on other forums and have seen much conflicting info:4 options:Lexus LS430 with custom/luxury packageInfiniti Q45 with premium pckgAudi A-6 4.2 loaded Audi A-8 not stripped, but not loadedChicago winters--had Blizzaks on the GS--worked fine. My 95Q was pig in snow, but I'm sure 2002Q is a world away from that. I've heard Audi has some QC problems, but I like their maintenance being included. I'm a happy Lexus driver. The Q appears to offer the most for the $$. Will lease and in this economy, I would think I could command an attractive package. Can I go wrong with any of the 4? Am I missing something?    \n",
       "4                                                                                                                                                                                                                                                                                                                                                                                                                                                                                                                                                                                                                                                                                                                                                                                        Generally a 3-4 year old car range is a good one because they are basically sound. If possible get one that is still under warrenty. But if not, make sure that a trusted Maxima mechanic goes over it thoroughly. Their V-6 is one of the best rated for over 10 years. Personally I am amazed at the great strides in American Quality recently, so the Olds may not be a bad idea other.    \n",
       "...                                                                                                                                                                                                                                                                                                                                                                                                                                                                                                                                                                                                                                                                                                                                                                                                                                                                                                                                                                                                                                                                                                                                                                               ...   \n",
       "4146                                                                                                                                                                                                                                                                                                                                                                                                                                        qbrozen said: show previous quoteskyfdx said:I'll guess they survey more Accord owners than all Jaguar models combined. How are you ever going to get meaningful data from a make that sells so few cars?Name one other organization that actually compiles data or surveys, long term. I don't think there are any. \\nOh, you can't. But that's my point when folks throw old thinking around like \"Honda and Toyota are the only reliable cars.\" It just isn't that simple. I would say HyunKia are just as reliable these days. Do I have proof? Nope. But nobody has proof to say otherwise. That's all I'm getting at. \\nI bet CR has a lot of surveys on those two makes. You might be right, and they could probably back it up.     \n",
       "4147  KamCottage said:Thank you backy. Since I first posted this question, I've come to realize, as mcdawgg said above, that I want a Toyota or Honda because of the reliability. I am just so damn used to longevity in all my cars that I think anything less would make me unhappy in the long run. I don't have the patience or money to repair stuff anymore than I have to... and since I have driven beaters into the ground, I don't care about aesthetics as much as durability. That said if no Toyota or Honda is a good fit for the husband than we will look at an Optima CPO. We're heading to Carmax today to just get in a bunch of cars and see what kind of room there is in the front driver seat for him, 6 foot 4, and me who will be the main driver. \\nDid you get a car yet? If not and are still considering the Optima, JD Power just ranked the 2018 Optima the #1 mid-sized car in its latest Vehicle Dependability Study. And Kia was the highest-ranked mass-market brand overall, behind only Lexus and Porsche. FYI the 2018 Sonata was the #2 mid-sized car.https://www.jdpower.com/business/press-releases/2021-us-vehicle-dependability-study-vds    \n",
       "4148                                                                                                                                                                                                                                                                                                                                                                                                                                                                                                                                                                                     I am doing major research in trying to find my new car, which I am more leaning towards an SUV. Since I recently moved to Washington state and having to deal with snow, I will need a car that I can drive in snow without issues. I am also looking for somewhat good mileage and really good cargo space. I have only three cars I'm looking for that I am interested in which are the Subaru Outback, Toyota RAV4 hybrid, and the Subaru Forester. Which of these would you all recommend or if there are any others that sound just as good. The optimal price range is below $35,000.    \n",
       "4149                                                                                                                                                                                                                                                                                                                                                                                                                                                                                                                                                                                                                                                                                                                                                                                                                                                                                                                                                                                                                                                    I would lean toward subaru. Need to see which model you are comfortable in. Mazda SUVs and honda SUVs also not a bad choice.    \n",
       "4150                                                                                                                                                                                                                                                                                                                                                                                                                                                                                                                  RayeEliza said:I am doing major research in trying to find my new car, which I am more leaning towards an SUV. Since I recently moved to Washington state and having to deal with snow, I will need a car that I can drive in snow without issues. I am also looking for somewhat good mileage and really good cargo space. I have only three cars I'm looking for that I am interested in which are the Subaru Outback, Toyota RAV4 hybrid, and the Subaru Forester. Which of these would you all recommend or if there are any others that sound just as good. The optimal price range is below $35,000. \\nToyota, especially for the long-term reliability.    \n",
       "\n",
       "     NumberOfPastPosts       Role  \\\n",
       "0               10,421     Member   \n",
       "1                    2     Member   \n",
       "2                6,632     Member   \n",
       "3                   21     Member   \n",
       "4                1,118     Member   \n",
       "...                ...        ...   \n",
       "4146           203,030  Moderator   \n",
       "4147            18,946     Member   \n",
       "4148                 6     Member   \n",
       "4149               512     Member   \n",
       "4150             1,712     Member   \n",
       "\n",
       "                                                                                                                                                                                                                                                                                                                                                                                                                                                                                                                                                                                                                                                                                                                                                                  Message_words  \\\n",
       "0                                                                                                                                                                                                                                                                                                                                                                                                                                                                                                              [need, help, choosing, next, vehicle, tell, us, price, range, thinking, new, used, buying, leasing, features, musthaves, thoughts, mind, let, us, give, hand, tell, us, criteria, specifically, canyoull, find, lots, helpful, folks, give, useful, suggestions]   \n",
       "1                                                                                                                                                                                                                                                                                                                                                                                                                                                                                                                 [im, buying, new, car, end, year, first, choice, nissan, maxima, ive, read, reliable, hold, value, well, budget, probably, going, allow, 9899, wondering, worth, buying, car, thats, almost, 34, years, old, suggestions, comments, would, help, lotwillow25]   \n",
       "2                                                                                                                                                                                                                                                                                                                                                                                                                            [buy, 2001, 2002, oldsmobile, intrigue, one, best, sedans, market, great, handling, one, best, v6, engines, around, 35l, dohc, producing, 215hp, deals, great, year, last, intrigue, warrany, extended, 5, years, car, recommended, magazines, including, consumer, reports, unfortunately, looked, consumers, sleeper, sleepers, market, opinion]   \n",
       "3                                                                                                                                                                                                                                   [looking, 1, 4, choices, replace, 99gs400, ive, read, everything, forums, seen, much, conflicting, info4, optionslexus, ls430, customluxury, packageinfiniti, q45, premium, pckgaudi, a6, 42, loaded, audi, a8, stripped, loadedchicago, wintershad, blizzaks, gsworked, fine, 95q, pig, snow, im, sure, 2002q, world, away, ive, heard, audi, qc, problems, like, maintenance, included, im, happy, lexus, driver, q, appears, offer, lease, economy, would, think, could, command, attractive, package, go, wrong, 4, missing, something]   \n",
       "4                                                                                                                                                                                                                                                                                                                                                                                                                                                                                     [generally, 34, year, old, car, range, good, one, basically, sound, possible, get, one, still, warrenty, make, sure, trusted, maxima, mechanic, goes, thoroughly, v6, one, best, rated, 10, years, personally, amazed, great, strides, american, quality, recently, olds, may, bad, idea]   \n",
       "...                                                                                                                                                                                                                                                                                                                                                                                                                                                                                                                                                                                                                                                                                                                                                                         ...   \n",
       "4146                                                                                                                                                                                                                      [qbrozen, said, show, previous, quoteskyfdx, saidill, guess, survey, accord, owners, jaguar, models, combined, ever, going, get, meaningful, data, make, sells, carsname, one, organization, actually, compiles, data, surveys, long, term, dont, think, oh, cant, thats, point, folks, throw, old, thinking, around, like, honda, toyota, reliable, cars, isnt, simple, would, say, hyunkia, reliable, days, proof, nope, nobody, proof, say, otherwise, thats, im, getting, bet, cr, lot, surveys, two, makes, might, right, could, probably, back]   \n",
       "4147  [kamcottage, saidthank, backy, since, first, posted, question, ive, come, realize, mcdawgg, said, want, toyota, honda, reliability, damn, used, longevity, cars, think, anything, less, would, make, unhappy, long, run, dont, patience, money, repair, stuff, anymore, since, driven, beaters, ground, dont, care, aesthetics, much, durability, said, toyota, honda, good, fit, husband, look, optima, cpo, heading, carmax, today, get, bunch, cars, see, kind, room, front, driver, seat, 6, foot, 4, main, driver, get, car, yet, still, considering, optima, jd, power, ranked, 2018, optima, 1, midsized, car, latest, vehicle, dependability, study, kia, highestranked, massmarket, brand, overall, behind, lexus, porsche, fyi, 2018, sonata, 2, midsized, ...]   \n",
       "4148                                                                                                                                                                                                                                                                                                                                                                   [major, research, trying, find, new, car, leaning, towards, suv, since, recently, moved, washington, state, deal, snow, need, car, drive, snow, without, issues, also, looking, somewhat, good, mileage, really, good, cargo, space, three, cars, im, looking, interested, subaru, outback, toyota, rav4, hybrid, subaru, forester, would, recommend, others, sound, good, optimal, price, range, 35000]   \n",
       "4149                                                                                                                                                                                                                                                                                                                                                                                                                                                                                                                                                                                                                                                                  [would, lean, toward, subaru, need, see, model, comfortable, mazda, suvs, honda, suvs, also, bad, choice]   \n",
       "4150                                                                                                                                                                                                                                                                                                      [rayeeliza, saidi, major, research, trying, find, new, car, leaning, towards, suv, since, recently, moved, washington, state, deal, snow, need, car, drive, snow, without, issues, also, looking, somewhat, good, mileage, really, good, cargo, space, three, cars, im, looking, interested, subaru, outback, toyota, rav4, hybrid, subaru, forester, would, recommend, others, sound, good, optimal, price, range, 35000, toyota, especially, longterm, reliability]   \n",
       "\n",
       "                                                                                                                                                                                                                                                                                                                                                                                                                                                                                                                                                                                                                                                                                                                                                                Message_words_v3  \\\n",
       "0                                                                                                                                                                                                                                                                                                                                                                                                                                                                                        [need, help, choosing, next, vehicle, tell, us, affordability, sustainability, thinking, new, used, buying, affordability, features, musthaves, thoughts, mind, let, us, give, hand, tell, us, criteria, specifically, canyoull, find, lots, helpful, folks, give, useful, suggestions]   \n",
       "1                                                                                                                                                                                                                                                                                                                                                                                                                                                                                                   [im, buying, new, car, end, year, first, choice, nissan, ive, read, reliable, hold, affordability, well, affordability, probably, going, allow, 9899, wondering, affordability, buying, car, thats, almost, 34, years, age, suggestions, comments, would, help, lotwillow25]   \n",
       "2                                                                                                                                                                                                                                                                                                                                                                                                                      [buy, 2001, 2002, oldsmobile, intrigue, one, best, sedans, market, great, driveability, one, best, engine, engine, around, 35l, dohc, producing, 215hp, deals, great, year, last, intrigue, warrany, extended, 5, years, car, recommended, magazines, including, consumer, reports, unfortunately, looked, consumers, sleeper, sleepers, market, opinion]   \n",
       "3                                                                                                                                                                                                                     [looking, 1, 4, choices, replace, 99gs400, ive, read, everything, forums, seen, much, conflicting, info4, optionslexus, ls430, customluxury, packageinfiniti, q45, premium, pckgaudi, audi, 42, loaded, audi, stripped, loadedchicago, wintershad, blizzaks, gsworked, fine, 95q, pig, snow, im, sure, 2002q, world, away, ive, heard, audi, qc, problems, like, affordability, included, im, happy, lexus, driver, q, appears, offer, affordability, sustainability, would, think, could, command, attractive, package, go, wrong, 4, missing, something]   \n",
       "4                                                                                                                                                                                                                                                                                                                                                                                                                                                                        [generally, 34, year, age, car, sustainability, good, one, basically, sound, possible, get, one, still, warrenty, make, sure, trusted, nissan, mechanic, goes, thoroughly, engine, one, best, rated, 10, years, personally, amazed, great, strides, american, reliable, recently, olds, may, bad, idea]   \n",
       "...                                                                                                                                                                                                                                                                                                                                                                                                                                                                                                                                                                                                                                                                                                                                                                          ...   \n",
       "4146                                                                                                                                                                                                                        [qbrozen, said, show, previous, quoteskyfdx, saidill, guess, survey, honda, owners, jaguar, models, combined, ever, going, get, meaningful, data, make, sells, carsname, one, organization, actually, compiles, data, surveys, long, term, dont, think, oh, cant, thats, point, folks, throw, age, thinking, around, like, honda, toyota, reliable, cars, isnt, simple, would, say, hyunkia, reliable, days, proof, nope, nobody, proof, say, otherwise, thats, im, getting, bet, cr, lot, surveys, two, makes, might, right, could, probably, back]   \n",
       "4147  [kamcottage, saidthank, backy, since, first, posted, question, ive, come, realize, mcdawgg, said, want, toyota, honda, reliable, damn, used, longevity, cars, think, anything, less, would, make, unhappy, long, run, dont, patience, affordability, affordability, stuff, anymore, since, driven, beaters, ground, dont, care, visual, much, durability, said, toyota, honda, good, fit, husband, look, kia, affordability, heading, carmax, today, get, bunch, cars, see, kind, size, front, driver, seat, 6, foot, 4, main, driver, get, car, yet, still, considering, kia, jd, power, ranked, 2018, kia, 1, size, car, latest, vehicle, dependability, study, kia, highestranked, massmarket, brand, overall, behind, lexus, porsche, fyi, 2018, sonata, 2, size, ...]   \n",
       "4148                                                                                                                                                                                                                                                                                                                                     [major, research, trying, find, new, car, leaning, towards, suv, since, recently, moved, washington, state, deal, snow, need, car, drive, snow, without, issues, also, looking, somewhat, good, sustainability, really, good, cargo, size, three, cars, im, looking, interested, subaru, outback, toyota, rav4, sustainability, subaru, forester, would, recommend, others, sound, good, optimal, affordability, sustainability, 35000]   \n",
       "4149                                                                                                                                                                                                                                                                                                                                                                                                                                                                                                                                                                                                                                                                       [would, lean, toward, subaru, need, see, model, comfort, mazda, suvs, honda, suvs, also, bad, choice]   \n",
       "4150                                                                                                                                                                                                                                                                           [rayeeliza, saidi, major, research, trying, find, new, car, leaning, towards, suv, since, recently, moved, washington, state, deal, snow, need, car, drive, snow, without, issues, also, looking, somewhat, good, sustainability, really, good, cargo, size, three, cars, im, looking, interested, subaru, outback, toyota, rav4, sustainability, subaru, forester, would, recommend, others, sound, good, optimal, affordability, sustainability, 35000, toyota, especially, longterm, reliable]   \n",
       "\n",
       "                      Brands_in_message  Qty_brands  \n",
       "0                                    []           0  \n",
       "1                              [nissan]           1  \n",
       "2                                    []           0  \n",
       "3                         [audi, lexus]           2  \n",
       "4                              [nissan]           1  \n",
       "...                                 ...         ...  \n",
       "4146                    [honda, toyota]           2  \n",
       "4147  [honda, kia, seat, toyota, lexus]           5  \n",
       "4148                   [subaru, toyota]           2  \n",
       "4149             [honda, mazda, subaru]           3  \n",
       "4150                   [subaru, toyota]           2  \n",
       "\n",
       "[4151 rows x 9 columns]"
      ]
     },
     "execution_count": 81,
     "metadata": {},
     "output_type": "execute_result"
    }
   ],
   "source": [
    "df"
   ]
  },
  {
   "cell_type": "code",
   "execution_count": 59,
   "id": "c2c58d23",
   "metadata": {},
   "outputs": [],
   "source": [
    "#Function to calculate lift between a brand and an attribute\n",
    "\n",
    "def calculate_lift(brand_name, attribute_name):\n",
    "    \n",
    "    #Used to get counts in separate table\n",
    "    string_list = []\n",
    "    \n",
    "    #Get total number of reviews\n",
    "    review_count = len(df)\n",
    "    string_list.append(f\"There are {review_count} reviews\")\n",
    "\n",
    "    #Count number of times brand appears across reviews\n",
    "    brand_count = 0\n",
    "    for review in  df.Message_words_v3:\n",
    "        if brand_name in review:\n",
    "            brand_count += 1\n",
    "    string_list.append(f\"{brand_name} appears {brand_count} times\")\n",
    "    \n",
    "    #Get number of times attribute appears across reviews\n",
    "    attribute_count = 0\n",
    "    for review in df.Message_words_v3:\n",
    "            if attribute_name in review:\n",
    "                attribute_count += 1\n",
    "    string_list.append(f\"{attribute_name} appears {attribute_count} times\")\n",
    "\n",
    "    #Count number of times attribute and brand appear together\n",
    "    attr_brand_count = 0\n",
    "    for review in df.Message_words_v3:\n",
    "        if brand_name in review and attribute_name in review:\n",
    "            attr_brand_count += 1\n",
    "    string_list.append(f\"{attribute_name} and {brand_name} appears together {attr_brand_count} times\")\n",
    "    \n",
    "    #Calculate lift\n",
    "    lift = review_count * (attr_brand_count/(brand_count * attribute_count))\n",
    "    \n",
    "    return lift, string_list"
   ]
  },
  {
   "cell_type": "code",
   "execution_count": 60,
   "id": "50c073fe",
   "metadata": {},
   "outputs": [
    {
     "data": {
      "text/plain": [
       "(1.2506627489389488,\n",
       " ['There are 4151 reviews',\n",
       "  'nissan appears 525 times',\n",
       "  'affordability appears 2042 times',\n",
       "  'affordability and nissan appears together 323 times'])"
      ]
     },
     "execution_count": 60,
     "metadata": {},
     "output_type": "execute_result"
    }
   ],
   "source": [
    "calculate_lift('nissan', 'affordability')"
   ]
  },
  {
   "cell_type": "code",
   "execution_count": 62,
   "id": "143cca50",
   "metadata": {},
   "outputs": [],
   "source": [
    "# Define top brands and attributes as found in parts A and C/D\n",
    "top_attributes = ['affordability', 'sustainability', 'size', 'driveability', 'engine']\n",
    "top_brands = ['honda','toyota','nissan','volkswagen','chevrolet']"
   ]
  },
  {
   "cell_type": "code",
   "execution_count": 63,
   "id": "ab76f197",
   "metadata": {},
   "outputs": [],
   "source": [
    "# Initialize dataframes to store lift and support values\n",
    "df_lift = pd.DataFrame(index=top_brands, columns = top_attributes)\n",
    "df_lift_counts = pd.DataFrame(index=top_brands, columns = top_attributes)"
   ]
  },
  {
   "cell_type": "code",
   "execution_count": 64,
   "id": "44164ed6",
   "metadata": {},
   "outputs": [],
   "source": [
    "for brand in top_brands:\n",
    "    for attribute in top_attributes:\n",
    "        df_lift.loc[brand, attribute], df_lift_counts.loc[brand, attribute] = calculate_lift(brand, attribute)"
   ]
  },
  {
   "cell_type": "code",
   "execution_count": 65,
   "id": "0cec4e7c",
   "metadata": {},
   "outputs": [
    {
     "data": {
      "text/html": [
       "<div>\n",
       "<style scoped>\n",
       "    .dataframe tbody tr th:only-of-type {\n",
       "        vertical-align: middle;\n",
       "    }\n",
       "\n",
       "    .dataframe tbody tr th {\n",
       "        vertical-align: top;\n",
       "    }\n",
       "\n",
       "    .dataframe thead th {\n",
       "        text-align: right;\n",
       "    }\n",
       "</style>\n",
       "<table border=\"1\" class=\"dataframe\">\n",
       "  <thead>\n",
       "    <tr style=\"text-align: right;\">\n",
       "      <th></th>\n",
       "      <th>affordability</th>\n",
       "      <th>sustainability</th>\n",
       "      <th>size</th>\n",
       "      <th>driveability</th>\n",
       "      <th>engine</th>\n",
       "    </tr>\n",
       "  </thead>\n",
       "  <tbody>\n",
       "    <tr>\n",
       "      <th>honda</th>\n",
       "      <td>1.236407</td>\n",
       "      <td>1.475249</td>\n",
       "      <td>1.333386</td>\n",
       "      <td>1.285018</td>\n",
       "      <td>1.665103</td>\n",
       "    </tr>\n",
       "    <tr>\n",
       "      <th>toyota</th>\n",
       "      <td>1.23449</td>\n",
       "      <td>1.572307</td>\n",
       "      <td>1.41119</td>\n",
       "      <td>1.358744</td>\n",
       "      <td>1.416618</td>\n",
       "    </tr>\n",
       "    <tr>\n",
       "      <th>nissan</th>\n",
       "      <td>1.250663</td>\n",
       "      <td>1.334892</td>\n",
       "      <td>1.466724</td>\n",
       "      <td>1.266514</td>\n",
       "      <td>1.612803</td>\n",
       "    </tr>\n",
       "    <tr>\n",
       "      <th>volkswagen</th>\n",
       "      <td>1.148263</td>\n",
       "      <td>1.176009</td>\n",
       "      <td>1.306777</td>\n",
       "      <td>1.334974</td>\n",
       "      <td>1.465157</td>\n",
       "    </tr>\n",
       "    <tr>\n",
       "      <th>chevrolet</th>\n",
       "      <td>1.212448</td>\n",
       "      <td>1.668234</td>\n",
       "      <td>1.774826</td>\n",
       "      <td>1.719377</td>\n",
       "      <td>2.052918</td>\n",
       "    </tr>\n",
       "  </tbody>\n",
       "</table>\n",
       "</div>"
      ],
      "text/plain": [
       "           affordability sustainability      size driveability    engine\n",
       "honda           1.236407       1.475249  1.333386     1.285018  1.665103\n",
       "toyota           1.23449       1.572307   1.41119     1.358744  1.416618\n",
       "nissan          1.250663       1.334892  1.466724     1.266514  1.612803\n",
       "volkswagen      1.148263       1.176009  1.306777     1.334974  1.465157\n",
       "chevrolet       1.212448       1.668234  1.774826     1.719377  2.052918"
      ]
     },
     "execution_count": 65,
     "metadata": {},
     "output_type": "execute_result"
    }
   ],
   "source": [
    "df_lift"
   ]
  },
  {
   "cell_type": "code",
   "execution_count": 66,
   "id": "7a703851",
   "metadata": {},
   "outputs": [
    {
     "data": {
      "text/html": [
       "<div>\n",
       "<style scoped>\n",
       "    .dataframe tbody tr th:only-of-type {\n",
       "        vertical-align: middle;\n",
       "    }\n",
       "\n",
       "    .dataframe tbody tr th {\n",
       "        vertical-align: top;\n",
       "    }\n",
       "\n",
       "    .dataframe thead th {\n",
       "        text-align: right;\n",
       "    }\n",
       "</style>\n",
       "<table border=\"1\" class=\"dataframe\">\n",
       "  <thead>\n",
       "    <tr style=\"text-align: right;\">\n",
       "      <th></th>\n",
       "      <th>affordability</th>\n",
       "      <th>sustainability</th>\n",
       "      <th>size</th>\n",
       "      <th>driveability</th>\n",
       "      <th>engine</th>\n",
       "    </tr>\n",
       "  </thead>\n",
       "  <tbody>\n",
       "    <tr>\n",
       "      <th>honda</th>\n",
       "      <td>[There are 4151 reviews, honda appears 924 times, affordability appears 2042 times, affordability and honda appears together 562 times]</td>\n",
       "      <td>[There are 4151 reviews, honda appears 924 times, sustainability appears 1078 times, sustainability and honda appears together 354 times]</td>\n",
       "      <td>[There are 4151 reviews, honda appears 924 times, size appears 1159 times, size and honda appears together 344 times]</td>\n",
       "      <td>[There are 4151 reviews, honda appears 924 times, driveability appears 874 times, driveability and honda appears together 250 times]</td>\n",
       "      <td>[There are 4151 reviews, honda appears 924 times, engine appears 804 times, engine and honda appears together 298 times]</td>\n",
       "    </tr>\n",
       "    <tr>\n",
       "      <th>toyota</th>\n",
       "      <td>[There are 4151 reviews, toyota appears 769 times, affordability appears 2042 times, affordability and toyota appears together 467 times]</td>\n",
       "      <td>[There are 4151 reviews, toyota appears 769 times, sustainability appears 1078 times, sustainability and toyota appears together 314 times]</td>\n",
       "      <td>[There are 4151 reviews, toyota appears 769 times, size appears 1159 times, size and toyota appears together 303 times]</td>\n",
       "      <td>[There are 4151 reviews, toyota appears 769 times, driveability appears 874 times, driveability and toyota appears together 220 times]</td>\n",
       "      <td>[There are 4151 reviews, toyota appears 769 times, engine appears 804 times, engine and toyota appears together 211 times]</td>\n",
       "    </tr>\n",
       "    <tr>\n",
       "      <th>nissan</th>\n",
       "      <td>[There are 4151 reviews, nissan appears 525 times, affordability appears 2042 times, affordability and nissan appears together 323 times]</td>\n",
       "      <td>[There are 4151 reviews, nissan appears 525 times, sustainability appears 1078 times, sustainability and nissan appears together 182 times]</td>\n",
       "      <td>[There are 4151 reviews, nissan appears 525 times, size appears 1159 times, size and nissan appears together 215 times]</td>\n",
       "      <td>[There are 4151 reviews, nissan appears 525 times, driveability appears 874 times, driveability and nissan appears together 140 times]</td>\n",
       "      <td>[There are 4151 reviews, nissan appears 525 times, engine appears 804 times, engine and nissan appears together 164 times]</td>\n",
       "    </tr>\n",
       "    <tr>\n",
       "      <th>volkswagen</th>\n",
       "      <td>[There are 4151 reviews, volkswagen appears 370 times, affordability appears 2042 times, affordability and volkswagen appears together 209 times]</td>\n",
       "      <td>[There are 4151 reviews, volkswagen appears 370 times, sustainability appears 1078 times, sustainability and volkswagen appears together 113 times]</td>\n",
       "      <td>[There are 4151 reviews, volkswagen appears 370 times, size appears 1159 times, size and volkswagen appears together 135 times]</td>\n",
       "      <td>[There are 4151 reviews, volkswagen appears 370 times, driveability appears 874 times, driveability and volkswagen appears together 104 times]</td>\n",
       "      <td>[There are 4151 reviews, volkswagen appears 370 times, engine appears 804 times, engine and volkswagen appears together 105 times]</td>\n",
       "    </tr>\n",
       "    <tr>\n",
       "      <th>chevrolet</th>\n",
       "      <td>[There are 4151 reviews, chevrolet appears 337 times, affordability appears 2042 times, affordability and chevrolet appears together 201 times]</td>\n",
       "      <td>[There are 4151 reviews, chevrolet appears 337 times, sustainability appears 1078 times, sustainability and chevrolet appears together 146 times]</td>\n",
       "      <td>[There are 4151 reviews, chevrolet appears 337 times, size appears 1159 times, size and chevrolet appears together 167 times]</td>\n",
       "      <td>[There are 4151 reviews, chevrolet appears 337 times, driveability appears 874 times, driveability and chevrolet appears together 122 times]</td>\n",
       "      <td>[There are 4151 reviews, chevrolet appears 337 times, engine appears 804 times, engine and chevrolet appears together 134 times]</td>\n",
       "    </tr>\n",
       "  </tbody>\n",
       "</table>\n",
       "</div>"
      ],
      "text/plain": [
       "                                                                                                                                                affordability  \\\n",
       "honda                 [There are 4151 reviews, honda appears 924 times, affordability appears 2042 times, affordability and honda appears together 562 times]   \n",
       "toyota              [There are 4151 reviews, toyota appears 769 times, affordability appears 2042 times, affordability and toyota appears together 467 times]   \n",
       "nissan              [There are 4151 reviews, nissan appears 525 times, affordability appears 2042 times, affordability and nissan appears together 323 times]   \n",
       "volkswagen  [There are 4151 reviews, volkswagen appears 370 times, affordability appears 2042 times, affordability and volkswagen appears together 209 times]   \n",
       "chevrolet     [There are 4151 reviews, chevrolet appears 337 times, affordability appears 2042 times, affordability and chevrolet appears together 201 times]   \n",
       "\n",
       "                                                                                                                                                 sustainability  \\\n",
       "honda                 [There are 4151 reviews, honda appears 924 times, sustainability appears 1078 times, sustainability and honda appears together 354 times]   \n",
       "toyota              [There are 4151 reviews, toyota appears 769 times, sustainability appears 1078 times, sustainability and toyota appears together 314 times]   \n",
       "nissan              [There are 4151 reviews, nissan appears 525 times, sustainability appears 1078 times, sustainability and nissan appears together 182 times]   \n",
       "volkswagen  [There are 4151 reviews, volkswagen appears 370 times, sustainability appears 1078 times, sustainability and volkswagen appears together 113 times]   \n",
       "chevrolet     [There are 4151 reviews, chevrolet appears 337 times, sustainability appears 1078 times, sustainability and chevrolet appears together 146 times]   \n",
       "\n",
       "                                                                                                                                       size  \\\n",
       "honda                 [There are 4151 reviews, honda appears 924 times, size appears 1159 times, size and honda appears together 344 times]   \n",
       "toyota              [There are 4151 reviews, toyota appears 769 times, size appears 1159 times, size and toyota appears together 303 times]   \n",
       "nissan              [There are 4151 reviews, nissan appears 525 times, size appears 1159 times, size and nissan appears together 215 times]   \n",
       "volkswagen  [There are 4151 reviews, volkswagen appears 370 times, size appears 1159 times, size and volkswagen appears together 135 times]   \n",
       "chevrolet     [There are 4151 reviews, chevrolet appears 337 times, size appears 1159 times, size and chevrolet appears together 167 times]   \n",
       "\n",
       "                                                                                                                                              driveability  \\\n",
       "honda                 [There are 4151 reviews, honda appears 924 times, driveability appears 874 times, driveability and honda appears together 250 times]   \n",
       "toyota              [There are 4151 reviews, toyota appears 769 times, driveability appears 874 times, driveability and toyota appears together 220 times]   \n",
       "nissan              [There are 4151 reviews, nissan appears 525 times, driveability appears 874 times, driveability and nissan appears together 140 times]   \n",
       "volkswagen  [There are 4151 reviews, volkswagen appears 370 times, driveability appears 874 times, driveability and volkswagen appears together 104 times]   \n",
       "chevrolet     [There are 4151 reviews, chevrolet appears 337 times, driveability appears 874 times, driveability and chevrolet appears together 122 times]   \n",
       "\n",
       "                                                                                                                                        engine  \n",
       "honda                 [There are 4151 reviews, honda appears 924 times, engine appears 804 times, engine and honda appears together 298 times]  \n",
       "toyota              [There are 4151 reviews, toyota appears 769 times, engine appears 804 times, engine and toyota appears together 211 times]  \n",
       "nissan              [There are 4151 reviews, nissan appears 525 times, engine appears 804 times, engine and nissan appears together 164 times]  \n",
       "volkswagen  [There are 4151 reviews, volkswagen appears 370 times, engine appears 804 times, engine and volkswagen appears together 105 times]  \n",
       "chevrolet     [There are 4151 reviews, chevrolet appears 337 times, engine appears 804 times, engine and chevrolet appears together 134 times]  "
      ]
     },
     "execution_count": 66,
     "metadata": {},
     "output_type": "execute_result"
    }
   ],
   "source": [
    "df_lift_counts"
   ]
  },
  {
   "cell_type": "markdown",
   "id": "04dc00f0",
   "metadata": {},
   "source": [
    "## Calculating lift from brand-attribute assignment lists\n",
    "brand_reviews_1st_approach and brand_reviews_2nd_approach\n"
   ]
  },
  {
   "cell_type": "code",
   "execution_count": 68,
   "id": "925eb3b2",
   "metadata": {},
   "outputs": [],
   "source": [
    "# Get split reviews with replaced attributes\n",
    "# generates a list (1 entry per row) of dictionaries {brand_1: part of text corresponding, \n",
    "# brand_2: part of text corresponding}\n",
    "brand_reviews_1st_mapped = []\n",
    "\n",
    "for m in df.Message_words_v3:\n",
    "\n",
    "    brand_reviews_1st_mapped.append(get_attr_in_the_right(m, brands_list))\n",
    "\n",
    "brand_reviews_2nd_mapped = []\n",
    "\n",
    "for m in df.Message_words_v3:\n",
    "\n",
    "    brand_reviews_2nd_mapped.append(get_attr_n_per_side(m,4, brands_list))"
   ]
  },
  {
   "cell_type": "code",
   "execution_count": 69,
   "id": "147989ec",
   "metadata": {},
   "outputs": [],
   "source": [
    "# Calculate split from list of dictionaries brand_reviews_1st_mapped and brand_reviews_2nd_mapped\n",
    "\n",
    "def calculate_lift_split(brand_name, attribute_name, review_list):\n",
    "    \n",
    "    #Used to get counts in separate table\n",
    "    string_list = []\n",
    "    \n",
    "    #Get total number of reviews\n",
    "    #We define reviews as a part of a forum post that talks about a specific brand\n",
    "    #Each review is therefore a split of the entire post, the split being made \n",
    "    # in 2 different ways as seen above (get_attr_in_the_right, get_attr_n_per_side )\n",
    "    \n",
    "    review_count = 0\n",
    "    for review in review_list: #review_list is a list of dicts, so review is a dict\n",
    "        review_count += len(review)\n",
    "    string_list.append(f\"There are {review_count} reviews about specific brands\")\n",
    "\n",
    "    #Count number of times brand appears across split reviews\n",
    "    brand_count = 0\n",
    "    for review in review_list: #review_list is a list of dicts, so review is a dict\n",
    "        for key in review.keys():\n",
    "            if brand_name == key:\n",
    "                brand_count += 1\n",
    "    string_list.append(f\"{brand_name} appears {brand_count} times\")\n",
    "    \n",
    "    #Count number of times attribute appears across split reviews\n",
    "    attribute_count = 0\n",
    "    for review in review_list:\n",
    "        for value in review.values():\n",
    "            if attribute_name in value:\n",
    "                attribute_count += 1\n",
    "    string_list.append(f\"{attribute_name} appears {attribute_count} times\")\n",
    "\n",
    "    #Count number of times attribute and brand appear together\n",
    "    attr_brand_count = 0\n",
    "    for review in brand_reviews_1st_mapped:\n",
    "        for key, value in review.items():\n",
    "            if brand_name == key and attribute_name in value:\n",
    "                attr_brand_count += 1\n",
    "    string_list.append(f\"{attribute_name} and {brand_name} appears together {attr_brand_count} times\")\n",
    "   \n",
    "    #Calculate lift\n",
    "    lift = review_count * (attr_brand_count/(brand_count * attribute_count))\n",
    "    return lift, string_list"
   ]
  },
  {
   "cell_type": "code",
   "execution_count": 70,
   "id": "2e8f05d6",
   "metadata": {},
   "outputs": [],
   "source": [
    "# Initialize dataframes\n",
    "df_lift_1st_mapped = pd.DataFrame(index=top_brands, columns = top_attributes)\n",
    "df_lift_1st_counts = pd.DataFrame(index=top_brands, columns = top_attributes)\n",
    "df_lift_2nd_mapped = pd.DataFrame(index=top_brands, columns = top_attributes)\n",
    "df_lift_2nd_counts = pd.DataFrame(index=top_brands, columns = top_attributes)"
   ]
  },
  {
   "cell_type": "code",
   "execution_count": 71,
   "id": "fe80997c",
   "metadata": {},
   "outputs": [],
   "source": [
    "#Getting lift for brand_reviews_1st_mapped\n",
    "for brand in top_brands:\n",
    "    for attribute in top_attributes:\n",
    "        df_lift_1st_mapped.loc[brand, attribute], df_lift_1st_counts.loc[brand, attribute] = calculate_lift_split(brand, attribute, brand_reviews_1st_mapped)"
   ]
  },
  {
   "cell_type": "code",
   "execution_count": 72,
   "id": "a17d78ed",
   "metadata": {},
   "outputs": [
    {
     "data": {
      "text/html": [
       "<div>\n",
       "<style scoped>\n",
       "    .dataframe tbody tr th:only-of-type {\n",
       "        vertical-align: middle;\n",
       "    }\n",
       "\n",
       "    .dataframe tbody tr th {\n",
       "        vertical-align: top;\n",
       "    }\n",
       "\n",
       "    .dataframe thead th {\n",
       "        text-align: right;\n",
       "    }\n",
       "</style>\n",
       "<table border=\"1\" class=\"dataframe\">\n",
       "  <thead>\n",
       "    <tr style=\"text-align: right;\">\n",
       "      <th></th>\n",
       "      <th>affordability</th>\n",
       "      <th>sustainability</th>\n",
       "      <th>size</th>\n",
       "      <th>driveability</th>\n",
       "      <th>engine</th>\n",
       "    </tr>\n",
       "  </thead>\n",
       "  <tbody>\n",
       "    <tr>\n",
       "      <th>honda</th>\n",
       "      <td>1.048563</td>\n",
       "      <td>1.16192</td>\n",
       "      <td>0.892129</td>\n",
       "      <td>0.722367</td>\n",
       "      <td>1.348502</td>\n",
       "    </tr>\n",
       "    <tr>\n",
       "      <th>toyota</th>\n",
       "      <td>0.889115</td>\n",
       "      <td>1.292405</td>\n",
       "      <td>0.945005</td>\n",
       "      <td>0.877506</td>\n",
       "      <td>0.868021</td>\n",
       "    </tr>\n",
       "    <tr>\n",
       "      <th>nissan</th>\n",
       "      <td>1.045377</td>\n",
       "      <td>1.028332</td>\n",
       "      <td>1.074311</td>\n",
       "      <td>0.852235</td>\n",
       "      <td>1.186682</td>\n",
       "    </tr>\n",
       "    <tr>\n",
       "      <th>volkswagen</th>\n",
       "      <td>1.052401</td>\n",
       "      <td>0.91195</td>\n",
       "      <td>0.806152</td>\n",
       "      <td>0.872247</td>\n",
       "      <td>1.162627</td>\n",
       "    </tr>\n",
       "    <tr>\n",
       "      <th>chevrolet</th>\n",
       "      <td>0.973494</td>\n",
       "      <td>1.256114</td>\n",
       "      <td>1.400055</td>\n",
       "      <td>1.327665</td>\n",
       "      <td>1.518565</td>\n",
       "    </tr>\n",
       "  </tbody>\n",
       "</table>\n",
       "</div>"
      ],
      "text/plain": [
       "           affordability sustainability      size driveability    engine\n",
       "honda           1.048563        1.16192  0.892129     0.722367  1.348502\n",
       "toyota          0.889115       1.292405  0.945005     0.877506  0.868021\n",
       "nissan          1.045377       1.028332  1.074311     0.852235  1.186682\n",
       "volkswagen      1.052401        0.91195  0.806152     0.872247  1.162627\n",
       "chevrolet       0.973494       1.256114  1.400055     1.327665  1.518565"
      ]
     },
     "execution_count": 72,
     "metadata": {},
     "output_type": "execute_result"
    }
   ],
   "source": [
    "df_lift_1st_mapped"
   ]
  },
  {
   "cell_type": "code",
   "execution_count": 73,
   "id": "ddedec2c",
   "metadata": {},
   "outputs": [
    {
     "data": {
      "text/html": [
       "<div>\n",
       "<style scoped>\n",
       "    .dataframe tbody tr th:only-of-type {\n",
       "        vertical-align: middle;\n",
       "    }\n",
       "\n",
       "    .dataframe tbody tr th {\n",
       "        vertical-align: top;\n",
       "    }\n",
       "\n",
       "    .dataframe thead th {\n",
       "        text-align: right;\n",
       "    }\n",
       "</style>\n",
       "<table border=\"1\" class=\"dataframe\">\n",
       "  <thead>\n",
       "    <tr style=\"text-align: right;\">\n",
       "      <th></th>\n",
       "      <th>affordability</th>\n",
       "      <th>sustainability</th>\n",
       "      <th>size</th>\n",
       "      <th>driveability</th>\n",
       "      <th>engine</th>\n",
       "    </tr>\n",
       "  </thead>\n",
       "  <tbody>\n",
       "    <tr>\n",
       "      <th>honda</th>\n",
       "      <td>[There are 6638 reviews about specific brands, honda appears 924 times, affordability appears 2165 times, affordability and honda appears together 316 times]</td>\n",
       "      <td>[There are 6638 reviews about specific brands, honda appears 924 times, sustainability appears 1082 times, sustainability and honda appears together 175 times]</td>\n",
       "      <td>[There are 6638 reviews about specific brands, honda appears 924 times, size appears 1224 times, size and honda appears together 152 times]</td>\n",
       "      <td>[There are 6638 reviews about specific brands, honda appears 924 times, driveability appears 905 times, driveability and honda appears together 91 times]</td>\n",
       "      <td>[There are 6638 reviews about specific brands, honda appears 924 times, engine appears 895 times, engine and honda appears together 168 times]</td>\n",
       "    </tr>\n",
       "    <tr>\n",
       "      <th>toyota</th>\n",
       "      <td>[There are 6638 reviews about specific brands, toyota appears 769 times, affordability appears 2165 times, affordability and toyota appears together 223 times]</td>\n",
       "      <td>[There are 6638 reviews about specific brands, toyota appears 769 times, sustainability appears 1082 times, sustainability and toyota appears together 162 times]</td>\n",
       "      <td>[There are 6638 reviews about specific brands, toyota appears 769 times, size appears 1224 times, size and toyota appears together 134 times]</td>\n",
       "      <td>[There are 6638 reviews about specific brands, toyota appears 769 times, driveability appears 905 times, driveability and toyota appears together 92 times]</td>\n",
       "      <td>[There are 6638 reviews about specific brands, toyota appears 769 times, engine appears 895 times, engine and toyota appears together 90 times]</td>\n",
       "    </tr>\n",
       "    <tr>\n",
       "      <th>nissan</th>\n",
       "      <td>[There are 6638 reviews about specific brands, nissan appears 525 times, affordability appears 2165 times, affordability and nissan appears together 179 times]</td>\n",
       "      <td>[There are 6638 reviews about specific brands, nissan appears 525 times, sustainability appears 1082 times, sustainability and nissan appears together 88 times]</td>\n",
       "      <td>[There are 6638 reviews about specific brands, nissan appears 525 times, size appears 1224 times, size and nissan appears together 104 times]</td>\n",
       "      <td>[There are 6638 reviews about specific brands, nissan appears 525 times, driveability appears 905 times, driveability and nissan appears together 61 times]</td>\n",
       "      <td>[There are 6638 reviews about specific brands, nissan appears 525 times, engine appears 895 times, engine and nissan appears together 84 times]</td>\n",
       "    </tr>\n",
       "    <tr>\n",
       "      <th>volkswagen</th>\n",
       "      <td>[There are 6638 reviews about specific brands, volkswagen appears 370 times, affordability appears 2165 times, affordability and volkswagen appears together 127 times]</td>\n",
       "      <td>[There are 6638 reviews about specific brands, volkswagen appears 370 times, sustainability appears 1082 times, sustainability and volkswagen appears together 55 times]</td>\n",
       "      <td>[There are 6638 reviews about specific brands, volkswagen appears 370 times, size appears 1224 times, size and volkswagen appears together 55 times]</td>\n",
       "      <td>[There are 6638 reviews about specific brands, volkswagen appears 370 times, driveability appears 905 times, driveability and volkswagen appears together 44 times]</td>\n",
       "      <td>[There are 6638 reviews about specific brands, volkswagen appears 370 times, engine appears 895 times, engine and volkswagen appears together 58 times]</td>\n",
       "    </tr>\n",
       "    <tr>\n",
       "      <th>chevrolet</th>\n",
       "      <td>[There are 6638 reviews about specific brands, chevrolet appears 337 times, affordability appears 2165 times, affordability and chevrolet appears together 107 times]</td>\n",
       "      <td>[There are 6638 reviews about specific brands, chevrolet appears 337 times, sustainability appears 1082 times, sustainability and chevrolet appears together 69 times]</td>\n",
       "      <td>[There are 6638 reviews about specific brands, chevrolet appears 337 times, size appears 1224 times, size and chevrolet appears together 87 times]</td>\n",
       "      <td>[There are 6638 reviews about specific brands, chevrolet appears 337 times, driveability appears 905 times, driveability and chevrolet appears together 61 times]</td>\n",
       "      <td>[There are 6638 reviews about specific brands, chevrolet appears 337 times, engine appears 895 times, engine and chevrolet appears together 69 times]</td>\n",
       "    </tr>\n",
       "  </tbody>\n",
       "</table>\n",
       "</div>"
      ],
      "text/plain": [
       "                                                                                                                                                                      affordability  \\\n",
       "honda                 [There are 6638 reviews about specific brands, honda appears 924 times, affordability appears 2165 times, affordability and honda appears together 316 times]   \n",
       "toyota              [There are 6638 reviews about specific brands, toyota appears 769 times, affordability appears 2165 times, affordability and toyota appears together 223 times]   \n",
       "nissan              [There are 6638 reviews about specific brands, nissan appears 525 times, affordability appears 2165 times, affordability and nissan appears together 179 times]   \n",
       "volkswagen  [There are 6638 reviews about specific brands, volkswagen appears 370 times, affordability appears 2165 times, affordability and volkswagen appears together 127 times]   \n",
       "chevrolet     [There are 6638 reviews about specific brands, chevrolet appears 337 times, affordability appears 2165 times, affordability and chevrolet appears together 107 times]   \n",
       "\n",
       "                                                                                                                                                                      sustainability  \\\n",
       "honda                [There are 6638 reviews about specific brands, honda appears 924 times, sustainability appears 1082 times, sustainability and honda appears together 175 times]   \n",
       "toyota             [There are 6638 reviews about specific brands, toyota appears 769 times, sustainability appears 1082 times, sustainability and toyota appears together 162 times]   \n",
       "nissan              [There are 6638 reviews about specific brands, nissan appears 525 times, sustainability appears 1082 times, sustainability and nissan appears together 88 times]   \n",
       "volkswagen  [There are 6638 reviews about specific brands, volkswagen appears 370 times, sustainability appears 1082 times, sustainability and volkswagen appears together 55 times]   \n",
       "chevrolet     [There are 6638 reviews about specific brands, chevrolet appears 337 times, sustainability appears 1082 times, sustainability and chevrolet appears together 69 times]   \n",
       "\n",
       "                                                                                                                                                            size  \\\n",
       "honda                [There are 6638 reviews about specific brands, honda appears 924 times, size appears 1224 times, size and honda appears together 152 times]   \n",
       "toyota             [There are 6638 reviews about specific brands, toyota appears 769 times, size appears 1224 times, size and toyota appears together 134 times]   \n",
       "nissan             [There are 6638 reviews about specific brands, nissan appears 525 times, size appears 1224 times, size and nissan appears together 104 times]   \n",
       "volkswagen  [There are 6638 reviews about specific brands, volkswagen appears 370 times, size appears 1224 times, size and volkswagen appears together 55 times]   \n",
       "chevrolet     [There are 6638 reviews about specific brands, chevrolet appears 337 times, size appears 1224 times, size and chevrolet appears together 87 times]   \n",
       "\n",
       "                                                                                                                                                                   driveability  \\\n",
       "honda                 [There are 6638 reviews about specific brands, honda appears 924 times, driveability appears 905 times, driveability and honda appears together 91 times]   \n",
       "toyota              [There are 6638 reviews about specific brands, toyota appears 769 times, driveability appears 905 times, driveability and toyota appears together 92 times]   \n",
       "nissan              [There are 6638 reviews about specific brands, nissan appears 525 times, driveability appears 905 times, driveability and nissan appears together 61 times]   \n",
       "volkswagen  [There are 6638 reviews about specific brands, volkswagen appears 370 times, driveability appears 905 times, driveability and volkswagen appears together 44 times]   \n",
       "chevrolet     [There are 6638 reviews about specific brands, chevrolet appears 337 times, driveability appears 905 times, driveability and chevrolet appears together 61 times]   \n",
       "\n",
       "                                                                                                                                                             engine  \n",
       "honda                [There are 6638 reviews about specific brands, honda appears 924 times, engine appears 895 times, engine and honda appears together 168 times]  \n",
       "toyota              [There are 6638 reviews about specific brands, toyota appears 769 times, engine appears 895 times, engine and toyota appears together 90 times]  \n",
       "nissan              [There are 6638 reviews about specific brands, nissan appears 525 times, engine appears 895 times, engine and nissan appears together 84 times]  \n",
       "volkswagen  [There are 6638 reviews about specific brands, volkswagen appears 370 times, engine appears 895 times, engine and volkswagen appears together 58 times]  \n",
       "chevrolet     [There are 6638 reviews about specific brands, chevrolet appears 337 times, engine appears 895 times, engine and chevrolet appears together 69 times]  "
      ]
     },
     "execution_count": 73,
     "metadata": {},
     "output_type": "execute_result"
    }
   ],
   "source": [
    "df_lift_1st_counts"
   ]
  },
  {
   "cell_type": "code",
   "execution_count": 74,
   "id": "dfe2ef0c",
   "metadata": {},
   "outputs": [],
   "source": [
    "#Getting lift for brand_reviews_2nd_mapped\n",
    "for brand in top_brands:\n",
    "    for attribute in top_attributes:\n",
    "        df_lift_2nd_mapped.loc[brand, attribute], df_lift_2nd_counts.loc[brand, attribute] = calculate_lift_split(brand, attribute, brand_reviews_2nd_mapped)"
   ]
  },
  {
   "cell_type": "code",
   "execution_count": 75,
   "id": "d4650017",
   "metadata": {},
   "outputs": [
    {
     "data": {
      "text/html": [
       "<div>\n",
       "<style scoped>\n",
       "    .dataframe tbody tr th:only-of-type {\n",
       "        vertical-align: middle;\n",
       "    }\n",
       "\n",
       "    .dataframe tbody tr th {\n",
       "        vertical-align: top;\n",
       "    }\n",
       "\n",
       "    .dataframe thead th {\n",
       "        text-align: right;\n",
       "    }\n",
       "</style>\n",
       "<table border=\"1\" class=\"dataframe\">\n",
       "  <thead>\n",
       "    <tr style=\"text-align: right;\">\n",
       "      <th></th>\n",
       "      <th>affordability</th>\n",
       "      <th>sustainability</th>\n",
       "      <th>size</th>\n",
       "      <th>driveability</th>\n",
       "      <th>engine</th>\n",
       "    </tr>\n",
       "  </thead>\n",
       "  <tbody>\n",
       "    <tr>\n",
       "      <th>honda</th>\n",
       "      <td>3.393331</td>\n",
       "      <td>4.930184</td>\n",
       "      <td>2.563299</td>\n",
       "      <td>2.781883</td>\n",
       "      <td>3.570737</td>\n",
       "    </tr>\n",
       "    <tr>\n",
       "      <th>toyota</th>\n",
       "      <td>2.87733</td>\n",
       "      <td>5.483852</td>\n",
       "      <td>2.715227</td>\n",
       "      <td>3.379332</td>\n",
       "      <td>2.298459</td>\n",
       "    </tr>\n",
       "    <tr>\n",
       "      <th>nissan</th>\n",
       "      <td>3.383022</td>\n",
       "      <td>4.363354</td>\n",
       "      <td>3.086752</td>\n",
       "      <td>3.28201</td>\n",
       "      <td>3.142249</td>\n",
       "    </tr>\n",
       "    <tr>\n",
       "      <th>volkswagen</th>\n",
       "      <td>3.405753</td>\n",
       "      <td>3.869528</td>\n",
       "      <td>2.316267</td>\n",
       "      <td>3.35908</td>\n",
       "      <td>3.078554</td>\n",
       "    </tr>\n",
       "    <tr>\n",
       "      <th>chevrolet</th>\n",
       "      <td>3.150395</td>\n",
       "      <td>5.329866</td>\n",
       "      <td>4.022694</td>\n",
       "      <td>5.112924</td>\n",
       "      <td>4.021052</td>\n",
       "    </tr>\n",
       "  </tbody>\n",
       "</table>\n",
       "</div>"
      ],
      "text/plain": [
       "           affordability sustainability      size driveability    engine\n",
       "honda           3.393331       4.930184  2.563299     2.781883  3.570737\n",
       "toyota           2.87733       5.483852  2.715227     3.379332  2.298459\n",
       "nissan          3.383022       4.363354  3.086752      3.28201  3.142249\n",
       "volkswagen      3.405753       3.869528  2.316267      3.35908  3.078554\n",
       "chevrolet       3.150395       5.329866  4.022694     5.112924  4.021052"
      ]
     },
     "execution_count": 75,
     "metadata": {},
     "output_type": "execute_result"
    }
   ],
   "source": [
    "df_lift_2nd_mapped"
   ]
  },
  {
   "cell_type": "code",
   "execution_count": 76,
   "id": "59b1752b",
   "metadata": {
    "scrolled": true
   },
   "outputs": [
    {
     "data": {
      "text/html": [
       "<div>\n",
       "<style scoped>\n",
       "    .dataframe tbody tr th:only-of-type {\n",
       "        vertical-align: middle;\n",
       "    }\n",
       "\n",
       "    .dataframe tbody tr th {\n",
       "        vertical-align: top;\n",
       "    }\n",
       "\n",
       "    .dataframe thead th {\n",
       "        text-align: right;\n",
       "    }\n",
       "</style>\n",
       "<table border=\"1\" class=\"dataframe\">\n",
       "  <thead>\n",
       "    <tr style=\"text-align: right;\">\n",
       "      <th></th>\n",
       "      <th>affordability</th>\n",
       "      <th>sustainability</th>\n",
       "      <th>size</th>\n",
       "      <th>driveability</th>\n",
       "      <th>engine</th>\n",
       "    </tr>\n",
       "  </thead>\n",
       "  <tbody>\n",
       "    <tr>\n",
       "      <th>honda</th>\n",
       "      <td>[There are 6638 reviews about specific brands, honda appears 924 times, affordability appears 669 times, affordability and honda appears together 316 times]</td>\n",
       "      <td>[There are 6638 reviews about specific brands, honda appears 924 times, sustainability appears 255 times, sustainability and honda appears together 175 times]</td>\n",
       "      <td>[There are 6638 reviews about specific brands, honda appears 924 times, size appears 426 times, size and honda appears together 152 times]</td>\n",
       "      <td>[There are 6638 reviews about specific brands, honda appears 924 times, driveability appears 235 times, driveability and honda appears together 91 times]</td>\n",
       "      <td>[There are 6638 reviews about specific brands, honda appears 924 times, engine appears 338 times, engine and honda appears together 168 times]</td>\n",
       "    </tr>\n",
       "    <tr>\n",
       "      <th>toyota</th>\n",
       "      <td>[There are 6638 reviews about specific brands, toyota appears 769 times, affordability appears 669 times, affordability and toyota appears together 223 times]</td>\n",
       "      <td>[There are 6638 reviews about specific brands, toyota appears 769 times, sustainability appears 255 times, sustainability and toyota appears together 162 times]</td>\n",
       "      <td>[There are 6638 reviews about specific brands, toyota appears 769 times, size appears 426 times, size and toyota appears together 134 times]</td>\n",
       "      <td>[There are 6638 reviews about specific brands, toyota appears 769 times, driveability appears 235 times, driveability and toyota appears together 92 times]</td>\n",
       "      <td>[There are 6638 reviews about specific brands, toyota appears 769 times, engine appears 338 times, engine and toyota appears together 90 times]</td>\n",
       "    </tr>\n",
       "    <tr>\n",
       "      <th>nissan</th>\n",
       "      <td>[There are 6638 reviews about specific brands, nissan appears 525 times, affordability appears 669 times, affordability and nissan appears together 179 times]</td>\n",
       "      <td>[There are 6638 reviews about specific brands, nissan appears 525 times, sustainability appears 255 times, sustainability and nissan appears together 88 times]</td>\n",
       "      <td>[There are 6638 reviews about specific brands, nissan appears 525 times, size appears 426 times, size and nissan appears together 104 times]</td>\n",
       "      <td>[There are 6638 reviews about specific brands, nissan appears 525 times, driveability appears 235 times, driveability and nissan appears together 61 times]</td>\n",
       "      <td>[There are 6638 reviews about specific brands, nissan appears 525 times, engine appears 338 times, engine and nissan appears together 84 times]</td>\n",
       "    </tr>\n",
       "    <tr>\n",
       "      <th>volkswagen</th>\n",
       "      <td>[There are 6638 reviews about specific brands, volkswagen appears 370 times, affordability appears 669 times, affordability and volkswagen appears together 127 times]</td>\n",
       "      <td>[There are 6638 reviews about specific brands, volkswagen appears 370 times, sustainability appears 255 times, sustainability and volkswagen appears together 55 times]</td>\n",
       "      <td>[There are 6638 reviews about specific brands, volkswagen appears 370 times, size appears 426 times, size and volkswagen appears together 55 times]</td>\n",
       "      <td>[There are 6638 reviews about specific brands, volkswagen appears 370 times, driveability appears 235 times, driveability and volkswagen appears together 44 times]</td>\n",
       "      <td>[There are 6638 reviews about specific brands, volkswagen appears 370 times, engine appears 338 times, engine and volkswagen appears together 58 times]</td>\n",
       "    </tr>\n",
       "    <tr>\n",
       "      <th>chevrolet</th>\n",
       "      <td>[There are 6638 reviews about specific brands, chevrolet appears 337 times, affordability appears 669 times, affordability and chevrolet appears together 107 times]</td>\n",
       "      <td>[There are 6638 reviews about specific brands, chevrolet appears 337 times, sustainability appears 255 times, sustainability and chevrolet appears together 69 times]</td>\n",
       "      <td>[There are 6638 reviews about specific brands, chevrolet appears 337 times, size appears 426 times, size and chevrolet appears together 87 times]</td>\n",
       "      <td>[There are 6638 reviews about specific brands, chevrolet appears 337 times, driveability appears 235 times, driveability and chevrolet appears together 61 times]</td>\n",
       "      <td>[There are 6638 reviews about specific brands, chevrolet appears 337 times, engine appears 338 times, engine and chevrolet appears together 69 times]</td>\n",
       "    </tr>\n",
       "  </tbody>\n",
       "</table>\n",
       "</div>"
      ],
      "text/plain": [
       "                                                                                                                                                                     affordability  \\\n",
       "honda                 [There are 6638 reviews about specific brands, honda appears 924 times, affordability appears 669 times, affordability and honda appears together 316 times]   \n",
       "toyota              [There are 6638 reviews about specific brands, toyota appears 769 times, affordability appears 669 times, affordability and toyota appears together 223 times]   \n",
       "nissan              [There are 6638 reviews about specific brands, nissan appears 525 times, affordability appears 669 times, affordability and nissan appears together 179 times]   \n",
       "volkswagen  [There are 6638 reviews about specific brands, volkswagen appears 370 times, affordability appears 669 times, affordability and volkswagen appears together 127 times]   \n",
       "chevrolet     [There are 6638 reviews about specific brands, chevrolet appears 337 times, affordability appears 669 times, affordability and chevrolet appears together 107 times]   \n",
       "\n",
       "                                                                                                                                                                     sustainability  \\\n",
       "honda                [There are 6638 reviews about specific brands, honda appears 924 times, sustainability appears 255 times, sustainability and honda appears together 175 times]   \n",
       "toyota             [There are 6638 reviews about specific brands, toyota appears 769 times, sustainability appears 255 times, sustainability and toyota appears together 162 times]   \n",
       "nissan              [There are 6638 reviews about specific brands, nissan appears 525 times, sustainability appears 255 times, sustainability and nissan appears together 88 times]   \n",
       "volkswagen  [There are 6638 reviews about specific brands, volkswagen appears 370 times, sustainability appears 255 times, sustainability and volkswagen appears together 55 times]   \n",
       "chevrolet     [There are 6638 reviews about specific brands, chevrolet appears 337 times, sustainability appears 255 times, sustainability and chevrolet appears together 69 times]   \n",
       "\n",
       "                                                                                                                                                           size  \\\n",
       "honda                [There are 6638 reviews about specific brands, honda appears 924 times, size appears 426 times, size and honda appears together 152 times]   \n",
       "toyota             [There are 6638 reviews about specific brands, toyota appears 769 times, size appears 426 times, size and toyota appears together 134 times]   \n",
       "nissan             [There are 6638 reviews about specific brands, nissan appears 525 times, size appears 426 times, size and nissan appears together 104 times]   \n",
       "volkswagen  [There are 6638 reviews about specific brands, volkswagen appears 370 times, size appears 426 times, size and volkswagen appears together 55 times]   \n",
       "chevrolet     [There are 6638 reviews about specific brands, chevrolet appears 337 times, size appears 426 times, size and chevrolet appears together 87 times]   \n",
       "\n",
       "                                                                                                                                                                   driveability  \\\n",
       "honda                 [There are 6638 reviews about specific brands, honda appears 924 times, driveability appears 235 times, driveability and honda appears together 91 times]   \n",
       "toyota              [There are 6638 reviews about specific brands, toyota appears 769 times, driveability appears 235 times, driveability and toyota appears together 92 times]   \n",
       "nissan              [There are 6638 reviews about specific brands, nissan appears 525 times, driveability appears 235 times, driveability and nissan appears together 61 times]   \n",
       "volkswagen  [There are 6638 reviews about specific brands, volkswagen appears 370 times, driveability appears 235 times, driveability and volkswagen appears together 44 times]   \n",
       "chevrolet     [There are 6638 reviews about specific brands, chevrolet appears 337 times, driveability appears 235 times, driveability and chevrolet appears together 61 times]   \n",
       "\n",
       "                                                                                                                                                             engine  \n",
       "honda                [There are 6638 reviews about specific brands, honda appears 924 times, engine appears 338 times, engine and honda appears together 168 times]  \n",
       "toyota              [There are 6638 reviews about specific brands, toyota appears 769 times, engine appears 338 times, engine and toyota appears together 90 times]  \n",
       "nissan              [There are 6638 reviews about specific brands, nissan appears 525 times, engine appears 338 times, engine and nissan appears together 84 times]  \n",
       "volkswagen  [There are 6638 reviews about specific brands, volkswagen appears 370 times, engine appears 338 times, engine and volkswagen appears together 58 times]  \n",
       "chevrolet     [There are 6638 reviews about specific brands, chevrolet appears 337 times, engine appears 338 times, engine and chevrolet appears together 69 times]  "
      ]
     },
     "execution_count": 76,
     "metadata": {},
     "output_type": "execute_result"
    }
   ],
   "source": [
    "df_lift_2nd_counts"
   ]
  }
 ],
 "metadata": {
  "kernelspec": {
   "display_name": "Python 3 (ipykernel)",
   "language": "python",
   "name": "python3"
  },
  "language_info": {
   "codemirror_mode": {
    "name": "ipython",
    "version": 3
   },
   "file_extension": ".py",
   "mimetype": "text/x-python",
   "name": "python",
   "nbconvert_exporter": "python",
   "pygments_lexer": "ipython3",
   "version": "3.8.12"
  }
 },
 "nbformat": 4,
 "nbformat_minor": 5
}

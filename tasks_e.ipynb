{
 "cells": [
  {
   "cell_type": "code",
   "execution_count": 1,
   "id": "c989c871",
   "metadata": {},
   "outputs": [],
   "source": [
    "import pandas as pd\n",
    "pd.set_option('display.max_colwidth', None) # to read records completely\n",
    "import pickle\n",
    "import numpy as np\n",
    "import itertools\n",
    "from nltk.stem import PorterStemmer\n",
    "from sklearn.feature_extraction.text import TfidfVectorizer\n",
    "import pickle"
   ]
  },
  {
   "cell_type": "markdown",
   "id": "3ea2bacb",
   "metadata": {},
   "source": [
    "## Data Prep"
   ]
  },
  {
   "cell_type": "code",
   "execution_count": 34,
   "id": "f257edd8",
   "metadata": {},
   "outputs": [],
   "source": [
    "# Importing the data scraped and pre-processed in part A\n",
    "df = pd.read_pickle('data_clean.pkl')"
   ]
  },
  {
   "cell_type": "code",
   "execution_count": 35,
   "id": "cb56a862",
   "metadata": {},
   "outputs": [],
   "source": [
    "models = pd.read_csv('models.csv', header=None, names = ['brand', 'model'])\n",
    "models['brand'] = models['brand'].str.replace(r'[^\\w\\s]+', '', regex=True) # clean some punctuation errors (nissan.)\n",
    "models = models[~models.brand.isin(['car', 'sedan', 'problem'])] # remove rows that are not brands"
   ]
  },
  {
   "cell_type": "code",
   "execution_count": 36,
   "id": "1fdbb411",
   "metadata": {},
   "outputs": [
    {
     "data": {
      "text/plain": [
       "370"
      ]
     },
     "execution_count": 36,
     "metadata": {},
     "output_type": "execute_result"
    }
   ],
   "source": [
    "df.Message.str.contains('said').sum()"
   ]
  },
  {
   "cell_type": "code",
   "execution_count": 37,
   "id": "42bbabb4",
   "metadata": {},
   "outputs": [],
   "source": [
    "#.lower() on all words\n",
    "df.Message_words = df.Message_words.apply(lambda x: [i.lower() for i in x])"
   ]
  },
  {
   "cell_type": "markdown",
   "id": "55647a2e",
   "metadata": {},
   "source": [
    "## Replace models with brands"
   ]
  },
  {
   "cell_type": "code",
   "execution_count": 38,
   "id": "3e694074",
   "metadata": {},
   "outputs": [],
   "source": [
    "messages = df.Message_words.to_list()"
   ]
  },
  {
   "cell_type": "code",
   "execution_count": 39,
   "id": "4af99d2c",
   "metadata": {},
   "outputs": [],
   "source": [
    "# numpy.where to do the replacement. Replaces only first appearance of brand.\n",
    "# ~ 5-10 minutes of execute\n",
    "messages2 = []\n",
    "t = 0\n",
    "for m in messages:\n",
    "    for i,row in models.iterrows():\n",
    "        m = np.where(m == row['model'], row['brand'], m)\n",
    "        \n",
    "    t+=1\n",
    "    \n",
    "    #print(t)\n",
    "        \n",
    "    messages2.append(m)\n",
    "        \n",
    "df['Message_words_v2'] = messages2"
   ]
  },
  {
   "cell_type": "code",
   "execution_count": 40,
   "id": "7f26cc84",
   "metadata": {},
   "outputs": [],
   "source": [
    "# let's find the occurences of changes\n",
    "m1 = df.Message_words.to_list()\n",
    "m2 = df.Message_words_v2.to_list()\n",
    "\n",
    "c = 0\n",
    "W = 0\n",
    "for i in range(len(m2)):\n",
    "    for j in range(len(m2[i])):\n",
    "        if m1[i][j] != m2[i][j]: #word by word comparison\n",
    "            c +=1\n",
    "        W += 1 # if we want to count all words"
   ]
  },
  {
   "cell_type": "code",
   "execution_count": 41,
   "id": "24c73596",
   "metadata": {},
   "outputs": [
    {
     "name": "stdout",
     "output_type": "stream",
     "text": [
      "6368 changes of models\n"
     ]
    }
   ],
   "source": [
    "print(f'{c} changes of models')"
   ]
  },
  {
   "cell_type": "code",
   "execution_count": 42,
   "id": "fca77850",
   "metadata": {
    "scrolled": false
   },
   "outputs": [
    {
     "data": {
      "text/html": [
       "<div>\n",
       "<style scoped>\n",
       "    .dataframe tbody tr th:only-of-type {\n",
       "        vertical-align: middle;\n",
       "    }\n",
       "\n",
       "    .dataframe tbody tr th {\n",
       "        vertical-align: top;\n",
       "    }\n",
       "\n",
       "    .dataframe thead th {\n",
       "        text-align: right;\n",
       "    }\n",
       "</style>\n",
       "<table border=\"1\" class=\"dataframe\">\n",
       "  <thead>\n",
       "    <tr style=\"text-align: right;\">\n",
       "      <th></th>\n",
       "      <th>Message_words</th>\n",
       "      <th>Message_words_v2</th>\n",
       "    </tr>\n",
       "  </thead>\n",
       "  <tbody>\n",
       "    <tr>\n",
       "      <th>0</th>\n",
       "      <td>[need, help, choosing, next, vehicle, tell, us, price, range, thinking, new, used, buying, leasing, features, musthaves, thoughts, mind, let, us, give, hand, tell, us, criteria, specifically, canyoull, find, lots, helpful, folks, give, useful, suggestions]</td>\n",
       "      <td>[need, help, choosing, next, vehicle, tell, us, price, range, thinking, new, used, buying, leasing, features, musthaves, thoughts, mind, let, us, give, hand, tell, us, criteria, specifically, canyoull, find, lots, helpful, folks, give, useful, suggestions]</td>\n",
       "    </tr>\n",
       "    <tr>\n",
       "      <th>1</th>\n",
       "      <td>[im, buying, new, car, end, year, first, choice, nissan, maxima, ive, read, reliable, hold, value, well, budget, probably, going, allow, 9899, wondering, worth, buying, car, thats, almost, 34, years, old, suggestions, comments, would, help, lotwillow25]</td>\n",
       "      <td>[im, buying, new, car, end, year, first, choice, nissan, nissan, ive, read, reliable, hold, value, well, budget, probably, going, allow, 9899, wondering, worth, buying, car, thats, almost, 34, years, old, suggestions, comments, would, help, lotwillow25]</td>\n",
       "    </tr>\n",
       "    <tr>\n",
       "      <th>2</th>\n",
       "      <td>[buy, 2001, 2002, oldsmobile, intrigue, one, best, sedans, market, great, handling, one, best, v6, engines, around, 35l, dohc, producing, 215hp, deals, great, year, last, intrigue, warrany, extended, 5, years, car, recommended, magazines, including, consumer, reports, unfortunately, looked, consumers, sleeper, sleepers, market, opinion]</td>\n",
       "      <td>[buy, 2001, 2002, oldsmobile, intrigue, one, best, sedans, market, great, handling, one, best, v6, engines, around, 35l, dohc, producing, 215hp, deals, great, year, last, intrigue, warrany, extended, 5, years, car, recommended, magazines, including, consumer, reports, unfortunately, looked, consumers, sleeper, sleepers, market, opinion]</td>\n",
       "    </tr>\n",
       "    <tr>\n",
       "      <th>3</th>\n",
       "      <td>[looking, 1, 4, choices, replace, 99gs400, ive, read, everything, forums, seen, much, conflicting, info4, optionslexus, ls430, customluxury, packageinfiniti, q45, premium, pckgaudi, a6, 42, loaded, audi, a8, stripped, loadedchicago, wintershad, blizzaks, gsworked, fine, 95q, pig, snow, im, sure, 2002q, world, away, ive, heard, audi, qc, problems, like, maintenance, included, im, happy, lexus, driver, q, appears, offer, lease, economy, would, think, could, command, attractive, package, go, wrong, 4, missing, something]</td>\n",
       "      <td>[looking, 1, 4, choices, replace, 99gs400, ive, read, everything, forums, seen, much, conflicting, info4, optionslexus, ls430, customluxury, packageinfiniti, q45, premium, pckgaudi, audi, 42, loaded, audi, audi, stripped, loadedchicago, wintershad, blizzaks, gsworked, fine, 95q, pig, snow, im, sure, 2002q, world, away, ive, heard, audi, qc, problems, like, maintenance, included, im, happy, lexus, driver, q, appears, offer, lease, economy, would, think, could, command, attractive, package, go, wrong, 4, missing, something]</td>\n",
       "    </tr>\n",
       "    <tr>\n",
       "      <th>4</th>\n",
       "      <td>[generally, 34, year, old, car, range, good, one, basically, sound, possible, get, one, still, warrenty, make, sure, trusted, maxima, mechanic, goes, thoroughly, v6, one, best, rated, 10, years, personally, amazed, great, strides, american, quality, recently, olds, may, bad, idea]</td>\n",
       "      <td>[generally, 34, year, old, car, range, good, one, basically, sound, possible, get, one, still, warrenty, make, sure, trusted, nissan, mechanic, goes, thoroughly, v6, one, best, rated, 10, years, personally, amazed, great, strides, american, quality, recently, olds, may, bad, idea]</td>\n",
       "    </tr>\n",
       "    <tr>\n",
       "      <th>5</th>\n",
       "      <td>[maxima, intrigue, excellent, choices, midsize, sedans]</td>\n",
       "      <td>[nissan, intrigue, excellent, choices, midsize, sedans]</td>\n",
       "    </tr>\n",
       "    <tr>\n",
       "      <th>6</th>\n",
       "      <td>[kind, budget, would, go, a6, 42, best, combination, sport, luxury, amongst, 4, choices]</td>\n",
       "      <td>[kind, budget, would, go, audi, 42, best, combination, sport, luxury, amongst, 4, choices]</td>\n",
       "    </tr>\n",
       "    <tr>\n",
       "      <th>7</th>\n",
       "      <td>[actually, agree, a6, looked, specs, edmunds, a6, a8, 4000, lbs, considering, a8, gets, bump, hp, a6, dont, think, performance, difference, issue, considering, fact, a6, would, possibly, small, based, rest, list, say, go, a8, think, youll, find, awd, best, addition, car, could, ever, hoped]</td>\n",
       "      <td>[actually, agree, audi, looked, specs, edmunds, audi, audi, 4000, lbs, considering, audi, gets, bump, hp, audi, dont, think, performance, difference, issue, considering, fact, audi, would, possibly, small, based, rest, list, say, go, audi, think, youll, find, awd, best, addition, car, could, ever, hoped]</td>\n",
       "    </tr>\n",
       "    <tr>\n",
       "      <th>8</th>\n",
       "      <td>[id, pass, intrigue, one, reason, crash, test, results, terrible]</td>\n",
       "      <td>[id, pass, intrigue, one, reason, crash, test, results, terrible]</td>\n",
       "    </tr>\n",
       "    <tr>\n",
       "      <th>9</th>\n",
       "      <td>[would, recommend, honda, accord, toyota, camry, choices, sedan, new, nissan, altima, looks, impressive, would, wait, reliability, 2002, proventhe, new, bmw, 525, another, nice, car, rated, highly, many, auto, publications]</td>\n",
       "      <td>[would, recommend, honda, honda, toyota, toyota, choices, sedan, new, nissan, nissan, looks, impressive, would, wait, reliability, 2002, proventhe, new, bmw, 525, another, nice, car, rated, highly, many, auto, publications]</td>\n",
       "    </tr>\n",
       "  </tbody>\n",
       "</table>\n",
       "</div>"
      ],
      "text/plain": [
       "                                                                                                                                                                                                                                                                                                                                                                                                                                                                                                                                 Message_words  \\\n",
       "0                                                                                                                                                                                                                                                                             [need, help, choosing, next, vehicle, tell, us, price, range, thinking, new, used, buying, leasing, features, musthaves, thoughts, mind, let, us, give, hand, tell, us, criteria, specifically, canyoull, find, lots, helpful, folks, give, useful, suggestions]   \n",
       "1                                                                                                                                                                                                                                                                                [im, buying, new, car, end, year, first, choice, nissan, maxima, ive, read, reliable, hold, value, well, budget, probably, going, allow, 9899, wondering, worth, buying, car, thats, almost, 34, years, old, suggestions, comments, would, help, lotwillow25]   \n",
       "2                                                                                                                                                                                           [buy, 2001, 2002, oldsmobile, intrigue, one, best, sedans, market, great, handling, one, best, v6, engines, around, 35l, dohc, producing, 215hp, deals, great, year, last, intrigue, warrany, extended, 5, years, car, recommended, magazines, including, consumer, reports, unfortunately, looked, consumers, sleeper, sleepers, market, opinion]   \n",
       "3  [looking, 1, 4, choices, replace, 99gs400, ive, read, everything, forums, seen, much, conflicting, info4, optionslexus, ls430, customluxury, packageinfiniti, q45, premium, pckgaudi, a6, 42, loaded, audi, a8, stripped, loadedchicago, wintershad, blizzaks, gsworked, fine, 95q, pig, snow, im, sure, 2002q, world, away, ive, heard, audi, qc, problems, like, maintenance, included, im, happy, lexus, driver, q, appears, offer, lease, economy, would, think, could, command, attractive, package, go, wrong, 4, missing, something]   \n",
       "4                                                                                                                                                                                                                                                    [generally, 34, year, old, car, range, good, one, basically, sound, possible, get, one, still, warrenty, make, sure, trusted, maxima, mechanic, goes, thoroughly, v6, one, best, rated, 10, years, personally, amazed, great, strides, american, quality, recently, olds, may, bad, idea]   \n",
       "5                                                                                                                                                                                                                                                                                                                                                                                                                                                                                      [maxima, intrigue, excellent, choices, midsize, sedans]   \n",
       "6                                                                                                                                                                                                                                                                                                                                                                                                                                                     [kind, budget, would, go, a6, 42, best, combination, sport, luxury, amongst, 4, choices]   \n",
       "7                                                                                                                                                                                                                                          [actually, agree, a6, looked, specs, edmunds, a6, a8, 4000, lbs, considering, a8, gets, bump, hp, a6, dont, think, performance, difference, issue, considering, fact, a6, would, possibly, small, based, rest, list, say, go, a8, think, youll, find, awd, best, addition, car, could, ever, hoped]   \n",
       "8                                                                                                                                                                                                                                                                                                                                                                                                                                                                            [id, pass, intrigue, one, reason, crash, test, results, terrible]   \n",
       "9                                                                                                                                                                                                                                                                                                              [would, recommend, honda, accord, toyota, camry, choices, sedan, new, nissan, altima, looks, impressive, would, wait, reliability, 2002, proventhe, new, bmw, 525, another, nice, car, rated, highly, many, auto, publications]   \n",
       "\n",
       "                                                                                                                                                                                                                                                                                                                                                                                                                                                                                                                                  Message_words_v2  \n",
       "0                                                                                                                                                                                                                                                                                 [need, help, choosing, next, vehicle, tell, us, price, range, thinking, new, used, buying, leasing, features, musthaves, thoughts, mind, let, us, give, hand, tell, us, criteria, specifically, canyoull, find, lots, helpful, folks, give, useful, suggestions]  \n",
       "1                                                                                                                                                                                                                                                                                    [im, buying, new, car, end, year, first, choice, nissan, nissan, ive, read, reliable, hold, value, well, budget, probably, going, allow, 9899, wondering, worth, buying, car, thats, almost, 34, years, old, suggestions, comments, would, help, lotwillow25]  \n",
       "2                                                                                                                                                                                               [buy, 2001, 2002, oldsmobile, intrigue, one, best, sedans, market, great, handling, one, best, v6, engines, around, 35l, dohc, producing, 215hp, deals, great, year, last, intrigue, warrany, extended, 5, years, car, recommended, magazines, including, consumer, reports, unfortunately, looked, consumers, sleeper, sleepers, market, opinion]  \n",
       "3  [looking, 1, 4, choices, replace, 99gs400, ive, read, everything, forums, seen, much, conflicting, info4, optionslexus, ls430, customluxury, packageinfiniti, q45, premium, pckgaudi, audi, 42, loaded, audi, audi, stripped, loadedchicago, wintershad, blizzaks, gsworked, fine, 95q, pig, snow, im, sure, 2002q, world, away, ive, heard, audi, qc, problems, like, maintenance, included, im, happy, lexus, driver, q, appears, offer, lease, economy, would, think, could, command, attractive, package, go, wrong, 4, missing, something]  \n",
       "4                                                                                                                                                                                                                                                        [generally, 34, year, old, car, range, good, one, basically, sound, possible, get, one, still, warrenty, make, sure, trusted, nissan, mechanic, goes, thoroughly, v6, one, best, rated, 10, years, personally, amazed, great, strides, american, quality, recently, olds, may, bad, idea]  \n",
       "5                                                                                                                                                                                                                                                                                                                                                                                                                                                                                          [nissan, intrigue, excellent, choices, midsize, sedans]  \n",
       "6                                                                                                                                                                                                                                                                                                                                                                                                                                                       [kind, budget, would, go, audi, 42, best, combination, sport, luxury, amongst, 4, choices]  \n",
       "7                                                                                                                                                                                                                                [actually, agree, audi, looked, specs, edmunds, audi, audi, 4000, lbs, considering, audi, gets, bump, hp, audi, dont, think, performance, difference, issue, considering, fact, audi, would, possibly, small, based, rest, list, say, go, audi, think, youll, find, awd, best, addition, car, could, ever, hoped]  \n",
       "8                                                                                                                                                                                                                                                                                                                                                                                                                                                                                [id, pass, intrigue, one, reason, crash, test, results, terrible]  \n",
       "9                                                                                                                                                                                                                                                                                                                  [would, recommend, honda, honda, toyota, toyota, choices, sedan, new, nissan, nissan, looks, impressive, would, wait, reliability, 2002, proventhe, new, bmw, 525, another, nice, car, rated, highly, many, auto, publications]  "
      ]
     },
     "execution_count": 42,
     "metadata": {},
     "output_type": "execute_result"
    }
   ],
   "source": [
    "df[['Message_words', 'Message_words_v2']].head(10)"
   ]
  },
  {
   "cell_type": "code",
   "execution_count": 43,
   "id": "599e9a7a",
   "metadata": {},
   "outputs": [],
   "source": [
    "#Now we have cases where the text says \"nissan\", \"nissan\" because we replaced the model. Let's clean that\n",
    "#Removing duplicates in lists while keeping order\n",
    "def remove_consecutive_duplicate (text): #removes consecutive duplicates\n",
    "    return np.array([i for i, j in itertools.groupby(text)])\n",
    "\n",
    "df[\"Message_words_v3\"] = df[\"Message_words_v2\"].apply(remove_consecutive_duplicate)"
   ]
  },
  {
   "cell_type": "markdown",
   "id": "84b033a2",
   "metadata": {},
   "source": [
    "## Link attributes to models"
   ]
  },
  {
   "cell_type": "code",
   "execution_count": 44,
   "id": "cf3cfdd7",
   "metadata": {},
   "outputs": [],
   "source": [
    "# first lets count brand mentions in each record\n",
    "#Get a unique list of brands\n",
    "brands_list = models.brand.drop_duplicates().to_list()\n",
    "\n",
    "brands_list.extend(['lexus', 'ferrari', 'merzedesbenz', 'tesla','gm', 'peugeot', 'jeep', 'bentley', 'fiat'])"
   ]
  },
  {
   "cell_type": "code",
   "execution_count": 45,
   "id": "f592bf42",
   "metadata": {},
   "outputs": [
    {
     "name": "stderr",
     "output_type": "stream",
     "text": [
      "<ipython-input-45-65a4ebb10c87>:9: FutureWarning: elementwise comparison failed; returning scalar instead, but in the future will perform elementwise comparison\n",
      "  if len(np.where(m == brand)[0]) >0:\n"
     ]
    }
   ],
   "source": [
    "messages = df.Message_words_v3.to_list()\n",
    "\n",
    "#Get a nested list of brands mentioned in reviews\n",
    "brands_in_message = []\n",
    "for m in messages:\n",
    "    \n",
    "    brands_mentioned = []\n",
    "    for brand in brands_list:\n",
    "        if len(np.where(m == brand)[0]) >0:\n",
    "            brands_mentioned.append(brand)\n",
    "            \n",
    "    brands_in_message.append(brands_mentioned)\n",
    "        \n",
    "    "
   ]
  },
  {
   "cell_type": "code",
   "execution_count": 46,
   "id": "9d8e17f7",
   "metadata": {},
   "outputs": [
    {
     "data": {
      "text/plain": [
       "0     1244\n",
       "1     1175\n",
       "2      774\n",
       "3      464\n",
       "4      235\n",
       "5      120\n",
       "6       74\n",
       "7       31\n",
       "8       17\n",
       "10       7\n",
       "11       3\n",
       "12       3\n",
       "9        2\n",
       "16       1\n",
       "13       1\n",
       "Name: Qty_brands, dtype: int64"
      ]
     },
     "execution_count": 46,
     "metadata": {},
     "output_type": "execute_result"
    }
   ],
   "source": [
    "df['Brands_in_message'] = brands_in_message\n",
    "df['Qty_brands'] = df.Brands_in_message.apply(lambda x: len(x))\n",
    "df['Qty_brands'].value_counts()\n",
    "\n",
    "# 1291 messages don't mention any brand (remove them from analysis?)\n",
    "# Most messages discuss a single brand\n",
    "# Also common to compare 2 brands"
   ]
  },
  {
   "cell_type": "code",
   "execution_count": 47,
   "id": "49bfea68",
   "metadata": {},
   "outputs": [
    {
     "data": {
      "text/plain": [
       "0                                                                                       [need, help, choosing, next, vehicle, tell, us, price, range, thinking, new, used, buying, leasing, features, musthaves, thoughts, mind, let, us, give, hand, tell, us, criteria, specifically, canyoull, find, lots, helpful, folks, give, useful, suggestions]\n",
       "2     [buy, 2001, 2002, oldsmobile, intrigue, one, best, sedans, market, great, handling, one, best, v6, engines, around, 35l, dohc, producing, 215hp, deals, great, year, last, intrigue, warrany, extended, 5, years, car, recommended, magazines, including, consumer, reports, unfortunately, looked, consumers, sleeper, sleepers, market, opinion]\n",
       "8                                                                                                                                                                                                                                                                                      [id, pass, intrigue, one, reason, crash, test, results, terrible]\n",
       "10                                                                                                                         [way, figure, car, like, test, drive, theres, reason, test, drive, every, car, market, dont, test, drive, one, car, say, oh, like, cause, dont, test, drive, best, cars, price, range, even, helps, well, dont, reference, p]\n",
       "14                                                                                                                                                                                                                                                                                              [go, s6, avant, think, great, car, ready, switch, wagon]\n",
       "16                                                                                                                                                                                                                                                                                 [topic, way, broad, people, different, price, points, vehicle, types]\n",
       "17                                                                                                                                                                         [well, considering, 17th, message, last, 2, weeks, id, say, breaking, topic, would, downright, silly, wouldnt, worry, diversity, starts, getting, hand, manageable, far, see]\n",
       "18                                                                [well, obviously, gotta, get, youll, happy, cant, fight, urges, certainly, know, thatpersonally, sheer, power, performance, s6, would, make, overlook, fact, wagon, conscience, would, keep, awake, night, chose, slower, sedan, thats, bothers, stay, clear, happy, choicegood, luck]\n",
       "21                                                                                                                                                                                                                                                                                                                                                    []\n",
       "22                                                                                                                                                                                                                   [yesbut, get, iti, suggest, keeping, long, matters, sell, rolls, orwhen, old, doubt, reliabilityit, make, great, hobbyweekend, car]\n",
       "Name: Message_words_v3, dtype: object"
      ]
     },
     "execution_count": 47,
     "metadata": {},
     "output_type": "execute_result"
    }
   ],
   "source": [
    "df.loc[df.Qty_brands == 0, 'Message_words_v3'].head(10) # to review records with no brand mentions\n",
    "# most of them are for seeking advice"
   ]
  },
  {
   "cell_type": "markdown",
   "id": "a6cc530b",
   "metadata": {},
   "source": [
    "We can assign attributes mentioned in the reviews, like the power of a car, to a specific brand. For example, in the sentence \"I like the BMW for its power. On the other hand, the Honda is reliable\" we would want to assign the the attribute \"power\" to \"BMW\" and \"reliable\" to \"Honda\". We have created functions for two different approaches:\n",
    "1) assign all words found between 1st brand mention and next brand mention to 1st brand\n",
    "\n",
    "2) assign n words to each side of the brand mention to the brand. We found n = 4 to work best. "
   ]
  },
  {
   "cell_type": "code",
   "execution_count": 48,
   "id": "d447fccb",
   "metadata": {},
   "outputs": [
    {
     "data": {
      "text/plain": [
       "{'honda': array(['would', 'recommend', 'honda'], dtype='<U12'),\n",
       " 'toyota': array(['toyota', 'choices', 'sedan', 'new'], dtype='<U12'),\n",
       " 'nissan': array(['nissan', 'looks', 'impressive', 'would', 'wait', 'reliability',\n",
       "        '2002', 'proventhe', 'new'], dtype='<U12'),\n",
       " 'bmw': array(['bmw', '525', 'another', 'nice', 'car', 'rated', 'highly', 'many',\n",
       "        'auto', 'publications'], dtype='<U12')}"
      ]
     },
     "execution_count": 48,
     "metadata": {},
     "output_type": "execute_result"
    }
   ],
   "source": [
    "# First approach: link all words found between brand mention and next brand mention.\n",
    "# Except for first brand which also receives words since beginning of message\n",
    "\n",
    "m = df.Message_words_v3[9] #record 9 is a good exaple\n",
    "\n",
    "def get_attr_in_the_right(m, brand_list):\n",
    "\n",
    "    brand_dic = {}\n",
    "    for brand in brands_list:\n",
    "        ix = np.where(m == brand)[0]\n",
    "        if len(ix) > 0:\n",
    "            brand_dic[brand] = ix[0]\n",
    "\n",
    "\n",
    "    brand_dic = dict(sorted(brand_dic.items(), key=lambda x:x[1]))\n",
    "\n",
    "    brand_list = list(brand_dic.values()) + [len(m)]\n",
    "\n",
    "    review={}\n",
    "    for i, tup in enumerate(brand_dic):\n",
    "#         print(brand_dic[tup])\n",
    "#         print(tup)\n",
    "        \n",
    "        if i == 0:\n",
    "            \n",
    "            review[tup] = m[0:brand_list[1]]\n",
    "        else:\n",
    "            review[tup] = m[brand_list[i]:brand_list[i+1]]\n",
    "            \n",
    "    return review\n",
    "\n",
    "\n",
    "\n",
    "get_attr_in_the_right(m, brands_list) #was brand_list, ASK CARLOS    "
   ]
  },
  {
   "cell_type": "code",
   "execution_count": 106,
   "id": "57971ed3",
   "metadata": {},
   "outputs": [
    {
     "name": "stderr",
     "output_type": "stream",
     "text": [
      "<ipython-input-48-516ca796f808>:10: FutureWarning: elementwise comparison failed; returning scalar instead, but in the future will perform elementwise comparison\n",
      "  ix = np.where(m == brand)[0]\n"
     ]
    }
   ],
   "source": [
    "# now we run it for all records\n",
    "\n",
    "brand_reviews_1st_approach = []\n",
    "\n",
    "for m in df.Message_words_v3:\n",
    "\n",
    "    brand_reviews_1st_approach.append(get_attr_in_the_right(m, brands_list))\n",
    "\n",
    "# generates a list (1 entry per row) of dictionaries {brand_1: part of text corresponding, \n",
    "# brand_2: part of text corresponding,}"
   ]
  },
  {
   "cell_type": "code",
   "execution_count": 109,
   "id": "b023f024",
   "metadata": {},
   "outputs": [],
   "source": [
    "\n",
    "\n",
    "review_accum_1st = {i:[] for i in brands_list} #deprecated dictionary but still interesting\n",
    "\n",
    "for brand in brands_list:\n",
    "    for review in brand_reviews_1st_approach:\n",
    "        for single_review in review:\n",
    "            #print(review[single_review])\n",
    "            if single_review==brand:\n",
    "                review_accum_1st[brand].extend(review[single_review])"
   ]
  },
  {
   "cell_type": "markdown",
   "id": "847fbe9f",
   "metadata": {},
   "source": [
    "## Task E: Finding Aspirational Brands\n",
    "Approach: Measure \"ASPIRATION\" as a distance between **their market share rank** and their **positive-comments share rank**"
   ]
  },
  {
   "cell_type": "markdown",
   "id": "2e007bf9",
   "metadata": {},
   "source": [
    "Step 1: Get a list of positive-sentiment words and count appearances for each brand"
   ]
  },
  {
   "cell_type": "code",
   "execution_count": 121,
   "id": "d6c7a346",
   "metadata": {},
   "outputs": [],
   "source": [
    "#import positive attributes\n",
    "pos_df = pd.read_csv('positive_indicator.csv') # words manually tagged as positive\n",
    "\n",
    "pos_attributes = list(pos_df[pos_df.positive_indicator == 1].word)\n",
    "brands = list(review_accum_1st.keys())\n",
    "\n",
    "pos_attribute_count = []\n",
    "\n",
    "for brand in brands: \n",
    "    count = 0\n",
    "    for i in pos_attributes: \n",
    "        for j in review_accum_1st[brand]: \n",
    "            if j == i:\n",
    "                count += 1\n",
    "    \n",
    "    pos_attribute_count.append(count)\n",
    "\n",
    "\n",
    "results_df = pd.DataFrame({'brand': brands, 'count': pos_attribute_count})\n",
    "results_df['rel_freq'] = results_df['count']*100/results_df['count'].sum()\n",
    "results_df.sort_values('count', ascending= False).reset_index(drop=True)\n",
    "\n",
    "\n",
    "# we remove brands with count = 0 and add a rank columns\n",
    "results_df = results_df[results_df['count'] > 0 ]\n",
    "\n",
    "results_df['pos_comment_rank'] = results_df['rel_freq'].rank(ascending=False)"
   ]
  },
  {
   "cell_type": "markdown",
   "id": "daa844f4",
   "metadata": {},
   "source": [
    "Step 2: Get brand share info from an external datasource and rank the brands according to their market share\n",
    "\n",
    " - Source: GoodCarBadCar, 2019:  https://www.goodcarbadcar.net/2019-u-s-auto-sales-figures-by-brand/"
   ]
  },
  {
   "cell_type": "code",
   "execution_count": 124,
   "id": "32dbddc6",
   "metadata": {},
   "outputs": [],
   "source": [
    "df_share = pd.read_excel('brand_share.xlsx')\n",
    "df_share.Brand = df_share.Brand.str.lower()\n",
    "df_share['rel_share'] = df_share.YTD*100/df_share.YTD.sum()\n",
    "df_share['share_rank'] = df_share.rel_share.rank(ascending = False)"
   ]
  },
  {
   "cell_type": "markdown",
   "id": "1d3f77e7",
   "metadata": {},
   "source": [
    "Step 3: Merge both data sources and look for largest distances (deltas)"
   ]
  },
  {
   "cell_type": "code",
   "execution_count": 125,
   "id": "0eaf2dd4",
   "metadata": {},
   "outputs": [],
   "source": [
    "df_share = df_share.merge(results_df, left_on = 'Brand', right_on = 'brand')"
   ]
  },
  {
   "cell_type": "code",
   "execution_count": 128,
   "id": "2a250be4",
   "metadata": {},
   "outputs": [],
   "source": [
    "df_share['dif_in_rank'] = df_share.share_rank - df_share.pos_comment_rank"
   ]
  },
  {
   "cell_type": "code",
   "execution_count": 129,
   "id": "e2fc4776",
   "metadata": {},
   "outputs": [
    {
     "data": {
      "text/plain": [
       "0      9.0\n",
       "1      9.0\n",
       "2      7.0\n",
       "3      2.5\n",
       "4     -1.5\n",
       "5     -1.0\n",
       "6     12.0\n",
       "7     -9.0\n",
       "8     -9.0\n",
       "9      2.0\n",
       "10    -6.0\n",
       "11     5.5\n",
       "12   -19.5\n",
       "13   -12.0\n",
       "14    -0.5\n",
       "15    -2.5\n",
       "16    10.0\n",
       "17    -4.5\n",
       "18     2.0\n",
       "19   -10.0\n",
       "20     1.0\n",
       "21     8.0\n",
       "22    13.0\n",
       "Name: dif_in_rank, dtype: float64"
      ]
     },
     "execution_count": 129,
     "metadata": {},
     "output_type": "execute_result"
    }
   ],
   "source": [
    "df_share['dif_in_rank']"
   ]
  },
  {
   "cell_type": "code",
   "execution_count": 141,
   "id": "c086d238",
   "metadata": {},
   "outputs": [
    {
     "data": {
      "text/html": [
       "<div>\n",
       "<style scoped>\n",
       "    .dataframe tbody tr th:only-of-type {\n",
       "        vertical-align: middle;\n",
       "    }\n",
       "\n",
       "    .dataframe tbody tr th {\n",
       "        vertical-align: top;\n",
       "    }\n",
       "\n",
       "    .dataframe thead th {\n",
       "        text-align: right;\n",
       "    }\n",
       "</style>\n",
       "<table border=\"1\" class=\"dataframe\">\n",
       "  <thead>\n",
       "    <tr style=\"text-align: right;\">\n",
       "      <th></th>\n",
       "      <th>Brand</th>\n",
       "      <th>share_rank</th>\n",
       "      <th>pos_comment_rank</th>\n",
       "      <th>dif_in_rank</th>\n",
       "    </tr>\n",
       "  </thead>\n",
       "  <tbody>\n",
       "    <tr>\n",
       "      <th>0</th>\n",
       "      <td>volvo</td>\n",
       "      <td>27.0</td>\n",
       "      <td>14.0</td>\n",
       "      <td>13.0</td>\n",
       "    </tr>\n",
       "    <tr>\n",
       "      <th>1</th>\n",
       "      <td>chrysler</td>\n",
       "      <td>23.0</td>\n",
       "      <td>11.0</td>\n",
       "      <td>12.0</td>\n",
       "    </tr>\n",
       "    <tr>\n",
       "      <th>2</th>\n",
       "      <td>mazda</td>\n",
       "      <td>17.0</td>\n",
       "      <td>7.0</td>\n",
       "      <td>10.0</td>\n",
       "    </tr>\n",
       "    <tr>\n",
       "      <th>3</th>\n",
       "      <td>audi</td>\n",
       "      <td>18.0</td>\n",
       "      <td>9.0</td>\n",
       "      <td>9.0</td>\n",
       "    </tr>\n",
       "    <tr>\n",
       "      <th>4</th>\n",
       "      <td>acura</td>\n",
       "      <td>21.0</td>\n",
       "      <td>12.0</td>\n",
       "      <td>9.0</td>\n",
       "    </tr>\n",
       "    <tr>\n",
       "      <th>5</th>\n",
       "      <td>volkswagen</td>\n",
       "      <td>13.0</td>\n",
       "      <td>5.0</td>\n",
       "      <td>8.0</td>\n",
       "    </tr>\n",
       "    <tr>\n",
       "      <th>6</th>\n",
       "      <td>bmw</td>\n",
       "      <td>15.0</td>\n",
       "      <td>8.0</td>\n",
       "      <td>7.0</td>\n",
       "    </tr>\n",
       "    <tr>\n",
       "      <th>7</th>\n",
       "      <td>infiniti</td>\n",
       "      <td>25.0</td>\n",
       "      <td>19.5</td>\n",
       "      <td>5.5</td>\n",
       "    </tr>\n",
       "    <tr>\n",
       "      <th>8</th>\n",
       "      <td>buick</td>\n",
       "      <td>19.0</td>\n",
       "      <td>16.5</td>\n",
       "      <td>2.5</td>\n",
       "    </tr>\n",
       "    <tr>\n",
       "      <th>9</th>\n",
       "      <td>honda</td>\n",
       "      <td>4.0</td>\n",
       "      <td>2.0</td>\n",
       "      <td>2.0</td>\n",
       "    </tr>\n",
       "    <tr>\n",
       "      <th>10</th>\n",
       "      <td>nissan</td>\n",
       "      <td>5.0</td>\n",
       "      <td>3.0</td>\n",
       "      <td>2.0</td>\n",
       "    </tr>\n",
       "    <tr>\n",
       "      <th>11</th>\n",
       "      <td>toyota</td>\n",
       "      <td>2.0</td>\n",
       "      <td>1.0</td>\n",
       "      <td>1.0</td>\n",
       "    </tr>\n",
       "    <tr>\n",
       "      <th>12</th>\n",
       "      <td>lexus</td>\n",
       "      <td>16.0</td>\n",
       "      <td>16.5</td>\n",
       "      <td>-0.5</td>\n",
       "    </tr>\n",
       "    <tr>\n",
       "      <th>13</th>\n",
       "      <td>chevrolet</td>\n",
       "      <td>3.0</td>\n",
       "      <td>4.0</td>\n",
       "      <td>-1.0</td>\n",
       "    </tr>\n",
       "    <tr>\n",
       "      <th>14</th>\n",
       "      <td>cadillac</td>\n",
       "      <td>22.0</td>\n",
       "      <td>23.5</td>\n",
       "      <td>-1.5</td>\n",
       "    </tr>\n",
       "    <tr>\n",
       "      <th>15</th>\n",
       "      <td>lincoln</td>\n",
       "      <td>26.0</td>\n",
       "      <td>28.5</td>\n",
       "      <td>-2.5</td>\n",
       "    </tr>\n",
       "    <tr>\n",
       "      <th>16</th>\n",
       "      <td>mitsubishi</td>\n",
       "      <td>24.0</td>\n",
       "      <td>28.5</td>\n",
       "      <td>-4.5</td>\n",
       "    </tr>\n",
       "    <tr>\n",
       "      <th>17</th>\n",
       "      <td>hyundai</td>\n",
       "      <td>9.0</td>\n",
       "      <td>15.0</td>\n",
       "      <td>-6.0</td>\n",
       "    </tr>\n",
       "    <tr>\n",
       "      <th>18</th>\n",
       "      <td>ford</td>\n",
       "      <td>1.0</td>\n",
       "      <td>10.0</td>\n",
       "      <td>-9.0</td>\n",
       "    </tr>\n",
       "    <tr>\n",
       "      <th>19</th>\n",
       "      <td>dodge</td>\n",
       "      <td>12.0</td>\n",
       "      <td>21.0</td>\n",
       "      <td>-9.0</td>\n",
       "    </tr>\n",
       "    <tr>\n",
       "      <th>20</th>\n",
       "      <td>subaru</td>\n",
       "      <td>8.0</td>\n",
       "      <td>18.0</td>\n",
       "      <td>-10.0</td>\n",
       "    </tr>\n",
       "    <tr>\n",
       "      <th>21</th>\n",
       "      <td>kia</td>\n",
       "      <td>10.0</td>\n",
       "      <td>22.0</td>\n",
       "      <td>-12.0</td>\n",
       "    </tr>\n",
       "    <tr>\n",
       "      <th>22</th>\n",
       "      <td>jeep</td>\n",
       "      <td>6.0</td>\n",
       "      <td>25.5</td>\n",
       "      <td>-19.5</td>\n",
       "    </tr>\n",
       "  </tbody>\n",
       "</table>\n",
       "</div>"
      ],
      "text/plain": [
       "         Brand  share_rank  pos_comment_rank  dif_in_rank\n",
       "0        volvo        27.0              14.0         13.0\n",
       "1     chrysler        23.0              11.0         12.0\n",
       "2        mazda        17.0               7.0         10.0\n",
       "3         audi        18.0               9.0          9.0\n",
       "4        acura        21.0              12.0          9.0\n",
       "5   volkswagen        13.0               5.0          8.0\n",
       "6          bmw        15.0               8.0          7.0\n",
       "7     infiniti        25.0              19.5          5.5\n",
       "8        buick        19.0              16.5          2.5\n",
       "9        honda         4.0               2.0          2.0\n",
       "10      nissan         5.0               3.0          2.0\n",
       "11      toyota         2.0               1.0          1.0\n",
       "12       lexus        16.0              16.5         -0.5\n",
       "13   chevrolet         3.0               4.0         -1.0\n",
       "14    cadillac        22.0              23.5         -1.5\n",
       "15     lincoln        26.0              28.5         -2.5\n",
       "16  mitsubishi        24.0              28.5         -4.5\n",
       "17     hyundai         9.0              15.0         -6.0\n",
       "18        ford         1.0              10.0         -9.0\n",
       "19       dodge        12.0              21.0         -9.0\n",
       "20      subaru         8.0              18.0        -10.0\n",
       "21         kia        10.0              22.0        -12.0\n",
       "22        jeep         6.0              25.5        -19.5"
      ]
     },
     "execution_count": 141,
     "metadata": {},
     "output_type": "execute_result"
    }
   ],
   "source": [
    "df_share.sort_values('dif_in_rank', ascending=False)[[\n",
    "    'Brand','share_rank', 'pos_comment_rank','dif_in_rank']].reset_index(drop=True)"
   ]
  },
  {
   "cell_type": "code",
   "execution_count": null,
   "id": "47ae1488",
   "metadata": {},
   "outputs": [],
   "source": []
  }
 ],
 "metadata": {
  "kernelspec": {
   "display_name": "Python 3",
   "language": "python",
   "name": "python3"
  },
  "language_info": {
   "codemirror_mode": {
    "name": "ipython",
    "version": 3
   },
   "file_extension": ".py",
   "mimetype": "text/x-python",
   "name": "python",
   "nbconvert_exporter": "python",
   "pygments_lexer": "ipython3",
   "version": "3.8.8"
  }
 },
 "nbformat": 4,
 "nbformat_minor": 5
}
